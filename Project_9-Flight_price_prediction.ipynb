{
 "cells": [
  {
   "cell_type": "markdown",
   "metadata": {},
   "source": [
    "# Flight Price Prediction\n",
    "#### Problem Statement:\n",
    "Flight ticket prices can be something hard to guess, today we might see a price, check out the price of the same flight tomorrow, it will be a different story. We might have often heard travellers saying that flight ticket prices are so unpredictable. Here you will be provided with prices of flight tickets for various airlines between the months of March and June of 2019 and between various cities."
   ]
  },
  {
   "cell_type": "markdown",
   "metadata": {},
   "source": [
    "### Importing necessary libraries"
   ]
  },
  {
   "cell_type": "code",
   "execution_count": 1,
   "metadata": {},
   "outputs": [],
   "source": [
    "# Basic libraries\n",
    "import pandas as pd\n",
    "import numpy as np\n",
    "import warnings\n",
    "warnings.filterwarnings('ignore')\n",
    "\n",
    "# Data visualization\n",
    "import matplotlib.pyplot as plt\n",
    "%matplotlib inline\n",
    "import seaborn as sns\n",
    "\n",
    "# importing algorithms\n",
    "from sklearn.linear_model import LinearRegression,Lasso,Ridge\n",
    "from sklearn.svm import SVR\n",
    "from sklearn.tree import DecisionTreeRegressor\n",
    "from sklearn.neighbors import KNeighborsRegressor\n",
    "\n",
    "# importing ensemble techniques\n",
    "from sklearn.ensemble import RandomForestRegressor\n",
    "from sklearn.ensemble import AdaBoostRegressor,GradientBoostingRegressor\n",
    "\n",
    "# Metrics and model selection\n",
    "from sklearn.metrics import r2_score,mean_absolute_error,mean_squared_error\n",
    "from sklearn.model_selection import cross_val_score,GridSearchCV\n",
    "\n",
    "\n"
   ]
  },
  {
   "cell_type": "markdown",
   "metadata": {},
   "source": [
    "### Loading Dataset"
   ]
  },
  {
   "cell_type": "markdown",
   "metadata": {},
   "source": [
    "#### Size of training set: 10683 records ,                                                              Size of test set: 2671 records"
   ]
  },
  {
   "cell_type": "code",
   "execution_count": 2,
   "metadata": {},
   "outputs": [
    {
     "data": {
      "text/html": [
       "<div>\n",
       "<style scoped>\n",
       "    .dataframe tbody tr th:only-of-type {\n",
       "        vertical-align: middle;\n",
       "    }\n",
       "\n",
       "    .dataframe tbody tr th {\n",
       "        vertical-align: top;\n",
       "    }\n",
       "\n",
       "    .dataframe thead th {\n",
       "        text-align: right;\n",
       "    }\n",
       "</style>\n",
       "<table border=\"1\" class=\"dataframe\">\n",
       "  <thead>\n",
       "    <tr style=\"text-align: right;\">\n",
       "      <th></th>\n",
       "      <th>Airline</th>\n",
       "      <th>Date_of_Journey</th>\n",
       "      <th>Source</th>\n",
       "      <th>Destination</th>\n",
       "      <th>Route</th>\n",
       "      <th>Dep_Time</th>\n",
       "      <th>Arrival_Time</th>\n",
       "      <th>Duration</th>\n",
       "      <th>Total_Stops</th>\n",
       "      <th>Additional_Info</th>\n",
       "      <th>Price</th>\n",
       "    </tr>\n",
       "  </thead>\n",
       "  <tbody>\n",
       "    <tr>\n",
       "      <th>0</th>\n",
       "      <td>IndiGo</td>\n",
       "      <td>2019-03-24</td>\n",
       "      <td>Banglore</td>\n",
       "      <td>New Delhi</td>\n",
       "      <td>BLR → DEL</td>\n",
       "      <td>22:20</td>\n",
       "      <td>01:10 22 Mar</td>\n",
       "      <td>2h 50m</td>\n",
       "      <td>non-stop</td>\n",
       "      <td>No info</td>\n",
       "      <td>3897</td>\n",
       "    </tr>\n",
       "    <tr>\n",
       "      <th>1</th>\n",
       "      <td>Air India</td>\n",
       "      <td>2019-01-05</td>\n",
       "      <td>Kolkata</td>\n",
       "      <td>Banglore</td>\n",
       "      <td>CCU → IXR → BBI → BLR</td>\n",
       "      <td>05:50</td>\n",
       "      <td>13:15</td>\n",
       "      <td>7h 25m</td>\n",
       "      <td>2 stops</td>\n",
       "      <td>No info</td>\n",
       "      <td>7662</td>\n",
       "    </tr>\n",
       "    <tr>\n",
       "      <th>2</th>\n",
       "      <td>Jet Airways</td>\n",
       "      <td>2019-09-06</td>\n",
       "      <td>Delhi</td>\n",
       "      <td>Cochin</td>\n",
       "      <td>DEL → LKO → BOM → COK</td>\n",
       "      <td>09:25</td>\n",
       "      <td>04:25 10 Jun</td>\n",
       "      <td>19h</td>\n",
       "      <td>2 stops</td>\n",
       "      <td>No info</td>\n",
       "      <td>13882</td>\n",
       "    </tr>\n",
       "    <tr>\n",
       "      <th>3</th>\n",
       "      <td>IndiGo</td>\n",
       "      <td>2019-12-05</td>\n",
       "      <td>Kolkata</td>\n",
       "      <td>Banglore</td>\n",
       "      <td>CCU → NAG → BLR</td>\n",
       "      <td>18:05</td>\n",
       "      <td>23:30</td>\n",
       "      <td>5h 25m</td>\n",
       "      <td>1 stop</td>\n",
       "      <td>No info</td>\n",
       "      <td>6218</td>\n",
       "    </tr>\n",
       "    <tr>\n",
       "      <th>4</th>\n",
       "      <td>IndiGo</td>\n",
       "      <td>2019-01-03</td>\n",
       "      <td>Banglore</td>\n",
       "      <td>New Delhi</td>\n",
       "      <td>BLR → NAG → DEL</td>\n",
       "      <td>16:50</td>\n",
       "      <td>21:35</td>\n",
       "      <td>4h 45m</td>\n",
       "      <td>1 stop</td>\n",
       "      <td>No info</td>\n",
       "      <td>13302</td>\n",
       "    </tr>\n",
       "  </tbody>\n",
       "</table>\n",
       "</div>"
      ],
      "text/plain": [
       "       Airline Date_of_Journey    Source Destination                  Route  \\\n",
       "0       IndiGo      2019-03-24  Banglore   New Delhi              BLR → DEL   \n",
       "1    Air India      2019-01-05   Kolkata    Banglore  CCU → IXR → BBI → BLR   \n",
       "2  Jet Airways      2019-09-06     Delhi      Cochin  DEL → LKO → BOM → COK   \n",
       "3       IndiGo      2019-12-05   Kolkata    Banglore        CCU → NAG → BLR   \n",
       "4       IndiGo      2019-01-03  Banglore   New Delhi        BLR → NAG → DEL   \n",
       "\n",
       "  Dep_Time  Arrival_Time Duration Total_Stops Additional_Info  Price  \n",
       "0    22:20  01:10 22 Mar   2h 50m    non-stop         No info   3897  \n",
       "1    05:50         13:15   7h 25m     2 stops         No info   7662  \n",
       "2    09:25  04:25 10 Jun      19h     2 stops         No info  13882  \n",
       "3    18:05         23:30   5h 25m      1 stop         No info   6218  \n",
       "4    16:50         21:35   4h 45m      1 stop         No info  13302  "
      ]
     },
     "execution_count": 2,
     "metadata": {},
     "output_type": "execute_result"
    }
   ],
   "source": [
    "train= pd.read_excel(\"Data_Train.xlsx\",parse_dates=[\"Date_of_Journey\"])\n",
    "# Reading top 5 rows\n",
    "train.head()"
   ]
  },
  {
   "cell_type": "code",
   "execution_count": 3,
   "metadata": {},
   "outputs": [
    {
     "data": {
      "text/html": [
       "<div>\n",
       "<style scoped>\n",
       "    .dataframe tbody tr th:only-of-type {\n",
       "        vertical-align: middle;\n",
       "    }\n",
       "\n",
       "    .dataframe tbody tr th {\n",
       "        vertical-align: top;\n",
       "    }\n",
       "\n",
       "    .dataframe thead th {\n",
       "        text-align: right;\n",
       "    }\n",
       "</style>\n",
       "<table border=\"1\" class=\"dataframe\">\n",
       "  <thead>\n",
       "    <tr style=\"text-align: right;\">\n",
       "      <th></th>\n",
       "      <th>Airline</th>\n",
       "      <th>Date_of_Journey</th>\n",
       "      <th>Source</th>\n",
       "      <th>Destination</th>\n",
       "      <th>Route</th>\n",
       "      <th>Dep_Time</th>\n",
       "      <th>Arrival_Time</th>\n",
       "      <th>Duration</th>\n",
       "      <th>Total_Stops</th>\n",
       "      <th>Additional_Info</th>\n",
       "    </tr>\n",
       "  </thead>\n",
       "  <tbody>\n",
       "    <tr>\n",
       "      <th>0</th>\n",
       "      <td>Jet Airways</td>\n",
       "      <td>2019-06-06</td>\n",
       "      <td>Delhi</td>\n",
       "      <td>Cochin</td>\n",
       "      <td>DEL → BOM → COK</td>\n",
       "      <td>17:30</td>\n",
       "      <td>04:25 07 Jun</td>\n",
       "      <td>10h 55m</td>\n",
       "      <td>1 stop</td>\n",
       "      <td>No info</td>\n",
       "    </tr>\n",
       "    <tr>\n",
       "      <th>1</th>\n",
       "      <td>IndiGo</td>\n",
       "      <td>2019-12-05</td>\n",
       "      <td>Kolkata</td>\n",
       "      <td>Banglore</td>\n",
       "      <td>CCU → MAA → BLR</td>\n",
       "      <td>06:20</td>\n",
       "      <td>10:20</td>\n",
       "      <td>4h</td>\n",
       "      <td>1 stop</td>\n",
       "      <td>No info</td>\n",
       "    </tr>\n",
       "    <tr>\n",
       "      <th>2</th>\n",
       "      <td>Jet Airways</td>\n",
       "      <td>2019-05-21</td>\n",
       "      <td>Delhi</td>\n",
       "      <td>Cochin</td>\n",
       "      <td>DEL → BOM → COK</td>\n",
       "      <td>19:15</td>\n",
       "      <td>19:00 22 May</td>\n",
       "      <td>23h 45m</td>\n",
       "      <td>1 stop</td>\n",
       "      <td>In-flight meal not included</td>\n",
       "    </tr>\n",
       "    <tr>\n",
       "      <th>3</th>\n",
       "      <td>Multiple carriers</td>\n",
       "      <td>2019-05-21</td>\n",
       "      <td>Delhi</td>\n",
       "      <td>Cochin</td>\n",
       "      <td>DEL → BOM → COK</td>\n",
       "      <td>08:00</td>\n",
       "      <td>21:00</td>\n",
       "      <td>13h</td>\n",
       "      <td>1 stop</td>\n",
       "      <td>No info</td>\n",
       "    </tr>\n",
       "    <tr>\n",
       "      <th>4</th>\n",
       "      <td>Air Asia</td>\n",
       "      <td>2019-06-24</td>\n",
       "      <td>Banglore</td>\n",
       "      <td>Delhi</td>\n",
       "      <td>BLR → DEL</td>\n",
       "      <td>23:55</td>\n",
       "      <td>02:45 25 Jun</td>\n",
       "      <td>2h 50m</td>\n",
       "      <td>non-stop</td>\n",
       "      <td>No info</td>\n",
       "    </tr>\n",
       "  </tbody>\n",
       "</table>\n",
       "</div>"
      ],
      "text/plain": [
       "             Airline Date_of_Journey    Source Destination            Route  \\\n",
       "0        Jet Airways      2019-06-06     Delhi      Cochin  DEL → BOM → COK   \n",
       "1             IndiGo      2019-12-05   Kolkata    Banglore  CCU → MAA → BLR   \n",
       "2        Jet Airways      2019-05-21     Delhi      Cochin  DEL → BOM → COK   \n",
       "3  Multiple carriers      2019-05-21     Delhi      Cochin  DEL → BOM → COK   \n",
       "4           Air Asia      2019-06-24  Banglore       Delhi        BLR → DEL   \n",
       "\n",
       "  Dep_Time  Arrival_Time Duration Total_Stops              Additional_Info  \n",
       "0    17:30  04:25 07 Jun  10h 55m      1 stop                      No info  \n",
       "1    06:20         10:20       4h      1 stop                      No info  \n",
       "2    19:15  19:00 22 May  23h 45m      1 stop  In-flight meal not included  \n",
       "3    08:00         21:00      13h      1 stop                      No info  \n",
       "4    23:55  02:45 25 Jun   2h 50m    non-stop                      No info  "
      ]
     },
     "execution_count": 3,
     "metadata": {},
     "output_type": "execute_result"
    }
   ],
   "source": [
    "test= pd.read_excel(\"test_set.xlsx\",parse_dates=[\"Date_of_Journey\"])\n",
    "# Reading top 5 rows\n",
    "test.head()"
   ]
  },
  {
   "cell_type": "code",
   "execution_count": 4,
   "metadata": {},
   "outputs": [
    {
     "name": "stdout",
     "output_type": "stream",
     "text": [
      "Training dataset contains 10683 rows and 11 columns.\n",
      "\n",
      "Testing dataset contains 2671 rows and 10 columns.\n"
     ]
    }
   ],
   "source": [
    "# checking the rows and columns of training dataset\n",
    "print(\"Training dataset contains {} rows and {} columns.\".format(len(train),len(train.columns)))\n",
    "\n",
    "print()\n",
    "\n",
    "# checking the rows and columns of testing dataset\n",
    "print(\"Testing dataset contains {} rows and {} columns.\".format(len(test),len(test.columns)))"
   ]
  },
  {
   "cell_type": "code",
   "execution_count": 5,
   "metadata": {},
   "outputs": [
    {
     "name": "stdout",
     "output_type": "stream",
     "text": [
      "Index(['Airline', 'Date_of_Journey', 'Source', 'Destination', 'Route',\n",
      "       'Dep_Time', 'Arrival_Time', 'Duration', 'Total_Stops',\n",
      "       'Additional_Info', 'Price'],\n",
      "      dtype='object')\n",
      "\n",
      "\n",
      "Index(['Airline', 'Date_of_Journey', 'Source', 'Destination', 'Route',\n",
      "       'Dep_Time', 'Arrival_Time', 'Duration', 'Total_Stops',\n",
      "       'Additional_Info'],\n",
      "      dtype='object')\n"
     ]
    }
   ],
   "source": [
    "# checking Training  columns\n",
    "print(train.columns)\n",
    "\n",
    "print(\"\\n\")\n",
    "\n",
    "# checking testing columns\n",
    "print(test.columns)\n"
   ]
  },
  {
   "cell_type": "markdown",
   "metadata": {},
   "source": [
    "#### FEATURES:\n",
    "* Airline: The name of the airline.\n",
    "\n",
    "* Date_of_Journey: The date of the journey\n",
    "\n",
    "* Source: The source from which the service begins.\n",
    "\n",
    "* Destination: The destination where the service ends.\n",
    "\n",
    "* Route: The route taken by the flight to reach the destination.\n",
    "\n",
    "* Dep_Time: The time when the journey starts from the source.\n",
    "\n",
    "* Arrival_Time: Time of arrival at the destination.\n",
    "\n",
    "* Duration: Total duration of the flight.\n",
    "\n",
    "* Total_Stops: Total stops between the source and destination.\n",
    "\n",
    "* Additional_Info: Additional information about the flight\n",
    "\n",
    "* Price: The price of the ticket"
   ]
  },
  {
   "cell_type": "code",
   "execution_count": 6,
   "metadata": {},
   "outputs": [
    {
     "name": "stdout",
     "output_type": "stream",
     "text": [
      "Airline                    object\n",
      "Date_of_Journey    datetime64[ns]\n",
      "Source                     object\n",
      "Destination                object\n",
      "Route                      object\n",
      "Dep_Time                   object\n",
      "Arrival_Time               object\n",
      "Duration                   object\n",
      "Total_Stops                object\n",
      "Additional_Info            object\n",
      "Price                       int64\n",
      "dtype: object\n"
     ]
    }
   ],
   "source": [
    "# Let's check training data type\n",
    "print(train.dtypes)"
   ]
  },
  {
   "cell_type": "code",
   "execution_count": 7,
   "metadata": {},
   "outputs": [
    {
     "data": {
      "text/plain": [
       "Airline                    object\n",
       "Date_of_Journey    datetime64[ns]\n",
       "Source                     object\n",
       "Destination                object\n",
       "Route                      object\n",
       "Dep_Time                   object\n",
       "Arrival_Time               object\n",
       "Duration                   object\n",
       "Total_Stops                object\n",
       "Additional_Info            object\n",
       "dtype: object"
      ]
     },
     "execution_count": 7,
     "metadata": {},
     "output_type": "execute_result"
    }
   ],
   "source": [
    "# Let's check testing data type\n",
    "test.dtypes"
   ]
  },
  {
   "cell_type": "markdown",
   "metadata": {},
   "source": [
    "###### Except Price feature in training dataset ,all other columns in both training and testing dataset are categorical in nature."
   ]
  },
  {
   "cell_type": "code",
   "execution_count": 8,
   "metadata": {},
   "outputs": [
    {
     "name": "stdout",
     "output_type": "stream",
     "text": [
      "<class 'pandas.core.frame.DataFrame'>\n",
      "RangeIndex: 10683 entries, 0 to 10682\n",
      "Data columns (total 11 columns):\n",
      " #   Column           Non-Null Count  Dtype         \n",
      "---  ------           --------------  -----         \n",
      " 0   Airline          10683 non-null  object        \n",
      " 1   Date_of_Journey  10683 non-null  datetime64[ns]\n",
      " 2   Source           10683 non-null  object        \n",
      " 3   Destination      10683 non-null  object        \n",
      " 4   Route            10682 non-null  object        \n",
      " 5   Dep_Time         10683 non-null  object        \n",
      " 6   Arrival_Time     10683 non-null  object        \n",
      " 7   Duration         10683 non-null  object        \n",
      " 8   Total_Stops      10682 non-null  object        \n",
      " 9   Additional_Info  10683 non-null  object        \n",
      " 10  Price            10683 non-null  int64         \n",
      "dtypes: datetime64[ns](1), int64(1), object(9)\n",
      "memory usage: 918.2+ KB\n"
     ]
    }
   ],
   "source": [
    "# Let's check full information about our trainig data\n",
    "train.info()"
   ]
  },
  {
   "cell_type": "markdown",
   "metadata": {},
   "source": [
    "###### 1 integer and 10 object data types in training dataset."
   ]
  },
  {
   "cell_type": "code",
   "execution_count": 9,
   "metadata": {},
   "outputs": [
    {
     "name": "stdout",
     "output_type": "stream",
     "text": [
      "<class 'pandas.core.frame.DataFrame'>\n",
      "RangeIndex: 2671 entries, 0 to 2670\n",
      "Data columns (total 10 columns):\n",
      " #   Column           Non-Null Count  Dtype         \n",
      "---  ------           --------------  -----         \n",
      " 0   Airline          2671 non-null   object        \n",
      " 1   Date_of_Journey  2671 non-null   datetime64[ns]\n",
      " 2   Source           2671 non-null   object        \n",
      " 3   Destination      2671 non-null   object        \n",
      " 4   Route            2671 non-null   object        \n",
      " 5   Dep_Time         2671 non-null   object        \n",
      " 6   Arrival_Time     2671 non-null   object        \n",
      " 7   Duration         2671 non-null   object        \n",
      " 8   Total_Stops      2671 non-null   object        \n",
      " 9   Additional_Info  2671 non-null   object        \n",
      "dtypes: datetime64[ns](1), object(9)\n",
      "memory usage: 208.8+ KB\n"
     ]
    }
   ],
   "source": [
    "# Let's check full information about our testing data\n",
    "test.info()"
   ]
  },
  {
   "cell_type": "markdown",
   "metadata": {},
   "source": [
    "###### Out of 10 columns in testing dataset all are object datatypes."
   ]
  },
  {
   "cell_type": "code",
   "execution_count": 10,
   "metadata": {},
   "outputs": [
    {
     "name": "stdout",
     "output_type": "stream",
     "text": [
      "Null values present in training dataset\n",
      "\n",
      "There is no null values in testing dataset\n"
     ]
    }
   ],
   "source": [
    "# Checking null values\n",
    "\n",
    "if train.isnull().sum().any()==True:\n",
    "    print(\"Null values present in training dataset\")\n",
    "else:\n",
    "    print(\"There is no null values in training dataset\")\n",
    "    \n",
    "print()\n",
    "\n",
    "if test.isnull().sum().any()==True:\n",
    "    print(\"Null values present in testing dataset\")\n",
    "else:\n",
    "    print(\"There is no null values in testing dataset\")"
   ]
  },
  {
   "cell_type": "code",
   "execution_count": 11,
   "metadata": {},
   "outputs": [
    {
     "data": {
      "text/plain": [
       "Airline            0\n",
       "Date_of_Journey    0\n",
       "Source             0\n",
       "Destination        0\n",
       "Route              1\n",
       "Dep_Time           0\n",
       "Arrival_Time       0\n",
       "Duration           0\n",
       "Total_Stops        1\n",
       "Additional_Info    0\n",
       "Price              0\n",
       "dtype: int64"
      ]
     },
     "execution_count": 11,
     "metadata": {},
     "output_type": "execute_result"
    }
   ],
   "source": [
    "# Checking null values in training dataset\n",
    "train.isnull().sum()"
   ]
  },
  {
   "cell_type": "markdown",
   "metadata": {},
   "source": [
    "###### 2 columns contains 1 null values each."
   ]
  },
  {
   "cell_type": "code",
   "execution_count": 12,
   "metadata": {},
   "outputs": [
    {
     "name": "stdout",
     "output_type": "stream",
     "text": [
      "Training data contains duplicate values\n",
      "\n",
      "\n",
      "Testing data contains duplicate values\n"
     ]
    }
   ],
   "source": [
    "# Let's check the duplicate values in training data\n",
    "if train.duplicated().sum().any()==True:\n",
    "    print(\"Training data contains duplicate values\")\n",
    "else:\n",
    "    print(\"There are no duplicate values in Training data\")\n",
    "    \n",
    "print(\"\\n\")\n",
    "\n",
    "# Let's check the duplicate values in testing data\n",
    "if test.duplicated().sum().any()==True:\n",
    "    print(\"Testing data contains duplicate values\")\n",
    "else:\n",
    "    print(\"There are no duplicate values in testing data\")"
   ]
  },
  {
   "cell_type": "code",
   "execution_count": 13,
   "metadata": {},
   "outputs": [],
   "source": [
    "# Removing duplicates values from training dataset.\n",
    "\n",
    "train.drop_duplicates(keep='first',inplace=True)"
   ]
  },
  {
   "cell_type": "code",
   "execution_count": 14,
   "metadata": {},
   "outputs": [],
   "source": [
    "# Removing duplicates values from testing dataset.\n",
    "\n",
    "test.drop_duplicates(keep='first',inplace=True)"
   ]
  },
  {
   "cell_type": "code",
   "execution_count": 15,
   "metadata": {},
   "outputs": [
    {
     "name": "stdout",
     "output_type": "stream",
     "text": [
      "After duplicates removal training dataset contains 10463 rows and 11 columns.\n",
      "\n",
      "After duplicates removal testing dataset contains 2645 rows and 10 columns.\n"
     ]
    }
   ],
   "source": [
    "#  After removing duplicates checking the rows and columns of training dataset\n",
    "print(\"After duplicates removal training dataset contains {} rows and {} columns.\".format(len(train),len(train.columns)))\n",
    "\n",
    "print()\n",
    "\n",
    "#  After removing duplicates checking the rows and columns of testing dataset\n",
    "print(\"After duplicates removal testing dataset contains {} rows and {} columns.\".format(len(test),len(test.columns)))"
   ]
  },
  {
   "cell_type": "code",
   "execution_count": 16,
   "metadata": {},
   "outputs": [
    {
     "data": {
      "image/png": "[encoded data removed]",
      "text/plain": [
       "<Figure size 1080x432 with 4 Axes>"
      ]
     },
     "metadata": {
      "needs_background": "light"
     },
     "output_type": "display_data"
    }
   ],
   "source": [
    "# checking heatmap for null values\n",
    "\n",
    "f=plt.figure(figsize=(15,6))\n",
    "f.add_subplot(1,2,1)\n",
    "sns.heatmap(train.isnull())\n",
    "plt.title(\"Training dataset null values\")\n",
    "\n",
    "f.add_subplot(1,2,2)\n",
    "sns.heatmap(test.isnull())\n",
    "plt.title(\"Testing datset null values\")\n",
    "plt.show()"
   ]
  },
  {
   "cell_type": "markdown",
   "metadata": {},
   "source": [
    "###### Black graph in training dataset shows that there are missing values in training dataset, as we also know there are 2 missing values in 2 columns ,while the red graph of testing dataset shows that there are no null values in it."
   ]
  },
  {
   "cell_type": "code",
   "execution_count": 17,
   "metadata": {},
   "outputs": [
    {
     "data": {
      "text/html": [
       "<div>\n",
       "<style scoped>\n",
       "    .dataframe tbody tr th:only-of-type {\n",
       "        vertical-align: middle;\n",
       "    }\n",
       "\n",
       "    .dataframe tbody tr th {\n",
       "        vertical-align: top;\n",
       "    }\n",
       "\n",
       "    .dataframe thead th {\n",
       "        text-align: right;\n",
       "    }\n",
       "</style>\n",
       "<table border=\"1\" class=\"dataframe\">\n",
       "  <thead>\n",
       "    <tr style=\"text-align: right;\">\n",
       "      <th></th>\n",
       "      <th>Price</th>\n",
       "    </tr>\n",
       "  </thead>\n",
       "  <tbody>\n",
       "    <tr>\n",
       "      <th>count</th>\n",
       "      <td>10463.000000</td>\n",
       "    </tr>\n",
       "    <tr>\n",
       "      <th>mean</th>\n",
       "      <td>9026.642454</td>\n",
       "    </tr>\n",
       "    <tr>\n",
       "      <th>std</th>\n",
       "      <td>4624.653227</td>\n",
       "    </tr>\n",
       "    <tr>\n",
       "      <th>min</th>\n",
       "      <td>1759.000000</td>\n",
       "    </tr>\n",
       "    <tr>\n",
       "      <th>25%</th>\n",
       "      <td>5224.000000</td>\n",
       "    </tr>\n",
       "    <tr>\n",
       "      <th>50%</th>\n",
       "      <td>8266.000000</td>\n",
       "    </tr>\n",
       "    <tr>\n",
       "      <th>75%</th>\n",
       "      <td>12343.500000</td>\n",
       "    </tr>\n",
       "    <tr>\n",
       "      <th>max</th>\n",
       "      <td>79512.000000</td>\n",
       "    </tr>\n",
       "  </tbody>\n",
       "</table>\n",
       "</div>"
      ],
      "text/plain": [
       "              Price\n",
       "count  10463.000000\n",
       "mean    9026.642454\n",
       "std     4624.653227\n",
       "min     1759.000000\n",
       "25%     5224.000000\n",
       "50%     8266.000000\n",
       "75%    12343.500000\n",
       "max    79512.000000"
      ]
     },
     "execution_count": 17,
     "metadata": {},
     "output_type": "execute_result"
    }
   ],
   "source": [
    "# Let's check training features description\n",
    "train.describe()"
   ]
  },
  {
   "cell_type": "markdown",
   "metadata": {},
   "source": [
    "###### There is skewness in Price feature, but this is our target feature there is no need of treating this."
   ]
  },
  {
   "cell_type": "markdown",
   "metadata": {},
   "source": [
    "### Data Cleaning"
   ]
  },
  {
   "cell_type": "code",
   "execution_count": 18,
   "metadata": {},
   "outputs": [
    {
     "data": {
      "text/html": [
       "<div>\n",
       "<style scoped>\n",
       "    .dataframe tbody tr th:only-of-type {\n",
       "        vertical-align: middle;\n",
       "    }\n",
       "\n",
       "    .dataframe tbody tr th {\n",
       "        vertical-align: top;\n",
       "    }\n",
       "\n",
       "    .dataframe thead th {\n",
       "        text-align: right;\n",
       "    }\n",
       "</style>\n",
       "<table border=\"1\" class=\"dataframe\">\n",
       "  <thead>\n",
       "    <tr style=\"text-align: right;\">\n",
       "      <th></th>\n",
       "      <th>Airline</th>\n",
       "      <th>Date_of_Journey</th>\n",
       "      <th>Source</th>\n",
       "      <th>Destination</th>\n",
       "      <th>Route</th>\n",
       "      <th>Dep_Time</th>\n",
       "      <th>Arrival_Time</th>\n",
       "      <th>Duration</th>\n",
       "      <th>Total_Stops</th>\n",
       "      <th>Additional_Info</th>\n",
       "      <th>Price</th>\n",
       "    </tr>\n",
       "  </thead>\n",
       "  <tbody>\n",
       "    <tr>\n",
       "      <th>9039</th>\n",
       "      <td>Air India</td>\n",
       "      <td>2019-06-05</td>\n",
       "      <td>Delhi</td>\n",
       "      <td>Cochin</td>\n",
       "      <td>NaN</td>\n",
       "      <td>09:45</td>\n",
       "      <td>09:25 07 May</td>\n",
       "      <td>23h 40m</td>\n",
       "      <td>NaN</td>\n",
       "      <td>No info</td>\n",
       "      <td>7480</td>\n",
       "    </tr>\n",
       "  </tbody>\n",
       "</table>\n",
       "</div>"
      ],
      "text/plain": [
       "        Airline Date_of_Journey Source Destination Route Dep_Time  \\\n",
       "9039  Air India      2019-06-05  Delhi      Cochin   NaN    09:45   \n",
       "\n",
       "      Arrival_Time Duration Total_Stops Additional_Info  Price  \n",
       "9039  09:25 07 May  23h 40m         NaN         No info   7480  "
      ]
     },
     "execution_count": 18,
     "metadata": {},
     "output_type": "execute_result"
    }
   ],
   "source": [
    "# Removing null values from training dataset.\n",
    "train[train['Route'].isna()]\n",
    "\n",
    "# both nan values of 2 different columns are present in same row.So we can drop it."
   ]
  },
  {
   "cell_type": "code",
   "execution_count": 19,
   "metadata": {},
   "outputs": [],
   "source": [
    "# Dropping nan values by index\n",
    "train.drop(index=train[train['Route'].isna()].index,axis=0,inplace=True)"
   ]
  },
  {
   "cell_type": "code",
   "execution_count": 20,
   "metadata": {},
   "outputs": [
    {
     "data": {
      "text/plain": [
       "Airline            0\n",
       "Date_of_Journey    0\n",
       "Source             0\n",
       "Destination        0\n",
       "Route              0\n",
       "Dep_Time           0\n",
       "Arrival_Time       0\n",
       "Duration           0\n",
       "Total_Stops        0\n",
       "Additional_Info    0\n",
       "Price              0\n",
       "dtype: int64"
      ]
     },
     "execution_count": 20,
     "metadata": {},
     "output_type": "execute_result"
    }
   ],
   "source": [
    "# Checking null values dropped or not\n",
    "train.isna().sum()"
   ]
  },
  {
   "cell_type": "code",
   "execution_count": 21,
   "metadata": {},
   "outputs": [
    {
     "data": {
      "text/plain": [
       "Index(['Airline', 'Date_of_Journey', 'Source', 'Destination', 'Route',\n",
       "       'Dep_Time', 'Arrival_Time', 'Duration', 'Total_Stops',\n",
       "       'Additional_Info', 'Price'],\n",
       "      dtype='object')"
      ]
     },
     "execution_count": 21,
     "metadata": {},
     "output_type": "execute_result"
    }
   ],
   "source": [
    "train.columns"
   ]
  },
  {
   "cell_type": "code",
   "execution_count": 22,
   "metadata": {},
   "outputs": [
    {
     "name": "stdout",
     "output_type": "stream",
     "text": [
      "Jet Airways                          3700\n",
      "IndiGo                               2043\n",
      "Air India                            1694\n",
      "Multiple carriers                    1196\n",
      "SpiceJet                              815\n",
      "Vistara                               478\n",
      "Air Asia                              319\n",
      "GoAir                                 194\n",
      "Multiple carriers Premium economy      13\n",
      "Jet Airways Business                    6\n",
      "Vistara Premium economy                 3\n",
      "Trujet                                  1\n",
      "Name: Airline, dtype: int64\n",
      "\n",
      "Jet Airways                          886\n",
      "IndiGo                               509\n",
      "Air India                            432\n",
      "Multiple carriers                    343\n",
      "SpiceJet                             208\n",
      "Vistara                              129\n",
      "Air Asia                              86\n",
      "GoAir                                 45\n",
      "Multiple carriers Premium economy      3\n",
      "Jet Airways Business                   2\n",
      "Vistara Premium economy                2\n",
      "Name: Airline, dtype: int64\n"
     ]
    }
   ],
   "source": [
    "print(train['Airline'].value_counts())\n",
    "print()\n",
    "print(test['Airline'].value_counts())"
   ]
  },
  {
   "cell_type": "markdown",
   "metadata": {},
   "source": []
  },
  {
   "cell_type": "code",
   "execution_count": 24,
   "metadata": {},
   "outputs": [
    {
     "data": {
      "text/plain": [
       "Text(0.5, 1.0, 'Test data')"
      ]
     },
     "execution_count": 24,
     "metadata": {},
     "output_type": "execute_result"
    },
    {
     "data": {
      "image/png": "[encoded data removed]",
      "text/plain": [
       "<Figure size 1008x216 with 2 Axes>"
      ]
     },
     "metadata": {
      "needs_background": "light"
     },
     "output_type": "display_data"
    }
   ],
   "source": [
    "f=plt.figure(figsize=(14,3))\n",
    "f.add_subplot(1,2,1)\n",
    "sns.countplot(x='Airline',data=train,palette='Set1')\n",
    "plt.xticks(rotation=90)\n",
    "plt.title(\"Train data\")\n",
    "\n",
    "f.add_subplot(1,2,2)\n",
    "sns.countplot(x='Airline',data=test,palette='Set1',saturation=0.55)\n",
    "plt.xticks(rotation=90)\n",
    "plt.title(\"Test data\")"
   ]
  },
  {
   "cell_type": "markdown",
   "metadata": {},
   "source": [
    "###### Jet airways ,Indigo,Air India are most used flights while Jet Airways Business,Vistara Premium,Multiple carriers Premium are the least used flights."
   ]
  },
  {
   "cell_type": "code",
   "execution_count": 25,
   "metadata": {},
   "outputs": [
    {
     "data": {
      "text/plain": [
       "Text(0.5, 1.0, 'Train data')"
      ]
     },
     "execution_count": 25,
     "metadata": {},
     "output_type": "execute_result"
    },
    {
     "data": {
      "image/png": "[encoded data removed]",
      "text/plain": [
       "<Figure size 1008x360 with 1 Axes>"
      ]
     },
     "metadata": {
      "needs_background": "light"
     },
     "output_type": "display_data"
    }
   ],
   "source": [
    "f=plt.figure(figsize=(14,5))\n",
    "\n",
    "sns.scatterplot(x='Airline',data=train,y='Price',palette='Set1')\n",
    "plt.xticks(rotation=90)\n",
    "plt.title(\"Train data\")"
   ]
  },
  {
   "cell_type": "markdown",
   "metadata": {},
   "source": [
    "###### Jet Airways with business class is charging hishest price among all while spicejet and Truject are charging least among all."
   ]
  },
  {
   "cell_type": "code",
   "execution_count": 26,
   "metadata": {},
   "outputs": [],
   "source": [
    "# let's do cleaning of Airline feature\n",
    "\n",
    "# Train data\n",
    "train['Airline'].replace({'Multiple carriers Premium economy':\"other\",\"Jet Airways Business\":\"other\",\"Vistara Premium economy\":\"other\",\"Trujet\":\"other\"},inplace=True)\n",
    "\n",
    "#Test Data\n",
    "test['Airline'].replace({'Multiple carriers Premium economy':\"other\",\"Jet Airways Business\":\"other\",\"Vistara Premium economy\":\"other\"},inplace=True)"
   ]
  },
  {
   "cell_type": "code",
   "execution_count": 27,
   "metadata": {},
   "outputs": [
    {
     "data": {
      "text/plain": [
       "Jet Airways          3700\n",
       "IndiGo               2043\n",
       "Air India            1694\n",
       "Multiple carriers    1196\n",
       "SpiceJet              815\n",
       "Vistara               478\n",
       "Air Asia              319\n",
       "GoAir                 194\n",
       "other                  23\n",
       "Name: Airline, dtype: int64"
      ]
     },
     "execution_count": 27,
     "metadata": {},
     "output_type": "execute_result"
    }
   ],
   "source": [
    "train['Airline'].value_counts()"
   ]
  },
  {
   "cell_type": "code",
   "execution_count": 28,
   "metadata": {},
   "outputs": [
    {
     "data": {
      "text/html": [
       "<div>\n",
       "<style scoped>\n",
       "    .dataframe tbody tr th:only-of-type {\n",
       "        vertical-align: middle;\n",
       "    }\n",
       "\n",
       "    .dataframe tbody tr th {\n",
       "        vertical-align: top;\n",
       "    }\n",
       "\n",
       "    .dataframe thead th {\n",
       "        text-align: right;\n",
       "    }\n",
       "</style>\n",
       "<table border=\"1\" class=\"dataframe\">\n",
       "  <thead>\n",
       "    <tr style=\"text-align: right;\">\n",
       "      <th></th>\n",
       "      <th>Airline</th>\n",
       "      <th>Date_of_Journey</th>\n",
       "      <th>Source</th>\n",
       "      <th>Destination</th>\n",
       "      <th>Route</th>\n",
       "      <th>Dep_Time</th>\n",
       "      <th>Arrival_Time</th>\n",
       "      <th>Duration</th>\n",
       "      <th>Total_Stops</th>\n",
       "      <th>Additional_Info</th>\n",
       "      <th>Price</th>\n",
       "    </tr>\n",
       "  </thead>\n",
       "  <tbody>\n",
       "    <tr>\n",
       "      <th>0</th>\n",
       "      <td>IndiGo</td>\n",
       "      <td>2019-03-24</td>\n",
       "      <td>Banglore</td>\n",
       "      <td>New Delhi</td>\n",
       "      <td>BLR → DEL</td>\n",
       "      <td>22:20</td>\n",
       "      <td>01:10 22 Mar</td>\n",
       "      <td>2h 50m</td>\n",
       "      <td>non-stop</td>\n",
       "      <td>No info</td>\n",
       "      <td>3897</td>\n",
       "    </tr>\n",
       "    <tr>\n",
       "      <th>1</th>\n",
       "      <td>Air India</td>\n",
       "      <td>2019-01-05</td>\n",
       "      <td>Kolkata</td>\n",
       "      <td>Banglore</td>\n",
       "      <td>CCU → IXR → BBI → BLR</td>\n",
       "      <td>05:50</td>\n",
       "      <td>13:15</td>\n",
       "      <td>7h 25m</td>\n",
       "      <td>2 stops</td>\n",
       "      <td>No info</td>\n",
       "      <td>7662</td>\n",
       "    </tr>\n",
       "    <tr>\n",
       "      <th>2</th>\n",
       "      <td>Jet Airways</td>\n",
       "      <td>2019-09-06</td>\n",
       "      <td>Delhi</td>\n",
       "      <td>Cochin</td>\n",
       "      <td>DEL → LKO → BOM → COK</td>\n",
       "      <td>09:25</td>\n",
       "      <td>04:25 10 Jun</td>\n",
       "      <td>19h</td>\n",
       "      <td>2 stops</td>\n",
       "      <td>No info</td>\n",
       "      <td>13882</td>\n",
       "    </tr>\n",
       "    <tr>\n",
       "      <th>3</th>\n",
       "      <td>IndiGo</td>\n",
       "      <td>2019-12-05</td>\n",
       "      <td>Kolkata</td>\n",
       "      <td>Banglore</td>\n",
       "      <td>CCU → NAG → BLR</td>\n",
       "      <td>18:05</td>\n",
       "      <td>23:30</td>\n",
       "      <td>5h 25m</td>\n",
       "      <td>1 stop</td>\n",
       "      <td>No info</td>\n",
       "      <td>6218</td>\n",
       "    </tr>\n",
       "    <tr>\n",
       "      <th>4</th>\n",
       "      <td>IndiGo</td>\n",
       "      <td>2019-01-03</td>\n",
       "      <td>Banglore</td>\n",
       "      <td>New Delhi</td>\n",
       "      <td>BLR → NAG → DEL</td>\n",
       "      <td>16:50</td>\n",
       "      <td>21:35</td>\n",
       "      <td>4h 45m</td>\n",
       "      <td>1 stop</td>\n",
       "      <td>No info</td>\n",
       "      <td>13302</td>\n",
       "    </tr>\n",
       "  </tbody>\n",
       "</table>\n",
       "</div>"
      ],
      "text/plain": [
       "       Airline Date_of_Journey    Source Destination                  Route  \\\n",
       "0       IndiGo      2019-03-24  Banglore   New Delhi              BLR → DEL   \n",
       "1    Air India      2019-01-05   Kolkata    Banglore  CCU → IXR → BBI → BLR   \n",
       "2  Jet Airways      2019-09-06     Delhi      Cochin  DEL → LKO → BOM → COK   \n",
       "3       IndiGo      2019-12-05   Kolkata    Banglore        CCU → NAG → BLR   \n",
       "4       IndiGo      2019-01-03  Banglore   New Delhi        BLR → NAG → DEL   \n",
       "\n",
       "  Dep_Time  Arrival_Time Duration Total_Stops Additional_Info  Price  \n",
       "0    22:20  01:10 22 Mar   2h 50m    non-stop         No info   3897  \n",
       "1    05:50         13:15   7h 25m     2 stops         No info   7662  \n",
       "2    09:25  04:25 10 Jun      19h     2 stops         No info  13882  \n",
       "3    18:05         23:30   5h 25m      1 stop         No info   6218  \n",
       "4    16:50         21:35   4h 45m      1 stop         No info  13302  "
      ]
     },
     "execution_count": 28,
     "metadata": {},
     "output_type": "execute_result"
    }
   ],
   "source": [
    "train.head()"
   ]
  },
  {
   "cell_type": "code",
   "execution_count": 29,
   "metadata": {},
   "outputs": [],
   "source": [
    "# Cleaning date_of_journey feature from training data\n",
    "train['Journey_day']=train['Date_of_Journey'].apply(lambda x:x.day)\n",
    "train['Journey_month']=train['Date_of_Journey'].apply(lambda x:x.month)\n",
    "train['Journey_year']=train['Date_of_Journey'].apply(lambda x:x.year)\n",
    "\n",
    "# Cleaning date_of_journey feature from testing data\n",
    "test['Journey_day']=test['Date_of_Journey'].apply(lambda x:x.day)\n",
    "test['Journey_month']=test['Date_of_Journey'].apply(lambda x:x.month)\n",
    "test['Journey_year']=test['Date_of_Journey'].apply(lambda x:x.year)"
   ]
  },
  {
   "cell_type": "code",
   "execution_count": 30,
   "metadata": {},
   "outputs": [
    {
     "data": {
      "text/html": [
       "<div>\n",
       "<style scoped>\n",
       "    .dataframe tbody tr th:only-of-type {\n",
       "        vertical-align: middle;\n",
       "    }\n",
       "\n",
       "    .dataframe tbody tr th {\n",
       "        vertical-align: top;\n",
       "    }\n",
       "\n",
       "    .dataframe thead th {\n",
       "        text-align: right;\n",
       "    }\n",
       "</style>\n",
       "<table border=\"1\" class=\"dataframe\">\n",
       "  <thead>\n",
       "    <tr style=\"text-align: right;\">\n",
       "      <th></th>\n",
       "      <th>Airline</th>\n",
       "      <th>Source</th>\n",
       "      <th>Destination</th>\n",
       "      <th>Route</th>\n",
       "      <th>Dep_Time</th>\n",
       "      <th>Arrival_Time</th>\n",
       "      <th>Duration</th>\n",
       "      <th>Total_Stops</th>\n",
       "      <th>Additional_Info</th>\n",
       "      <th>Price</th>\n",
       "      <th>Journey_day</th>\n",
       "      <th>Journey_month</th>\n",
       "      <th>Journey_year</th>\n",
       "    </tr>\n",
       "  </thead>\n",
       "  <tbody>\n",
       "    <tr>\n",
       "      <th>0</th>\n",
       "      <td>IndiGo</td>\n",
       "      <td>Banglore</td>\n",
       "      <td>New Delhi</td>\n",
       "      <td>BLR → DEL</td>\n",
       "      <td>22:20</td>\n",
       "      <td>01:10 22 Mar</td>\n",
       "      <td>2h 50m</td>\n",
       "      <td>non-stop</td>\n",
       "      <td>No info</td>\n",
       "      <td>3897</td>\n",
       "      <td>24</td>\n",
       "      <td>3</td>\n",
       "      <td>2019</td>\n",
       "    </tr>\n",
       "    <tr>\n",
       "      <th>1</th>\n",
       "      <td>Air India</td>\n",
       "      <td>Kolkata</td>\n",
       "      <td>Banglore</td>\n",
       "      <td>CCU → IXR → BBI → BLR</td>\n",
       "      <td>05:50</td>\n",
       "      <td>13:15</td>\n",
       "      <td>7h 25m</td>\n",
       "      <td>2 stops</td>\n",
       "      <td>No info</td>\n",
       "      <td>7662</td>\n",
       "      <td>5</td>\n",
       "      <td>1</td>\n",
       "      <td>2019</td>\n",
       "    </tr>\n",
       "  </tbody>\n",
       "</table>\n",
       "</div>"
      ],
      "text/plain": [
       "     Airline    Source Destination                  Route Dep_Time  \\\n",
       "0     IndiGo  Banglore   New Delhi              BLR → DEL    22:20   \n",
       "1  Air India   Kolkata    Banglore  CCU → IXR → BBI → BLR    05:50   \n",
       "\n",
       "   Arrival_Time Duration Total_Stops Additional_Info  Price  Journey_day  \\\n",
       "0  01:10 22 Mar   2h 50m    non-stop         No info   3897           24   \n",
       "1         13:15   7h 25m     2 stops         No info   7662            5   \n",
       "\n",
       "   Journey_month  Journey_year  \n",
       "0              3          2019  \n",
       "1              1          2019  "
      ]
     },
     "execution_count": 30,
     "metadata": {},
     "output_type": "execute_result"
    }
   ],
   "source": [
    "# Drpping date_of_journey feature\n",
    "train.drop('Date_of_Journey',axis=1,inplace=True)\n",
    "train.head(2)"
   ]
  },
  {
   "cell_type": "code",
   "execution_count": 31,
   "metadata": {},
   "outputs": [
    {
     "data": {
      "text/html": [
       "<div>\n",
       "<style scoped>\n",
       "    .dataframe tbody tr th:only-of-type {\n",
       "        vertical-align: middle;\n",
       "    }\n",
       "\n",
       "    .dataframe tbody tr th {\n",
       "        vertical-align: top;\n",
       "    }\n",
       "\n",
       "    .dataframe thead th {\n",
       "        text-align: right;\n",
       "    }\n",
       "</style>\n",
       "<table border=\"1\" class=\"dataframe\">\n",
       "  <thead>\n",
       "    <tr style=\"text-align: right;\">\n",
       "      <th></th>\n",
       "      <th>Airline</th>\n",
       "      <th>Source</th>\n",
       "      <th>Destination</th>\n",
       "      <th>Route</th>\n",
       "      <th>Dep_Time</th>\n",
       "      <th>Arrival_Time</th>\n",
       "      <th>Duration</th>\n",
       "      <th>Total_Stops</th>\n",
       "      <th>Additional_Info</th>\n",
       "      <th>Journey_day</th>\n",
       "      <th>Journey_month</th>\n",
       "      <th>Journey_year</th>\n",
       "    </tr>\n",
       "  </thead>\n",
       "  <tbody>\n",
       "    <tr>\n",
       "      <th>0</th>\n",
       "      <td>Jet Airways</td>\n",
       "      <td>Delhi</td>\n",
       "      <td>Cochin</td>\n",
       "      <td>DEL → BOM → COK</td>\n",
       "      <td>17:30</td>\n",
       "      <td>04:25 07 Jun</td>\n",
       "      <td>10h 55m</td>\n",
       "      <td>1 stop</td>\n",
       "      <td>No info</td>\n",
       "      <td>6</td>\n",
       "      <td>6</td>\n",
       "      <td>2019</td>\n",
       "    </tr>\n",
       "    <tr>\n",
       "      <th>1</th>\n",
       "      <td>IndiGo</td>\n",
       "      <td>Kolkata</td>\n",
       "      <td>Banglore</td>\n",
       "      <td>CCU → MAA → BLR</td>\n",
       "      <td>06:20</td>\n",
       "      <td>10:20</td>\n",
       "      <td>4h</td>\n",
       "      <td>1 stop</td>\n",
       "      <td>No info</td>\n",
       "      <td>5</td>\n",
       "      <td>12</td>\n",
       "      <td>2019</td>\n",
       "    </tr>\n",
       "  </tbody>\n",
       "</table>\n",
       "</div>"
      ],
      "text/plain": [
       "       Airline   Source Destination            Route Dep_Time  Arrival_Time  \\\n",
       "0  Jet Airways    Delhi      Cochin  DEL → BOM → COK    17:30  04:25 07 Jun   \n",
       "1       IndiGo  Kolkata    Banglore  CCU → MAA → BLR    06:20         10:20   \n",
       "\n",
       "  Duration Total_Stops Additional_Info  Journey_day  Journey_month  \\\n",
       "0  10h 55m      1 stop         No info            6              6   \n",
       "1       4h      1 stop         No info            5             12   \n",
       "\n",
       "   Journey_year  \n",
       "0          2019  \n",
       "1          2019  "
      ]
     },
     "execution_count": 31,
     "metadata": {},
     "output_type": "execute_result"
    }
   ],
   "source": [
    "# Drpping date_of_journey feature\n",
    "test.drop('Date_of_Journey',axis=1,inplace=True)\n",
    "test.head(2)"
   ]
  },
  {
   "cell_type": "code",
   "execution_count": 32,
   "metadata": {},
   "outputs": [
    {
     "name": "stdout",
     "output_type": "stream",
     "text": [
      "[24  5  6  3 27 18 15 21  4]\n",
      "[ 3  1  9 12  6  5  4]\n",
      "[2019]\n"
     ]
    }
   ],
   "source": [
    "print(train['Journey_day'].unique())\n",
    "print(train['Journey_month'].unique())\n",
    "print(train['Journey_year'].unique())"
   ]
  },
  {
   "cell_type": "code",
   "execution_count": 33,
   "metadata": {},
   "outputs": [
    {
     "name": "stdout",
     "output_type": "stream",
     "text": [
      "[ 6  5 21 24  3 15 18  4 27]\n",
      "[ 6 12  5  1  3  9  4]\n",
      "[2019]\n"
     ]
    }
   ],
   "source": [
    "#Cheking uniue values\n",
    "print(test['Journey_day'].unique())\n",
    "print(test['Journey_month'].unique())\n",
    "print(test['Journey_year'].unique())"
   ]
  },
  {
   "cell_type": "code",
   "execution_count": 34,
   "metadata": {},
   "outputs": [],
   "source": [
    "# Let's drop the journey year as there is only 2019 year in data.\n",
    "train.drop('Journey_year',axis=1,inplace=True)\n",
    "\n",
    "test.drop('Journey_year',axis=1,inplace=True)"
   ]
  },
  {
   "cell_type": "code",
   "execution_count": 35,
   "metadata": {},
   "outputs": [
    {
     "data": {
      "text/plain": [
       "Text(0.5, 1.0, 'Test data')"
      ]
     },
     "execution_count": 35,
     "metadata": {},
     "output_type": "execute_result"
    },
    {
     "data": {
      "image/png": "[encoded data removed]",
      "text/plain": [
       "<Figure size 1008x216 with 2 Axes>"
      ]
     },
     "metadata": {
      "needs_background": "light"
     },
     "output_type": "display_data"
    }
   ],
   "source": [
    "f=plt.figure(figsize=(14,3))\n",
    "f.add_subplot(1,2,1)\n",
    "sns.countplot(x='Journey_day',data=train,palette='Set1')\n",
    "plt.xticks(rotation=90)\n",
    "plt.title(\"Train data\")\n",
    "\n",
    "f.add_subplot(1,2,2)\n",
    "sns.countplot(x='Journey_day',data=test,palette='Set1',saturation=0.55)\n",
    "plt.xticks(rotation=90)\n",
    "plt.title(\"Test data\")"
   ]
  },
  {
   "cell_type": "code",
   "execution_count": 36,
   "metadata": {},
   "outputs": [
    {
     "data": {
      "text/plain": [
       "Text(0.5, 1.0, 'Test data')"
      ]
     },
     "execution_count": 36,
     "metadata": {},
     "output_type": "execute_result"
    },
    {
     "data": {
      "image/png": "[encoded data removed]",
      "text/plain": [
       "<Figure size 1008x216 with 2 Axes>"
      ]
     },
     "metadata": {
      "needs_background": "light"
     },
     "output_type": "display_data"
    }
   ],
   "source": [
    "f=plt.figure(figsize=(14,3))\n",
    "f.add_subplot(1,2,1)\n",
    "sns.countplot(x='Journey_month',data=train,palette='twilight_shifted_r')\n",
    "plt.xticks(rotation=90)\n",
    "plt.title(\"Train data\")\n",
    "\n",
    "f.add_subplot(1,2,2)\n",
    "sns.countplot(x='Journey_month',data=test,palette='gist_yarg_r',saturation=0.55)\n",
    "plt.xticks(rotation=90)\n",
    "plt.title(\"Test data\")"
   ]
  },
  {
   "cell_type": "code",
   "execution_count": 37,
   "metadata": {},
   "outputs": [
    {
     "data": {
      "text/plain": [
       "Text(0.5, 1.0, 'Test data')"
      ]
     },
     "execution_count": 37,
     "metadata": {},
     "output_type": "execute_result"
    },
    {
     "data": {
      "image/png": "[encoded data removed]",
      "text/plain": [
       "<Figure size 1152x360 with 2 Axes>"
      ]
     },
     "metadata": {
      "needs_background": "light"
     },
     "output_type": "display_data"
    }
   ],
   "source": [
    "f=plt.figure(figsize=(16,5))\n",
    "f.add_subplot(1,2,1)\n",
    "sns.barplot(x='Source',y='Price',data=train,palette='rainbow')\n",
    "plt.xticks(rotation=90)\n",
    "plt.title(\"Train data\")\n",
    "\n",
    "f.add_subplot(1,2,2)\n",
    "sns.countplot(x='Source',data=test,palette='tab20_r',saturation=0.55)\n",
    "plt.xticks(rotation=90)\n",
    "plt.title(\"Test data\")"
   ]
  },
  {
   "cell_type": "markdown",
   "metadata": {},
   "source": [
    "###### Maximum flights are taken from Delhi and Kolkata ,while Delhi is charging high price then kolkata."
   ]
  },
  {
   "cell_type": "code",
   "execution_count": 38,
   "metadata": {},
   "outputs": [
    {
     "data": {
      "text/plain": [
       "Text(0.5, 1.0, 'Test data')"
      ]
     },
     "execution_count": 38,
     "metadata": {},
     "output_type": "execute_result"
    },
    {
     "data": {
      "image/png": "[encoded data removed]",
      "text/plain": [
       "<Figure size 1008x216 with 2 Axes>"
      ]
     },
     "metadata": {
      "needs_background": "light"
     },
     "output_type": "display_data"
    }
   ],
   "source": [
    "f=plt.figure(figsize=(14,3))\n",
    "f.add_subplot(1,2,1)\n",
    "sns.countplot(x='Destination',data=train,palette='Set1')\n",
    "plt.xticks(rotation=90)\n",
    "plt.title(\"Train data\")\n",
    "\n",
    "f.add_subplot(1,2,2)\n",
    "sns.countplot(x='Destination',data=test,palette='Set1',saturation=0.55)\n",
    "plt.xticks(rotation=90)\n",
    "plt.title(\"Test data\")"
   ]
  },
  {
   "cell_type": "code",
   "execution_count": 39,
   "metadata": {},
   "outputs": [],
   "source": [
    "\n",
    "#Replacing the value 'New Delhi' in the datasets with 'Delhi' as both are the same cities\n",
    "\n",
    "train['Destination']=train['Destination'].replace('New Delhi', 'Delhi')\n",
    "test['Destination']=test['Destination'].replace('New Delhi', 'Delhi')"
   ]
  },
  {
   "cell_type": "code",
   "execution_count": 40,
   "metadata": {},
   "outputs": [],
   "source": [
    "# Cleaning Dep_Time feature\n",
    "\n",
    "# Training dataset\n",
    "train['dep_hr']=pd.to_datetime(train['Dep_Time']).dt.hour\n",
    "train['dep_min']=pd.to_datetime(train['Dep_Time']).dt.minute\n",
    "train.drop('Dep_Time',axis=1,inplace=True)\n",
    "\n",
    "#Testing dataset\n",
    "test['dep_hr']=pd.to_datetime(test['Dep_Time']).dt.hour\n",
    "test['dep_min']=pd.to_datetime(test['Dep_Time']).dt.minute\n",
    "test.drop('Dep_Time',axis=1,inplace=True)"
   ]
  },
  {
   "cell_type": "code",
   "execution_count": 41,
   "metadata": {},
   "outputs": [
    {
     "data": {
      "text/html": [
       "<div>\n",
       "<style scoped>\n",
       "    .dataframe tbody tr th:only-of-type {\n",
       "        vertical-align: middle;\n",
       "    }\n",
       "\n",
       "    .dataframe tbody tr th {\n",
       "        vertical-align: top;\n",
       "    }\n",
       "\n",
       "    .dataframe thead th {\n",
       "        text-align: right;\n",
       "    }\n",
       "</style>\n",
       "<table border=\"1\" class=\"dataframe\">\n",
       "  <thead>\n",
       "    <tr style=\"text-align: right;\">\n",
       "      <th></th>\n",
       "      <th>Airline</th>\n",
       "      <th>Source</th>\n",
       "      <th>Destination</th>\n",
       "      <th>Route</th>\n",
       "      <th>Arrival_Time</th>\n",
       "      <th>Duration</th>\n",
       "      <th>Total_Stops</th>\n",
       "      <th>Additional_Info</th>\n",
       "      <th>Price</th>\n",
       "      <th>Journey_day</th>\n",
       "      <th>Journey_month</th>\n",
       "      <th>dep_hr</th>\n",
       "      <th>dep_min</th>\n",
       "    </tr>\n",
       "  </thead>\n",
       "  <tbody>\n",
       "    <tr>\n",
       "      <th>0</th>\n",
       "      <td>IndiGo</td>\n",
       "      <td>Banglore</td>\n",
       "      <td>Delhi</td>\n",
       "      <td>BLR → DEL</td>\n",
       "      <td>01:10 22 Mar</td>\n",
       "      <td>2h 50m</td>\n",
       "      <td>non-stop</td>\n",
       "      <td>No info</td>\n",
       "      <td>3897</td>\n",
       "      <td>24</td>\n",
       "      <td>3</td>\n",
       "      <td>22</td>\n",
       "      <td>20</td>\n",
       "    </tr>\n",
       "    <tr>\n",
       "      <th>1</th>\n",
       "      <td>Air India</td>\n",
       "      <td>Kolkata</td>\n",
       "      <td>Banglore</td>\n",
       "      <td>CCU → IXR → BBI → BLR</td>\n",
       "      <td>13:15</td>\n",
       "      <td>7h 25m</td>\n",
       "      <td>2 stops</td>\n",
       "      <td>No info</td>\n",
       "      <td>7662</td>\n",
       "      <td>5</td>\n",
       "      <td>1</td>\n",
       "      <td>5</td>\n",
       "      <td>50</td>\n",
       "    </tr>\n",
       "  </tbody>\n",
       "</table>\n",
       "</div>"
      ],
      "text/plain": [
       "     Airline    Source Destination                  Route  Arrival_Time  \\\n",
       "0     IndiGo  Banglore       Delhi              BLR → DEL  01:10 22 Mar   \n",
       "1  Air India   Kolkata    Banglore  CCU → IXR → BBI → BLR         13:15   \n",
       "\n",
       "  Duration Total_Stops Additional_Info  Price  Journey_day  Journey_month  \\\n",
       "0   2h 50m    non-stop         No info   3897           24              3   \n",
       "1   7h 25m     2 stops         No info   7662            5              1   \n",
       "\n",
       "   dep_hr  dep_min  \n",
       "0      22       20  \n",
       "1       5       50  "
      ]
     },
     "execution_count": 41,
     "metadata": {},
     "output_type": "execute_result"
    }
   ],
   "source": [
    "train.head(2)"
   ]
  },
  {
   "cell_type": "code",
   "execution_count": 42,
   "metadata": {},
   "outputs": [
    {
     "data": {
      "text/plain": [
       "<matplotlib.axes._subplots.AxesSubplot at 0x28b0e205d90>"
      ]
     },
     "execution_count": 42,
     "metadata": {},
     "output_type": "execute_result"
    },
    {
     "data": {
      "image/png": "[encoded data removed]",
      "text/plain": [
       "<Figure size 432x288 with 1 Axes>"
      ]
     },
     "metadata": {
      "needs_background": "light"
     },
     "output_type": "display_data"
    }
   ],
   "source": [
    "sns.countplot(train['dep_hr'])"
   ]
  },
  {
   "cell_type": "markdown",
   "metadata": {},
   "source": [
    "###### More flights are taking off at the morning and evening time."
   ]
  },
  {
   "cell_type": "code",
   "execution_count": 43,
   "metadata": {},
   "outputs": [
    {
     "data": {
      "text/html": [
       "<div>\n",
       "<style scoped>\n",
       "    .dataframe tbody tr th:only-of-type {\n",
       "        vertical-align: middle;\n",
       "    }\n",
       "\n",
       "    .dataframe tbody tr th {\n",
       "        vertical-align: top;\n",
       "    }\n",
       "\n",
       "    .dataframe thead th {\n",
       "        text-align: right;\n",
       "    }\n",
       "</style>\n",
       "<table border=\"1\" class=\"dataframe\">\n",
       "  <thead>\n",
       "    <tr style=\"text-align: right;\">\n",
       "      <th></th>\n",
       "      <th>Airline</th>\n",
       "      <th>Source</th>\n",
       "      <th>Destination</th>\n",
       "      <th>Route</th>\n",
       "      <th>Arrival_Time</th>\n",
       "      <th>Duration</th>\n",
       "      <th>Total_Stops</th>\n",
       "      <th>Additional_Info</th>\n",
       "      <th>Journey_day</th>\n",
       "      <th>Journey_month</th>\n",
       "      <th>dep_hr</th>\n",
       "      <th>dep_min</th>\n",
       "    </tr>\n",
       "  </thead>\n",
       "  <tbody>\n",
       "    <tr>\n",
       "      <th>0</th>\n",
       "      <td>Jet Airways</td>\n",
       "      <td>Delhi</td>\n",
       "      <td>Cochin</td>\n",
       "      <td>DEL → BOM → COK</td>\n",
       "      <td>04:25 07 Jun</td>\n",
       "      <td>10h 55m</td>\n",
       "      <td>1 stop</td>\n",
       "      <td>No info</td>\n",
       "      <td>6</td>\n",
       "      <td>6</td>\n",
       "      <td>17</td>\n",
       "      <td>30</td>\n",
       "    </tr>\n",
       "    <tr>\n",
       "      <th>1</th>\n",
       "      <td>IndiGo</td>\n",
       "      <td>Kolkata</td>\n",
       "      <td>Banglore</td>\n",
       "      <td>CCU → MAA → BLR</td>\n",
       "      <td>10:20</td>\n",
       "      <td>4h</td>\n",
       "      <td>1 stop</td>\n",
       "      <td>No info</td>\n",
       "      <td>5</td>\n",
       "      <td>12</td>\n",
       "      <td>6</td>\n",
       "      <td>20</td>\n",
       "    </tr>\n",
       "  </tbody>\n",
       "</table>\n",
       "</div>"
      ],
      "text/plain": [
       "       Airline   Source Destination            Route  Arrival_Time Duration  \\\n",
       "0  Jet Airways    Delhi      Cochin  DEL → BOM → COK  04:25 07 Jun  10h 55m   \n",
       "1       IndiGo  Kolkata    Banglore  CCU → MAA → BLR         10:20       4h   \n",
       "\n",
       "  Total_Stops Additional_Info  Journey_day  Journey_month  dep_hr  dep_min  \n",
       "0      1 stop         No info            6              6      17       30  \n",
       "1      1 stop         No info            5             12       6       20  "
      ]
     },
     "execution_count": 43,
     "metadata": {},
     "output_type": "execute_result"
    }
   ],
   "source": [
    "test.head(2)"
   ]
  },
  {
   "cell_type": "code",
   "execution_count": 44,
   "metadata": {},
   "outputs": [],
   "source": [
    "# Cleaning Arrival_Time feature\n",
    "\n",
    "# Training dataset\n",
    "train['arival_hr']=pd.to_datetime(train['Arrival_Time']).dt.hour\n",
    "train['arival_min']=pd.to_datetime(train['Arrival_Time']).dt.minute\n",
    "train.drop('Arrival_Time',axis=1,inplace=True)\n",
    "\n",
    "#Testing dataset\n",
    "test['arival_hr']=pd.to_datetime(test['Arrival_Time']).dt.hour\n",
    "test['arival_min']=pd.to_datetime(test['Arrival_Time']).dt.minute\n",
    "test.drop('Arrival_Time',axis=1,inplace=True)"
   ]
  },
  {
   "cell_type": "code",
   "execution_count": 45,
   "metadata": {},
   "outputs": [
    {
     "data": {
      "text/html": [
       "<div>\n",
       "<style scoped>\n",
       "    .dataframe tbody tr th:only-of-type {\n",
       "        vertical-align: middle;\n",
       "    }\n",
       "\n",
       "    .dataframe tbody tr th {\n",
       "        vertical-align: top;\n",
       "    }\n",
       "\n",
       "    .dataframe thead th {\n",
       "        text-align: right;\n",
       "    }\n",
       "</style>\n",
       "<table border=\"1\" class=\"dataframe\">\n",
       "  <thead>\n",
       "    <tr style=\"text-align: right;\">\n",
       "      <th></th>\n",
       "      <th>Airline</th>\n",
       "      <th>Source</th>\n",
       "      <th>Destination</th>\n",
       "      <th>Route</th>\n",
       "      <th>Duration</th>\n",
       "      <th>Total_Stops</th>\n",
       "      <th>Additional_Info</th>\n",
       "      <th>Price</th>\n",
       "      <th>Journey_day</th>\n",
       "      <th>Journey_month</th>\n",
       "      <th>dep_hr</th>\n",
       "      <th>dep_min</th>\n",
       "      <th>arival_hr</th>\n",
       "      <th>arival_min</th>\n",
       "    </tr>\n",
       "  </thead>\n",
       "  <tbody>\n",
       "    <tr>\n",
       "      <th>0</th>\n",
       "      <td>IndiGo</td>\n",
       "      <td>Banglore</td>\n",
       "      <td>Delhi</td>\n",
       "      <td>BLR → DEL</td>\n",
       "      <td>2h 50m</td>\n",
       "      <td>non-stop</td>\n",
       "      <td>No info</td>\n",
       "      <td>3897</td>\n",
       "      <td>24</td>\n",
       "      <td>3</td>\n",
       "      <td>22</td>\n",
       "      <td>20</td>\n",
       "      <td>1</td>\n",
       "      <td>10</td>\n",
       "    </tr>\n",
       "    <tr>\n",
       "      <th>1</th>\n",
       "      <td>Air India</td>\n",
       "      <td>Kolkata</td>\n",
       "      <td>Banglore</td>\n",
       "      <td>CCU → IXR → BBI → BLR</td>\n",
       "      <td>7h 25m</td>\n",
       "      <td>2 stops</td>\n",
       "      <td>No info</td>\n",
       "      <td>7662</td>\n",
       "      <td>5</td>\n",
       "      <td>1</td>\n",
       "      <td>5</td>\n",
       "      <td>50</td>\n",
       "      <td>13</td>\n",
       "      <td>15</td>\n",
       "    </tr>\n",
       "  </tbody>\n",
       "</table>\n",
       "</div>"
      ],
      "text/plain": [
       "     Airline    Source Destination                  Route Duration  \\\n",
       "0     IndiGo  Banglore       Delhi              BLR → DEL   2h 50m   \n",
       "1  Air India   Kolkata    Banglore  CCU → IXR → BBI → BLR   7h 25m   \n",
       "\n",
       "  Total_Stops Additional_Info  Price  Journey_day  Journey_month  dep_hr  \\\n",
       "0    non-stop         No info   3897           24              3      22   \n",
       "1     2 stops         No info   7662            5              1       5   \n",
       "\n",
       "   dep_min  arival_hr  arival_min  \n",
       "0       20          1          10  \n",
       "1       50         13          15  "
      ]
     },
     "execution_count": 45,
     "metadata": {},
     "output_type": "execute_result"
    }
   ],
   "source": [
    "train.head(2)"
   ]
  },
  {
   "cell_type": "code",
   "execution_count": 46,
   "metadata": {},
   "outputs": [
    {
     "data": {
      "text/plain": [
       "<matplotlib.axes._subplots.AxesSubplot at 0x28b0d9f4a60>"
      ]
     },
     "execution_count": 46,
     "metadata": {},
     "output_type": "execute_result"
    },
    {
     "data": {
      "image/png": "[encoded data removed]",
      "text/plain": [
       "<Figure size 432x288 with 1 Axes>"
      ]
     },
     "metadata": {
      "needs_background": "light"
     },
     "output_type": "display_data"
    }
   ],
   "source": [
    "sns.countplot(train['arival_hr'])"
   ]
  },
  {
   "cell_type": "code",
   "execution_count": 47,
   "metadata": {},
   "outputs": [],
   "source": [
    "# Cleaning Duration feature\n",
    "\n",
    "# Train data\n",
    "train['Duration']=train['Duration'].str.replace(\"h\",\"*60\").str.replace(\" \",\"+\").str.replace(\"m\",\"*1\").apply(eval)\n",
    "\n",
    "# Test data\n",
    "test['Duration']=test['Duration'].str.replace(\"h\",\"*60\").str.replace(\" \",\"+\").str.replace(\"m\",\"*1\").apply(eval)"
   ]
  },
  {
   "cell_type": "code",
   "execution_count": 48,
   "metadata": {},
   "outputs": [
    {
     "data": {
      "text/plain": [
       "<matplotlib.axes._subplots.AxesSubplot at 0x28b0daa1af0>"
      ]
     },
     "execution_count": 48,
     "metadata": {},
     "output_type": "execute_result"
    },
    {
     "data": {
      "image/png": "[encoded data removed]",
      "text/plain": [
       "<Figure size 432x288 with 1 Axes>"
      ]
     },
     "metadata": {
      "needs_background": "light"
     },
     "output_type": "display_data"
    }
   ],
   "source": [
    "sns.scatterplot(x=train['Duration'],y=train['Airline'])"
   ]
  },
  {
   "cell_type": "code",
   "execution_count": 49,
   "metadata": {},
   "outputs": [
    {
     "data": {
      "text/html": [
       "<div>\n",
       "<style scoped>\n",
       "    .dataframe tbody tr th:only-of-type {\n",
       "        vertical-align: middle;\n",
       "    }\n",
       "\n",
       "    .dataframe tbody tr th {\n",
       "        vertical-align: top;\n",
       "    }\n",
       "\n",
       "    .dataframe thead th {\n",
       "        text-align: right;\n",
       "    }\n",
       "</style>\n",
       "<table border=\"1\" class=\"dataframe\">\n",
       "  <thead>\n",
       "    <tr style=\"text-align: right;\">\n",
       "      <th></th>\n",
       "      <th>Airline</th>\n",
       "      <th>Source</th>\n",
       "      <th>Destination</th>\n",
       "      <th>Route</th>\n",
       "      <th>Duration</th>\n",
       "      <th>Total_Stops</th>\n",
       "      <th>Additional_Info</th>\n",
       "      <th>Price</th>\n",
       "      <th>Journey_day</th>\n",
       "      <th>Journey_month</th>\n",
       "      <th>dep_hr</th>\n",
       "      <th>dep_min</th>\n",
       "      <th>arival_hr</th>\n",
       "      <th>arival_min</th>\n",
       "    </tr>\n",
       "  </thead>\n",
       "  <tbody>\n",
       "    <tr>\n",
       "      <th>0</th>\n",
       "      <td>IndiGo</td>\n",
       "      <td>Banglore</td>\n",
       "      <td>Delhi</td>\n",
       "      <td>BLR → DEL</td>\n",
       "      <td>170</td>\n",
       "      <td>non-stop</td>\n",
       "      <td>No info</td>\n",
       "      <td>3897</td>\n",
       "      <td>24</td>\n",
       "      <td>3</td>\n",
       "      <td>22</td>\n",
       "      <td>20</td>\n",
       "      <td>1</td>\n",
       "      <td>10</td>\n",
       "    </tr>\n",
       "    <tr>\n",
       "      <th>1</th>\n",
       "      <td>Air India</td>\n",
       "      <td>Kolkata</td>\n",
       "      <td>Banglore</td>\n",
       "      <td>CCU → IXR → BBI → BLR</td>\n",
       "      <td>445</td>\n",
       "      <td>2 stops</td>\n",
       "      <td>No info</td>\n",
       "      <td>7662</td>\n",
       "      <td>5</td>\n",
       "      <td>1</td>\n",
       "      <td>5</td>\n",
       "      <td>50</td>\n",
       "      <td>13</td>\n",
       "      <td>15</td>\n",
       "    </tr>\n",
       "  </tbody>\n",
       "</table>\n",
       "</div>"
      ],
      "text/plain": [
       "     Airline    Source Destination                  Route  Duration  \\\n",
       "0     IndiGo  Banglore       Delhi              BLR → DEL       170   \n",
       "1  Air India   Kolkata    Banglore  CCU → IXR → BBI → BLR       445   \n",
       "\n",
       "  Total_Stops Additional_Info  Price  Journey_day  Journey_month  dep_hr  \\\n",
       "0    non-stop         No info   3897           24              3      22   \n",
       "1     2 stops         No info   7662            5              1       5   \n",
       "\n",
       "   dep_min  arival_hr  arival_min  \n",
       "0       20          1          10  \n",
       "1       50         13          15  "
      ]
     },
     "execution_count": 49,
     "metadata": {},
     "output_type": "execute_result"
    }
   ],
   "source": [
    "train.head(2)"
   ]
  },
  {
   "cell_type": "code",
   "execution_count": 50,
   "metadata": {},
   "outputs": [
    {
     "name": "stdout",
     "output_type": "stream",
     "text": [
      "['non-stop' '2 stops' '1 stop' '3 stops' '4 stops']\n",
      "\n",
      "['1 stop' 'non-stop' '2 stops' '3 stops' '4 stops']\n"
     ]
    }
   ],
   "source": [
    "# Total_stops feature\n",
    "\n",
    "print(train['Total_Stops'].unique())\n",
    "print()\n",
    "print(test['Total_Stops'].unique())\n"
   ]
  },
  {
   "cell_type": "code",
   "execution_count": 51,
   "metadata": {},
   "outputs": [],
   "source": [
    "# Cleaning Total_stops feature\n",
    "\n",
    "# Train\n",
    "train['Total_Stops'].replace({\"non-stop\":0,\"2 stops\":2,\"1 stop\":1,\"3 stops\":3,\"4 stops\":4},inplace=True)\n",
    "\n",
    "# Test\n",
    "test['Total_Stops'].replace({\"non-stop\":0,\"2 stops\":2,\"1 stop\":1,\"3 stops\":3,\"4 stops\":4},inplace=True)"
   ]
  },
  {
   "cell_type": "code",
   "execution_count": 52,
   "metadata": {},
   "outputs": [
    {
     "data": {
      "text/plain": [
       "<matplotlib.axes._subplots.AxesSubplot at 0x28b0de08610>"
      ]
     },
     "execution_count": 52,
     "metadata": {},
     "output_type": "execute_result"
    },
    {
     "data": {
      "image/png": "[encoded data removed]",
      "text/plain": [
       "<Figure size 432x288 with 1 Axes>"
      ]
     },
     "metadata": {
      "needs_background": "light"
     },
     "output_type": "display_data"
    }
   ],
   "source": [
    "sns.barplot(x=train['Total_Stops'],y=train['Price'],palette='ocean')"
   ]
  },
  {
   "cell_type": "markdown",
   "metadata": {},
   "source": [
    "###### There si high price if there are more stops in between travel."
   ]
  },
  {
   "cell_type": "code",
   "execution_count": 53,
   "metadata": {},
   "outputs": [
    {
     "data": {
      "text/html": [
       "<div>\n",
       "<style scoped>\n",
       "    .dataframe tbody tr th:only-of-type {\n",
       "        vertical-align: middle;\n",
       "    }\n",
       "\n",
       "    .dataframe tbody tr th {\n",
       "        vertical-align: top;\n",
       "    }\n",
       "\n",
       "    .dataframe thead th {\n",
       "        text-align: right;\n",
       "    }\n",
       "</style>\n",
       "<table border=\"1\" class=\"dataframe\">\n",
       "  <thead>\n",
       "    <tr style=\"text-align: right;\">\n",
       "      <th></th>\n",
       "      <th>Airline</th>\n",
       "      <th>Source</th>\n",
       "      <th>Destination</th>\n",
       "      <th>Route</th>\n",
       "      <th>Duration</th>\n",
       "      <th>Total_Stops</th>\n",
       "      <th>Additional_Info</th>\n",
       "      <th>Price</th>\n",
       "      <th>Journey_day</th>\n",
       "      <th>Journey_month</th>\n",
       "      <th>dep_hr</th>\n",
       "      <th>dep_min</th>\n",
       "      <th>arival_hr</th>\n",
       "      <th>arival_min</th>\n",
       "    </tr>\n",
       "  </thead>\n",
       "  <tbody>\n",
       "    <tr>\n",
       "      <th>0</th>\n",
       "      <td>IndiGo</td>\n",
       "      <td>Banglore</td>\n",
       "      <td>Delhi</td>\n",
       "      <td>BLR → DEL</td>\n",
       "      <td>170</td>\n",
       "      <td>0</td>\n",
       "      <td>No info</td>\n",
       "      <td>3897</td>\n",
       "      <td>24</td>\n",
       "      <td>3</td>\n",
       "      <td>22</td>\n",
       "      <td>20</td>\n",
       "      <td>1</td>\n",
       "      <td>10</td>\n",
       "    </tr>\n",
       "    <tr>\n",
       "      <th>1</th>\n",
       "      <td>Air India</td>\n",
       "      <td>Kolkata</td>\n",
       "      <td>Banglore</td>\n",
       "      <td>CCU → IXR → BBI → BLR</td>\n",
       "      <td>445</td>\n",
       "      <td>2</td>\n",
       "      <td>No info</td>\n",
       "      <td>7662</td>\n",
       "      <td>5</td>\n",
       "      <td>1</td>\n",
       "      <td>5</td>\n",
       "      <td>50</td>\n",
       "      <td>13</td>\n",
       "      <td>15</td>\n",
       "    </tr>\n",
       "  </tbody>\n",
       "</table>\n",
       "</div>"
      ],
      "text/plain": [
       "     Airline    Source Destination                  Route  Duration  \\\n",
       "0     IndiGo  Banglore       Delhi              BLR → DEL       170   \n",
       "1  Air India   Kolkata    Banglore  CCU → IXR → BBI → BLR       445   \n",
       "\n",
       "   Total_Stops Additional_Info  Price  Journey_day  Journey_month  dep_hr  \\\n",
       "0            0         No info   3897           24              3      22   \n",
       "1            2         No info   7662            5              1       5   \n",
       "\n",
       "   dep_min  arival_hr  arival_min  \n",
       "0       20          1          10  \n",
       "1       50         13          15  "
      ]
     },
     "execution_count": 53,
     "metadata": {},
     "output_type": "execute_result"
    }
   ],
   "source": [
    "train.head(2)"
   ]
  },
  {
   "cell_type": "code",
   "execution_count": 54,
   "metadata": {},
   "outputs": [
    {
     "data": {
      "text/plain": [
       "Text(0, 0.5, 'Price of ticket')"
      ]
     },
     "execution_count": 54,
     "metadata": {},
     "output_type": "execute_result"
    },
    {
     "data": {
      "image/png": "[encoded data removed]",
      "text/plain": [
       "<Figure size 1080x360 with 1 Axes>"
      ]
     },
     "metadata": {
      "needs_background": "light"
     },
     "output_type": "display_data"
    }
   ],
   "source": [
    "plt.figure(figsize = (15, 5))\n",
    "plt.title('Price VS Additional Information')\n",
    "sns.scatterplot(train['Additional_Info'], train['Price'],data=train)\n",
    "plt.xticks(rotation = 90)\n",
    "plt.xlabel('Information')\n",
    "plt.ylabel('Price of ticket')"
   ]
  },
  {
   "cell_type": "markdown",
   "metadata": {},
   "source": [
    "###### Business class with high prices,while no check-in baggage is with lowest price."
   ]
  },
  {
   "cell_type": "code",
   "execution_count": 55,
   "metadata": {},
   "outputs": [
    {
     "name": "stdout",
     "output_type": "stream",
     "text": [
      "No info                         8182\n",
      "In-flight meal not included     1926\n",
      "No check-in baggage included     318\n",
      "1 Long layover                    19\n",
      "Change airports                    7\n",
      "Business class                     4\n",
      "No Info                            3\n",
      "2 Long layover                     1\n",
      "Red-eye flight                     1\n",
      "1 Short layover                    1\n",
      "Name: Additional_Info, dtype: int64\n",
      "\n",
      "No info                         2126\n",
      "In-flight meal not included      440\n",
      "No check-in baggage included      76\n",
      "1 Long layover                     1\n",
      "Change airports                    1\n",
      "Business class                     1\n",
      "Name: Additional_Info, dtype: int64\n"
     ]
    }
   ],
   "source": [
    "# Addition_info feature\n",
    "print(train['Additional_Info'].value_counts())\n",
    "print()\n",
    "print(test['Additional_Info'].value_counts())\n"
   ]
  },
  {
   "cell_type": "code",
   "execution_count": 56,
   "metadata": {},
   "outputs": [],
   "source": [
    "# cleaning Additonal_info feature\n",
    "\n",
    "# Train\n",
    "train['Additional_Info'].replace({'No Info':'No info','1 Long layover':'other','Change airports':'other','Business class':'other','1 Short layover':'other','2 Long layover':'other','Red-eye flight':'other'},inplace=True)\n",
    "\n",
    "# Test\n",
    "test['Additional_Info'].replace({'1 Long layover':'other','Change airports':'other','Business class':'other'},inplace=True)"
   ]
  },
  {
   "cell_type": "code",
   "execution_count": 57,
   "metadata": {},
   "outputs": [
    {
     "name": "stdout",
     "output_type": "stream",
     "text": [
      "No info                         8185\n",
      "In-flight meal not included     1926\n",
      "No check-in baggage included     318\n",
      "other                             33\n",
      "Name: Additional_Info, dtype: int64\n",
      "\n",
      "No info                         2126\n",
      "In-flight meal not included      440\n",
      "No check-in baggage included      76\n",
      "other                              3\n",
      "Name: Additional_Info, dtype: int64\n"
     ]
    }
   ],
   "source": [
    "print(train['Additional_Info'].value_counts())\n",
    "print()\n",
    "print(test['Additional_Info'].value_counts())\n"
   ]
  },
  {
   "cell_type": "code",
   "execution_count": 58,
   "metadata": {},
   "outputs": [
    {
     "data": {
      "text/html": [
       "<div>\n",
       "<style scoped>\n",
       "    .dataframe tbody tr th:only-of-type {\n",
       "        vertical-align: middle;\n",
       "    }\n",
       "\n",
       "    .dataframe tbody tr th {\n",
       "        vertical-align: top;\n",
       "    }\n",
       "\n",
       "    .dataframe thead th {\n",
       "        text-align: right;\n",
       "    }\n",
       "</style>\n",
       "<table border=\"1\" class=\"dataframe\">\n",
       "  <thead>\n",
       "    <tr style=\"text-align: right;\">\n",
       "      <th></th>\n",
       "      <th>Airline</th>\n",
       "      <th>Source</th>\n",
       "      <th>Destination</th>\n",
       "      <th>Route</th>\n",
       "      <th>Duration</th>\n",
       "      <th>Total_Stops</th>\n",
       "      <th>Additional_Info</th>\n",
       "      <th>Price</th>\n",
       "      <th>Journey_day</th>\n",
       "      <th>Journey_month</th>\n",
       "      <th>dep_hr</th>\n",
       "      <th>dep_min</th>\n",
       "      <th>arival_hr</th>\n",
       "      <th>arival_min</th>\n",
       "    </tr>\n",
       "  </thead>\n",
       "  <tbody>\n",
       "    <tr>\n",
       "      <th>0</th>\n",
       "      <td>IndiGo</td>\n",
       "      <td>Banglore</td>\n",
       "      <td>Delhi</td>\n",
       "      <td>BLR → DEL</td>\n",
       "      <td>170</td>\n",
       "      <td>0</td>\n",
       "      <td>No info</td>\n",
       "      <td>3897</td>\n",
       "      <td>24</td>\n",
       "      <td>3</td>\n",
       "      <td>22</td>\n",
       "      <td>20</td>\n",
       "      <td>1</td>\n",
       "      <td>10</td>\n",
       "    </tr>\n",
       "    <tr>\n",
       "      <th>1</th>\n",
       "      <td>Air India</td>\n",
       "      <td>Kolkata</td>\n",
       "      <td>Banglore</td>\n",
       "      <td>CCU → IXR → BBI → BLR</td>\n",
       "      <td>445</td>\n",
       "      <td>2</td>\n",
       "      <td>No info</td>\n",
       "      <td>7662</td>\n",
       "      <td>5</td>\n",
       "      <td>1</td>\n",
       "      <td>5</td>\n",
       "      <td>50</td>\n",
       "      <td>13</td>\n",
       "      <td>15</td>\n",
       "    </tr>\n",
       "  </tbody>\n",
       "</table>\n",
       "</div>"
      ],
      "text/plain": [
       "     Airline    Source Destination                  Route  Duration  \\\n",
       "0     IndiGo  Banglore       Delhi              BLR → DEL       170   \n",
       "1  Air India   Kolkata    Banglore  CCU → IXR → BBI → BLR       445   \n",
       "\n",
       "   Total_Stops Additional_Info  Price  Journey_day  Journey_month  dep_hr  \\\n",
       "0            0         No info   3897           24              3      22   \n",
       "1            2         No info   7662            5              1       5   \n",
       "\n",
       "   dep_min  arival_hr  arival_min  \n",
       "0       20          1          10  \n",
       "1       50         13          15  "
      ]
     },
     "execution_count": 58,
     "metadata": {},
     "output_type": "execute_result"
    }
   ],
   "source": [
    "train.head(2)"
   ]
  },
  {
   "cell_type": "code",
   "execution_count": 60,
   "metadata": {},
   "outputs": [],
   "source": [
    "train_categorical_features=[]\n",
    "train_numerical_features=[]\n",
    "for i in train.columns:\n",
    "    if train[i].dtype==\"object\":\n",
    "        train_categorical_features.append(i)\n",
    "    else:\n",
    "        train_numerical_features.append(i)"
   ]
  },
  {
   "cell_type": "code",
   "execution_count": 61,
   "metadata": {},
   "outputs": [
    {
     "name": "stdout",
     "output_type": "stream",
     "text": [
      "Skewness of Duration = 0.90\n",
      "Skewness of Total_Stops = 0.33\n",
      "Skewness of Price = 1.86\n",
      "Skewness of Journey_day = 0.38\n",
      "Skewness of Journey_month = 0.63\n",
      "Skewness of dep_hr = 0.11\n",
      "Skewness of dep_min = 0.17\n",
      "Skewness of arival_hr = -0.38\n",
      "Skewness of arival_min = 0.11\n"
     ]
    },
    {
     "data": {
      "image/png": "[encoded data removed]",
      "text/plain": [
       "<Figure size 1224x216 with 2 Axes>"
      ]
     },
     "metadata": {
      "needs_background": "light"
     },
     "output_type": "display_data"
    },
    {
     "data": {
      "image/png": "[encoded data removed]",
      "text/plain": [
       "<Figure size 1224x216 with 2 Axes>"
      ]
     },
     "metadata": {
      "needs_background": "light"
     },
     "output_type": "display_data"
    },
    {
     "data": {
      "image/png": "[encoded data removed]",
      "text/plain": [
       "<Figure size 1224x216 with 2 Axes>"
      ]
     },
     "metadata": {
      "needs_background": "light"
     },
     "output_type": "display_data"
    },
    {
     "data": {
      "image/png": "[encoded data removed]",
      "text/plain": [
       "<Figure size 1224x216 with 2 Axes>"
      ]
     },
     "metadata": {
      "needs_background": "light"
     },
     "output_type": "display_data"
    },
    {
     "data": {
      "image/png": "[encoded data removed]",
      "text/plain": [
       "<Figure size 1224x216 with 2 Axes>"
      ]
     },
     "metadata": {
      "needs_background": "light"
     },
     "output_type": "display_data"
    },
    {
     "data": {
      "image/png": "[encoded data removed]",
      "text/plain": [
       "<Figure size 1224x216 with 2 Axes>"
      ]
     },
     "metadata": {
      "needs_background": "light"
     },
     "output_type": "display_data"
    },
    {
     "data": {
      "image/png": "[encoded data removed]",
      "text/plain": [
       "<Figure size 1224x216 with 2 Axes>"
      ]
     },
     "metadata": {
      "needs_background": "light"
     },
     "output_type": "display_data"
    },
    {
     "data": {
      "image/png": "[encoded data removed]",
      "text/plain": [
       "<Figure size 1224x216 with 2 Axes>"
      ]
     },
     "metadata": {
      "needs_background": "light"
     },
     "output_type": "display_data"
    },
    {
     "data": {
      "image/png": "[encoded data removed]",
      "text/plain": [
       "<Figure size 1224x216 with 2 Axes>"
      ]
     },
     "metadata": {
      "needs_background": "light"
     },
     "output_type": "display_data"
    }
   ],
   "source": [
    "for i in train_numerical_features:\n",
    "    f=plt.figure(figsize=(17,3))\n",
    "    f.add_subplot(1,2,1)\n",
    "    sns.distplot(train[i],bins=30,color='purple')\n",
    "    f.add_subplot(1,2,2)\n",
    "    sns.boxplot(train[i],color='lightgreen',saturation=1.5,\n",
    "    width=0.6)\n",
    "    print('Skewness of %s = %0.2f' %(i, train[i].skew()))"
   ]
  },
  {
   "cell_type": "markdown",
   "metadata": {},
   "source": [
    "##### Skewness is present in Duration feature while Some columns are containing outliers also."
   ]
  },
  {
   "cell_type": "code",
   "execution_count": 62,
   "metadata": {},
   "outputs": [],
   "source": [
    "test_categorical_features=[]\n",
    "test_numerical_features=[]\n",
    "for i in test.columns:\n",
    "    if test[i].dtype==\"object\":\n",
    "        test_categorical_features.append(i)\n",
    "    else:\n",
    "        test_numerical_features.append(i)"
   ]
  },
  {
   "cell_type": "code",
   "execution_count": 63,
   "metadata": {},
   "outputs": [
    {
     "name": "stdout",
     "output_type": "stream",
     "text": [
      "Skewness of Duration = 0.91\n",
      "Skewness of Total_Stops = 0.33\n",
      "Skewness of Journey_day = 0.48\n",
      "Skewness of Journey_month = 0.59\n",
      "Skewness of dep_hr = 0.09\n",
      "Skewness of dep_min = 0.13\n",
      "Skewness of arival_hr = -0.45\n",
      "Skewness of arival_min = 0.11\n"
     ]
    },
    {
     "data": {
      "image/png": "[encoded data removed]",
      "text/plain": [
       "<Figure size 1224x216 with 2 Axes>"
      ]
     },
     "metadata": {
      "needs_background": "light"
     },
     "output_type": "display_data"
    },
    {
     "data": {
      "image/png": "[encoded data removed]",
      "text/plain": [
       "<Figure size 1224x216 with 2 Axes>"
      ]
     },
     "metadata": {
      "needs_background": "light"
     },
     "output_type": "display_data"
    },
    {
     "data": {
      "image/png": "[encoded data removed]",
      "text/plain": [
       "<Figure size 1224x216 with 2 Axes>"
      ]
     },
     "metadata": {
      "needs_background": "light"
     },
     "output_type": "display_data"
    },
    {
     "data": {
      "image/png": "[encoded data removed]",
      "text/plain": [
       "<Figure size 1224x216 with 2 Axes>"
      ]
     },
     "metadata": {
      "needs_background": "light"
     },
     "output_type": "display_data"
    },
    {
     "data": {
      "image/png": "[encoded data removed]",
      "text/plain": [
       "<Figure size 1224x216 with 2 Axes>"
      ]
     },
     "metadata": {
      "needs_background": "light"
     },
     "output_type": "display_data"
    },
    {
     "data": {
      "image/png": "[encoded data removed]",
      "text/plain": [
       "<Figure size 1224x216 with 2 Axes>"
      ]
     },
     "metadata": {
      "needs_background": "light"
     },
     "output_type": "display_data"
    },
    {
     "data": {
      "image/png": "[encoded data removed]",
      "text/plain": [
       "<Figure size 1224x216 with 2 Axes>"
      ]
     },
     "metadata": {
      "needs_background": "light"
     },
     "output_type": "display_data"
    },
    {
     "data": {
      "image/png": "[encoded data removed]",
      "text/plain": [
       "<Figure size 1224x216 with 2 Axes>"
      ]
     },
     "metadata": {
      "needs_background": "light"
     },
     "output_type": "display_data"
    }
   ],
   "source": [
    "for i in test_numerical_features:\n",
    "    f=plt.figure(figsize=(17,3))\n",
    "    f.add_subplot(1,2,1)\n",
    "    sns.distplot(test[i],bins=30,color='purple')\n",
    "    f.add_subplot(1,2,2)\n",
    "    sns.boxplot(test[i],color='lightgreen',saturation=1.5,\n",
    "    width=0.6)\n",
    "    print('Skewness of %s = %0.2f' %(i, test[i].skew()))"
   ]
  },
  {
   "cell_type": "code",
   "execution_count": 64,
   "metadata": {},
   "outputs": [
    {
     "data": {
      "text/plain": [
       "<matplotlib.axes._subplots.AxesSubplot at 0x28b11233d90>"
      ]
     },
     "execution_count": 64,
     "metadata": {},
     "output_type": "execute_result"
    },
    {
     "data": {
      "image/png": "[encoded data removed]",
      "text/plain": [
       "<Figure size 1080x288 with 1 Axes>"
      ]
     },
     "metadata": {
      "needs_background": "light"
     },
     "output_type": "display_data"
    }
   ],
   "source": [
    "plt.figure(figsize=(15,4))\n",
    "sns.lineplot(x='Source',y='Price',hue='Total_Stops',data=train, ci=None)"
   ]
  },
  {
   "cell_type": "markdown",
   "metadata": {},
   "source": [
    "Observation:\n",
    "\n",
    "1. If Total stop is 0 than journey start from Delhi than ticket price is more than other sourses.\n",
    "2. If Total stop is 0 than journey start from Mumbai than ticket price is less than other sourses.\n",
    "3. If total stops more than 1 than ticket price is more than other source."
   ]
  },
  {
   "cell_type": "code",
   "execution_count": 65,
   "metadata": {},
   "outputs": [
    {
     "data": {
      "text/plain": [
       "<matplotlib.axes._subplots.AxesSubplot at 0x28b0d312ee0>"
      ]
     },
     "execution_count": 65,
     "metadata": {},
     "output_type": "execute_result"
    },
    {
     "data": {
      "image/png": "[encoded data removed]",
      "text/plain": [
       "<Figure size 1080x288 with 1 Axes>"
      ]
     },
     "metadata": {
      "needs_background": "light"
     },
     "output_type": "display_data"
    }
   ],
   "source": [
    "plt.figure(figsize=(15,4))\n",
    "sns.lineplot(x='Destination',y='Price',hue='Total_Stops',data=train, ci=None)"
   ]
  },
  {
   "cell_type": "markdown",
   "metadata": {},
   "source": [
    "###### It can be seen that if flights are non-stops then cities with less price are charging high prices in flights other than non-stops flights."
   ]
  },
  {
   "cell_type": "code",
   "execution_count": 66,
   "metadata": {},
   "outputs": [
    {
     "data": {
      "text/plain": [
       "Text(0, 0.5, '% of Stops')"
      ]
     },
     "execution_count": 66,
     "metadata": {},
     "output_type": "execute_result"
    },
    {
     "data": {
      "image/png": "[encoded data removed]",
      "text/plain": [
       "<Figure size 1008x360 with 1 Axes>"
      ]
     },
     "metadata": {
      "needs_background": "light"
     },
     "output_type": "display_data"
    }
   ],
   "source": [
    "tbl=pd.crosstab(train['Destination'], train['Total_Stops'])\n",
    "(tbl.div(tbl.sum(axis=1),axis=0)*100).sort_values(by=0).plot(kind='bar',stacked=True,figsize=(14,5))\n",
    "plt.xlabel('Destination',fontsize=12)\n",
    "plt.ylabel('% of Stops',fontsize=12)"
   ]
  },
  {
   "cell_type": "markdown",
   "metadata": {},
   "source": [
    "###### In Destinatin Cochin is with the highest number of 1 and 2 stops  ,while non-stop flights are coming to Kolkata ."
   ]
  },
  {
   "cell_type": "code",
   "execution_count": 67,
   "metadata": {},
   "outputs": [],
   "source": [
    "# Removing skewness from Duration feature\n",
    "from sklearn.preprocessing import PowerTransformer\n",
    "pt=PowerTransformer()\n",
    "\n",
    "train[['Duration']]=pt.fit_transform(train[['Duration']])\n",
    "test[['Duration']]=pt.fit_transform(test[['Duration']])"
   ]
  },
  {
   "cell_type": "code",
   "execution_count": 68,
   "metadata": {},
   "outputs": [
    {
     "data": {
      "text/plain": [
       "Duration        -0.038729\n",
       "Total_Stops      0.332309\n",
       "Price            1.857490\n",
       "Journey_day      0.375990\n",
       "Journey_month    0.630882\n",
       "dep_hr           0.108306\n",
       "dep_min          0.171301\n",
       "arival_hr       -0.378978\n",
       "arival_min       0.110802\n",
       "dtype: float64"
      ]
     },
     "execution_count": 68,
     "metadata": {},
     "output_type": "execute_result"
    }
   ],
   "source": [
    "train.skew()"
   ]
  },
  {
   "cell_type": "code",
   "execution_count": 69,
   "metadata": {},
   "outputs": [
    {
     "data": {
      "text/plain": [
       "Duration        -0.046960\n",
       "Total_Stops      0.329736\n",
       "Journey_day      0.479218\n",
       "Journey_month    0.589883\n",
       "dep_hr           0.089146\n",
       "dep_min          0.129932\n",
       "arival_hr       -0.447350\n",
       "arival_min       0.113229\n",
       "dtype: float64"
      ]
     },
     "execution_count": 69,
     "metadata": {},
     "output_type": "execute_result"
    }
   ],
   "source": [
    "test.skew()"
   ]
  },
  {
   "cell_type": "code",
   "execution_count": 70,
   "metadata": {},
   "outputs": [],
   "source": [
    "# Label encoding\n",
    "from sklearn.preprocessing import LabelEncoder\n",
    "le=LabelEncoder()\n",
    "\n",
    "for i in train.columns:\n",
    "    if train[i].dtype=='object':\n",
    "        train[i]=le.fit_transform(train[i])"
   ]
  },
  {
   "cell_type": "code",
   "execution_count": 71,
   "metadata": {},
   "outputs": [],
   "source": [
    "for i in test.columns:\n",
    "    if test[i].dtype=='object':\n",
    "        test[i]=le.fit_transform(test[i])"
   ]
  },
  {
   "cell_type": "code",
   "execution_count": 72,
   "metadata": {},
   "outputs": [
    {
     "data": {
      "text/html": [
       "<div>\n",
       "<style scoped>\n",
       "    .dataframe tbody tr th:only-of-type {\n",
       "        vertical-align: middle;\n",
       "    }\n",
       "\n",
       "    .dataframe tbody tr th {\n",
       "        vertical-align: top;\n",
       "    }\n",
       "\n",
       "    .dataframe thead th {\n",
       "        text-align: right;\n",
       "    }\n",
       "</style>\n",
       "<table border=\"1\" class=\"dataframe\">\n",
       "  <thead>\n",
       "    <tr style=\"text-align: right;\">\n",
       "      <th></th>\n",
       "      <th>Airline</th>\n",
       "      <th>Source</th>\n",
       "      <th>Destination</th>\n",
       "      <th>Route</th>\n",
       "      <th>Duration</th>\n",
       "      <th>Total_Stops</th>\n",
       "      <th>Additional_Info</th>\n",
       "      <th>Price</th>\n",
       "      <th>Journey_day</th>\n",
       "      <th>Journey_month</th>\n",
       "      <th>dep_hr</th>\n",
       "      <th>dep_min</th>\n",
       "      <th>arival_hr</th>\n",
       "      <th>arival_min</th>\n",
       "    </tr>\n",
       "  </thead>\n",
       "  <tbody>\n",
       "    <tr>\n",
       "      <th>0</th>\n",
       "      <td>3</td>\n",
       "      <td>0</td>\n",
       "      <td>2</td>\n",
       "      <td>18</td>\n",
       "      <td>-1.046443</td>\n",
       "      <td>0</td>\n",
       "      <td>2</td>\n",
       "      <td>3897</td>\n",
       "      <td>24</td>\n",
       "      <td>3</td>\n",
       "      <td>22</td>\n",
       "      <td>20</td>\n",
       "      <td>1</td>\n",
       "      <td>10</td>\n",
       "    </tr>\n",
       "    <tr>\n",
       "      <th>1</th>\n",
       "      <td>1</td>\n",
       "      <td>3</td>\n",
       "      <td>0</td>\n",
       "      <td>84</td>\n",
       "      <td>-0.029108</td>\n",
       "      <td>2</td>\n",
       "      <td>2</td>\n",
       "      <td>7662</td>\n",
       "      <td>5</td>\n",
       "      <td>1</td>\n",
       "      <td>5</td>\n",
       "      <td>50</td>\n",
       "      <td>13</td>\n",
       "      <td>15</td>\n",
       "    </tr>\n",
       "  </tbody>\n",
       "</table>\n",
       "</div>"
      ],
      "text/plain": [
       "   Airline  Source  Destination  Route  Duration  Total_Stops  \\\n",
       "0        3       0            2     18 -1.046443            0   \n",
       "1        1       3            0     84 -0.029108            2   \n",
       "\n",
       "   Additional_Info  Price  Journey_day  Journey_month  dep_hr  dep_min  \\\n",
       "0                2   3897           24              3      22       20   \n",
       "1                2   7662            5              1       5       50   \n",
       "\n",
       "   arival_hr  arival_min  \n",
       "0          1          10  \n",
       "1         13          15  "
      ]
     },
     "execution_count": 72,
     "metadata": {},
     "output_type": "execute_result"
    }
   ],
   "source": [
    "train.head(2)"
   ]
  },
  {
   "cell_type": "code",
   "execution_count": 73,
   "metadata": {},
   "outputs": [
    {
     "data": {
      "text/html": [
       "<div>\n",
       "<style scoped>\n",
       "    .dataframe tbody tr th:only-of-type {\n",
       "        vertical-align: middle;\n",
       "    }\n",
       "\n",
       "    .dataframe tbody tr th {\n",
       "        vertical-align: top;\n",
       "    }\n",
       "\n",
       "    .dataframe thead th {\n",
       "        text-align: right;\n",
       "    }\n",
       "</style>\n",
       "<table border=\"1\" class=\"dataframe\">\n",
       "  <thead>\n",
       "    <tr style=\"text-align: right;\">\n",
       "      <th></th>\n",
       "      <th>Airline</th>\n",
       "      <th>Source</th>\n",
       "      <th>Destination</th>\n",
       "      <th>Route</th>\n",
       "      <th>Duration</th>\n",
       "      <th>Total_Stops</th>\n",
       "      <th>Additional_Info</th>\n",
       "      <th>Journey_day</th>\n",
       "      <th>Journey_month</th>\n",
       "      <th>dep_hr</th>\n",
       "      <th>dep_min</th>\n",
       "      <th>arival_hr</th>\n",
       "      <th>arival_min</th>\n",
       "    </tr>\n",
       "  </thead>\n",
       "  <tbody>\n",
       "    <tr>\n",
       "      <th>0</th>\n",
       "      <td>4</td>\n",
       "      <td>2</td>\n",
       "      <td>1</td>\n",
       "      <td>76</td>\n",
       "      <td>0.384437</td>\n",
       "      <td>1</td>\n",
       "      <td>2</td>\n",
       "      <td>6</td>\n",
       "      <td>6</td>\n",
       "      <td>17</td>\n",
       "      <td>30</td>\n",
       "      <td>4</td>\n",
       "      <td>25</td>\n",
       "    </tr>\n",
       "    <tr>\n",
       "      <th>1</th>\n",
       "      <td>3</td>\n",
       "      <td>3</td>\n",
       "      <td>0</td>\n",
       "      <td>65</td>\n",
       "      <td>-0.718998</td>\n",
       "      <td>1</td>\n",
       "      <td>2</td>\n",
       "      <td>5</td>\n",
       "      <td>12</td>\n",
       "      <td>6</td>\n",
       "      <td>20</td>\n",
       "      <td>10</td>\n",
       "      <td>20</td>\n",
       "    </tr>\n",
       "  </tbody>\n",
       "</table>\n",
       "</div>"
      ],
      "text/plain": [
       "   Airline  Source  Destination  Route  Duration  Total_Stops  \\\n",
       "0        4       2            1     76  0.384437            1   \n",
       "1        3       3            0     65 -0.718998            1   \n",
       "\n",
       "   Additional_Info  Journey_day  Journey_month  dep_hr  dep_min  arival_hr  \\\n",
       "0                2            6              6      17       30          4   \n",
       "1                2            5             12       6       20         10   \n",
       "\n",
       "   arival_min  \n",
       "0          25  \n",
       "1          20  "
      ]
     },
     "execution_count": 73,
     "metadata": {},
     "output_type": "execute_result"
    }
   ],
   "source": [
    "test.head(2)"
   ]
  },
  {
   "cell_type": "markdown",
   "metadata": {},
   "source": [
    "### Splitting independent and dependent features\n"
   ]
  },
  {
   "cell_type": "code",
   "execution_count": 74,
   "metadata": {},
   "outputs": [],
   "source": [
    "train_x=train.drop('Price',axis=1)\n",
    "train_y=train[['Price']]"
   ]
  },
  {
   "cell_type": "code",
   "execution_count": 75,
   "metadata": {},
   "outputs": [
    {
     "name": "stdout",
     "output_type": "stream",
     "text": [
      "Independent variabales shape -  (10462, 13)\n",
      "Dependent variables shape -  (10462, 1)\n"
     ]
    }
   ],
   "source": [
    "print(\"Independent variabales shape - \",train_x.shape)\n",
    "print(\"Dependent variables shape - \",train_y.shape)"
   ]
  },
  {
   "cell_type": "code",
   "execution_count": 76,
   "metadata": {},
   "outputs": [],
   "source": [
    "features=train_x.columns"
   ]
  },
  {
   "cell_type": "code",
   "execution_count": 77,
   "metadata": {},
   "outputs": [],
   "source": [
    "from sklearn.preprocessing import StandardScaler\n",
    "# Instantiate and scale the data\n",
    "ss=StandardScaler()\n",
    "x=ss.fit_transform(train_x)"
   ]
  },
  {
   "cell_type": "code",
   "execution_count": 78,
   "metadata": {},
   "outputs": [],
   "source": [
    "train_x=pd.DataFrame(x,columns=features)"
   ]
  },
  {
   "cell_type": "code",
   "execution_count": 79,
   "metadata": {},
   "outputs": [
    {
     "data": {
      "text/html": [
       "<div>\n",
       "<style scoped>\n",
       "    .dataframe tbody tr th:only-of-type {\n",
       "        vertical-align: middle;\n",
       "    }\n",
       "\n",
       "    .dataframe tbody tr th {\n",
       "        vertical-align: top;\n",
       "    }\n",
       "\n",
       "    .dataframe thead th {\n",
       "        text-align: right;\n",
       "    }\n",
       "</style>\n",
       "<table border=\"1\" class=\"dataframe\">\n",
       "  <thead>\n",
       "    <tr style=\"text-align: right;\">\n",
       "      <th></th>\n",
       "      <th>Airline</th>\n",
       "      <th>Source</th>\n",
       "      <th>Destination</th>\n",
       "      <th>Route</th>\n",
       "      <th>Duration</th>\n",
       "      <th>Total_Stops</th>\n",
       "      <th>Additional_Info</th>\n",
       "      <th>Journey_day</th>\n",
       "      <th>Journey_month</th>\n",
       "      <th>dep_hr</th>\n",
       "      <th>dep_min</th>\n",
       "      <th>arival_hr</th>\n",
       "      <th>arival_min</th>\n",
       "    </tr>\n",
       "  </thead>\n",
       "  <tbody>\n",
       "    <tr>\n",
       "      <th>0</th>\n",
       "      <td>-0.337768</td>\n",
       "      <td>-1.646877</td>\n",
       "      <td>0.804913</td>\n",
       "      <td>-1.533452</td>\n",
       "      <td>-1.046443</td>\n",
       "      <td>-1.214593</td>\n",
       "      <td>0.504825</td>\n",
       "      <td>1.293326</td>\n",
       "      <td>-0.846221</td>\n",
       "      <td>1.662578</td>\n",
       "      <td>-0.234123</td>\n",
       "      <td>-1.807045</td>\n",
       "      <td>-0.888367</td>\n",
       "    </tr>\n",
       "    <tr>\n",
       "      <th>1</th>\n",
       "      <td>-1.510789</td>\n",
       "      <td>0.882057</td>\n",
       "      <td>-1.152093</td>\n",
       "      <td>0.264633</td>\n",
       "      <td>-0.029108</td>\n",
       "      <td>1.813062</td>\n",
       "      <td>0.504825</td>\n",
       "      <td>-0.867922</td>\n",
       "      <td>-1.513956</td>\n",
       "      <td>-1.305841</td>\n",
       "      <td>1.360364</td>\n",
       "      <td>-0.056554</td>\n",
       "      <td>-0.586611</td>\n",
       "    </tr>\n",
       "  </tbody>\n",
       "</table>\n",
       "</div>"
      ],
      "text/plain": [
       "    Airline    Source  Destination     Route  Duration  Total_Stops  \\\n",
       "0 -0.337768 -1.646877     0.804913 -1.533452 -1.046443    -1.214593   \n",
       "1 -1.510789  0.882057    -1.152093  0.264633 -0.029108     1.813062   \n",
       "\n",
       "   Additional_Info  Journey_day  Journey_month    dep_hr   dep_min  arival_hr  \\\n",
       "0         0.504825     1.293326      -0.846221  1.662578 -0.234123  -1.807045   \n",
       "1         0.504825    -0.867922      -1.513956 -1.305841  1.360364  -0.056554   \n",
       "\n",
       "   arival_min  \n",
       "0   -0.888367  \n",
       "1   -0.586611  "
      ]
     },
     "execution_count": 79,
     "metadata": {},
     "output_type": "execute_result"
    }
   ],
   "source": [
    "train_x.head(2)"
   ]
  },
  {
   "cell_type": "markdown",
   "metadata": {},
   "source": [
    "### Splitting training and testing data from train data"
   ]
  },
  {
   "cell_type": "code",
   "execution_count": 80,
   "metadata": {},
   "outputs": [],
   "source": [
    "from sklearn.model_selection import train_test_split\n",
    "X_train,X_test,Y_train,Y_test=train_test_split(train_x,train_y,test_size=.3,random_state=42)"
   ]
  },
  {
   "cell_type": "code",
   "execution_count": 81,
   "metadata": {},
   "outputs": [
    {
     "name": "stdout",
     "output_type": "stream",
     "text": [
      "(7323, 13) \t\t (3139, 13)\n"
     ]
    }
   ],
   "source": [
    "#Checking the shape\n",
    "\n",
    "print(X_train.shape,'\\t\\t',X_test.shape)"
   ]
  },
  {
   "cell_type": "code",
   "execution_count": 82,
   "metadata": {},
   "outputs": [
    {
     "name": "stdout",
     "output_type": "stream",
     "text": [
      "(7323, 1) \t (3139, 1)\n"
     ]
    }
   ],
   "source": [
    "#Checking the shape\n",
    "\n",
    "print(Y_train.shape,'\\t',Y_test.shape)"
   ]
  },
  {
   "cell_type": "code",
   "execution_count": 83,
   "metadata": {},
   "outputs": [],
   "source": [
    "# function for checking best random state\n",
    "def max_r2_score(reg,train_x,train_y):\n",
    "    max_r2score=0\n",
    "    for r_state in range(42,101):\n",
    "        X_train,X_test,Y_train,Y_test=train_test_split(train_x,train_y,test_size=.3,random_state=42)\n",
    "        reg.fit(X_train,Y_train)\n",
    "        pred=reg.predict(X_test)\n",
    "        r2score=r2_score(Y_test,pred)\n",
    "        if r2score>max_r2score:\n",
    "            max_r2score=r2score\n",
    "            final_r_state=r_state\n",
    "    print(\"The maximum r2 score\", max_r2score, \"is achieved at r_state\", final_r_state)\n",
    "    return final_r_state"
   ]
  },
  {
   "cell_type": "code",
   "execution_count": 84,
   "metadata": {},
   "outputs": [
    {
     "data": {
      "text/plain": [
       "{'n_neighbors': 3}"
      ]
     },
     "execution_count": 84,
     "metadata": {},
     "output_type": "execute_result"
    }
   ],
   "source": [
    "# Using GridSearchCV to select best parameter for the models\n",
    "kn=KNeighborsRegressor()\n",
    "parameters={'n_neighbors':[1,2,3,4,5,6,7,8,9,10]}\n",
    "gdk=GridSearchCV(kn,parameters)\n",
    "gdk.fit(X_train,Y_train)\n",
    "gdk.best_params_"
   ]
  },
  {
   "cell_type": "code",
   "execution_count": 85,
   "metadata": {},
   "outputs": [
    {
     "data": {
      "text/plain": [
       "{'criterion': 'mse'}"
      ]
     },
     "execution_count": 85,
     "metadata": {},
     "output_type": "execute_result"
    }
   ],
   "source": [
    "# Using GridSearchCV \n",
    "dt=DecisionTreeRegressor()\n",
    "parameters={'criterion':('mse','friedman_mse','mae')}\n",
    "gdd=GridSearchCV(dt,parameters)\n",
    "gdd.fit(X_train,Y_train)\n",
    "gdd.best_params_"
   ]
  },
  {
   "cell_type": "code",
   "execution_count": 86,
   "metadata": {},
   "outputs": [
    {
     "data": {
      "text/plain": [
       "{'C': 10, 'kernel': 'linear'}"
      ]
     },
     "execution_count": 86,
     "metadata": {},
     "output_type": "execute_result"
    }
   ],
   "source": [
    "# Using GridSearchCV \n",
    "sv=SVR()\n",
    "parameters={'kernel':('linear','rbf'), 'C':[1,10]}\n",
    "gdsr=GridSearchCV(sv,parameters)\n",
    "gdsr.fit(X_train,Y_train)\n",
    "gdsr.best_params_"
   ]
  },
  {
   "cell_type": "code",
   "execution_count": 87,
   "metadata": {},
   "outputs": [
    {
     "data": {
      "text/plain": [
       "{'alpha': 1}"
      ]
     },
     "execution_count": 87,
     "metadata": {},
     "output_type": "execute_result"
    }
   ],
   "source": [
    "# Using GridSearchCV\n",
    "ls=Lasso()\n",
    "parameters={'alpha':(0.001,0.01,0.1,1)}\n",
    "gdls=GridSearchCV(ls,parameters)\n",
    "gdls.fit(X_train,Y_train)\n",
    "gdls.best_params_"
   ]
  },
  {
   "cell_type": "code",
   "execution_count": 88,
   "metadata": {},
   "outputs": [
    {
     "data": {
      "text/plain": [
       "{'alpha': 1}"
      ]
     },
     "execution_count": 88,
     "metadata": {},
     "output_type": "execute_result"
    }
   ],
   "source": [
    "# Using GridSearchCV \n",
    "rd=Ridge()\n",
    "parameters={'alpha':(0.001,0.01,0.1,1)}\n",
    "grd=GridSearchCV(rd,parameters)\n",
    "grd.fit(X_train,Y_train)\n",
    "grd.best_params_"
   ]
  },
  {
   "cell_type": "code",
   "execution_count": 89,
   "metadata": {},
   "outputs": [
    {
     "data": {
      "text/plain": [
       "{'n_estimators': 50}"
      ]
     },
     "execution_count": 89,
     "metadata": {},
     "output_type": "execute_result"
    }
   ],
   "source": [
    "# Using GridSearchCV \n",
    "rf=RandomForestRegressor()\n",
    "parameters={'n_estimators':(50,100,200,500)}\n",
    "gdrf=GridSearchCV(rf,parameters)\n",
    "gdrf.fit(X_train,Y_train)\n",
    "gdrf.best_params_"
   ]
  },
  {
   "cell_type": "code",
   "execution_count": 90,
   "metadata": {},
   "outputs": [
    {
     "data": {
      "text/plain": [
       "{'learning_rate': 0.1, 'n_estimators': 500}"
      ]
     },
     "execution_count": 90,
     "metadata": {},
     "output_type": "execute_result"
    }
   ],
   "source": [
    "# Using GridSearchCV \n",
    "gb=GradientBoostingRegressor()\n",
    "parameters={'learning_rate':(0.001,0.01,0.1,1), 'n_estimators':(10,50,100,500)}\n",
    "gdg=GridSearchCV(gb,parameters)                                                                                                                                        \n",
    "gdg.fit(X_train,Y_train)                                                                                                                                         \n",
    "gdg.best_params_"
   ]
  },
  {
   "cell_type": "code",
   "execution_count": 91,
   "metadata": {},
   "outputs": [
    {
     "data": {
      "text/plain": [
       "{'learning_rate': 0.001, 'n_estimators': 50}"
      ]
     },
     "execution_count": 91,
     "metadata": {},
     "output_type": "execute_result"
    }
   ],
   "source": [
    "# Using GridSearchCV \n",
    "ad=AdaBoostRegressor()\n",
    "parameters={'n_estimators':(10,50,100,200,500),'learning_rate':(0.001,0.01,0.1,1)}\n",
    "gad=GridSearchCV(ad,parameters)\n",
    "gad.fit(X_train,Y_train)\n",
    "gad.best_params_"
   ]
  },
  {
   "cell_type": "code",
   "execution_count": 92,
   "metadata": {},
   "outputs": [],
   "source": [
    "Lr=LinearRegression()\n",
    "sv=SVR(C=10,kernel='linear')\n",
    "dt=DecisionTreeRegressor(criterion='mse')\n",
    "kn=KNeighborsRegressor(n_neighbors = 3)\n",
    "ls=Lasso(alpha= 1)\n",
    "rd=Ridge(alpha=1)\n",
    "rf=RandomForestRegressor(n_estimators = 50)\n",
    "ad=AdaBoostRegressor(learning_rate= 0.001, n_estimators= 50)\n",
    "gb=GradientBoostingRegressor(learning_rate=0.1, n_estimators= 500)"
   ]
  },
  {
   "cell_type": "code",
   "execution_count": 95,
   "metadata": {},
   "outputs": [],
   "source": [
    "models=[]\n",
    "models.append(('LinearRegression',Lr))\n",
    "models.append(('SVR',sv))\n",
    "models.append(('DecisionTreeRegressor',dt))\n",
    "models.append(('KNeighborsRegressor',kn))\n",
    "models.append(('Lasso',ls))\n",
    "models.append(('Ridge',rd))\n",
    "models.append(('RandomForestRegressor',rf))\n",
    "models.append(('AdaBoostRegressor',ad))\n",
    "models.append(('GradientBoostingRegressor',gb))"
   ]
  },
  {
   "cell_type": "code",
   "execution_count": 96,
   "metadata": {},
   "outputs": [
    {
     "name": "stdout",
     "output_type": "stream",
     "text": [
      "~~~~~~~~******~~~~~~~~~~~ LinearRegression ~~~~~~~~~~******~~~~~~~~~~~~\n",
      "\n",
      "\n",
      "LinearRegression()\n",
      "Training score is ->  46.93734211196209\n",
      "Root Mean squared error 3298.2463454536705\n",
      "R2 score 0.4762076283781639\n",
      "Cross validation score 47.044370693521074\n",
      "\n",
      "~~~~~~~~******~~~~~~~~~~~ SVR ~~~~~~~~~~******~~~~~~~~~~~~\n",
      "\n",
      "\n",
      "SVR(C=10, kernel='linear')\n",
      "Training score is ->  41.906518236172396\n",
      "Root Mean squared error 3424.6613345834453\n",
      "R2 score 0.4352863956093178\n",
      "Cross validation score 42.369338859344346\n",
      "\n",
      "~~~~~~~~******~~~~~~~~~~~ DecisionTreeRegressor ~~~~~~~~~~******~~~~~~~~~~~~\n",
      "\n",
      "\n",
      "DecisionTreeRegressor()\n",
      "Training score is ->  99.6958472812775\n",
      "Root Mean squared error 2052.9850988315065\n",
      "R2 score 0.7970614356710022\n",
      "Cross validation score 80.37469341616779\n",
      "\n",
      "~~~~~~~~******~~~~~~~~~~~ KNeighborsRegressor ~~~~~~~~~~******~~~~~~~~~~~~\n",
      "\n",
      "\n",
      "KNeighborsRegressor(n_neighbors=3)\n",
      "Training score is ->  88.09944176206868\n",
      "Root Mean squared error 2440.644671085642\n",
      "R2 score 0.713184841090008\n",
      "Cross validation score 74.49796139637091\n",
      "\n",
      "~~~~~~~~******~~~~~~~~~~~ Lasso ~~~~~~~~~~******~~~~~~~~~~~~\n",
      "\n",
      "\n",
      "Lasso(alpha=1)\n",
      "Training score is ->  46.93726182179865\n",
      "Root Mean squared error 3298.164712214808\n",
      "R2 score 0.47623355630116115\n",
      "Cross validation score 47.044373802361626\n",
      "\n",
      "~~~~~~~~******~~~~~~~~~~~ Ridge ~~~~~~~~~~******~~~~~~~~~~~~\n",
      "\n",
      "\n",
      "Ridge(alpha=1)\n",
      "Training score is ->  46.93734101349345\n",
      "Root Mean squared error 3298.2286030407213\n",
      "R2 score 0.4762132636852864\n",
      "Cross validation score 47.044393527224635\n",
      "\n",
      "~~~~~~~~******~~~~~~~~~~~ RandomForestRegressor ~~~~~~~~~~******~~~~~~~~~~~~\n",
      "\n",
      "\n",
      "RandomForestRegressor(n_estimators=50)\n",
      "Training score is ->  97.75627202103205\n",
      "Root Mean squared error 1517.3063445779853\n",
      "R2 score 0.8891490199788679\n",
      "Cross validation score 88.01121319983991\n",
      "\n",
      "~~~~~~~~******~~~~~~~~~~~ AdaBoostRegressor ~~~~~~~~~~******~~~~~~~~~~~~\n",
      "\n",
      "\n",
      "AdaBoostRegressor(learning_rate=0.001)\n",
      "Training score is ->  60.199624720845705\n",
      "Root Mean squared error 2915.1308338476942\n",
      "R2 score 0.5908249995676574\n",
      "Cross validation score 57.390131330138026\n",
      "\n",
      "~~~~~~~~******~~~~~~~~~~~ GradientBoostingRegressor ~~~~~~~~~~******~~~~~~~~~~~~\n",
      "\n",
      "\n",
      "GradientBoostingRegressor(n_estimators=500)\n",
      "Training score is ->  91.57368016871989\n",
      "Root Mean squared error 1620.9374184345013\n",
      "R2 score 0.8734898166887095\n",
      "Cross validation score 86.69502383611835\n",
      "\n"
     ]
    }
   ],
   "source": [
    "Model=[]\n",
    "score= []\n",
    "mean_abs_e=[]\n",
    "mean_sqr_e=[]\n",
    "r2=[]\n",
    "cv_score=[]\n",
    "for name,model in models:\n",
    "    print(\"~~~~~~~~******~~~~~~~~~~~\",name,\"~~~~~~~~~~******~~~~~~~~~~~~\")\n",
    "    \n",
    "    Model.append(name)\n",
    "    print(\"\\n\")\n",
    "    model.fit(X_train,Y_train)\n",
    "    print(model)\n",
    "    sc=model.score(X_train,Y_train)\n",
    "    print(\"Training score is -> \",sc*100)\n",
    "    score.append(sc*100)\n",
    "    pred=model.predict(X_test)\n",
    "    mse=mean_squared_error(Y_test,pred)\n",
    "    print(\"Root Mean squared error\",np.sqrt(mse))\n",
    "    mean_sqr_e.append(np.sqrt(mse))\n",
    "    print(\"R2 score\",r2_score(Y_test,pred))\n",
    "    r2.append((r2_score(Y_test,pred))*100)\n",
    "    soc=cross_val_score(model,train_x,train_y,cv=5).mean()\n",
    "    print(\"Cross validation score\",soc*100)\n",
    "    cv_score.append(soc*100)\n",
    "    print()"
   ]
  },
  {
   "cell_type": "code",
   "execution_count": 97,
   "metadata": {},
   "outputs": [
    {
     "data": {
      "text/html": [
       "<div>\n",
       "<style scoped>\n",
       "    .dataframe tbody tr th:only-of-type {\n",
       "        vertical-align: middle;\n",
       "    }\n",
       "\n",
       "    .dataframe tbody tr th {\n",
       "        vertical-align: top;\n",
       "    }\n",
       "\n",
       "    .dataframe thead th {\n",
       "        text-align: right;\n",
       "    }\n",
       "</style>\n",
       "<table border=\"1\" class=\"dataframe\">\n",
       "  <thead>\n",
       "    <tr style=\"text-align: right;\">\n",
       "      <th></th>\n",
       "      <th>Model</th>\n",
       "      <th>Score</th>\n",
       "      <th>R2_score</th>\n",
       "      <th>cross_val_score</th>\n",
       "    </tr>\n",
       "  </thead>\n",
       "  <tbody>\n",
       "    <tr>\n",
       "      <th>0</th>\n",
       "      <td>LinearRegression</td>\n",
       "      <td>46.937342</td>\n",
       "      <td>47.620763</td>\n",
       "      <td>47.044371</td>\n",
       "    </tr>\n",
       "    <tr>\n",
       "      <th>1</th>\n",
       "      <td>SVR</td>\n",
       "      <td>41.906518</td>\n",
       "      <td>43.528640</td>\n",
       "      <td>42.369339</td>\n",
       "    </tr>\n",
       "    <tr>\n",
       "      <th>2</th>\n",
       "      <td>DecisionTreeRegressor</td>\n",
       "      <td>99.695847</td>\n",
       "      <td>79.706144</td>\n",
       "      <td>80.374693</td>\n",
       "    </tr>\n",
       "    <tr>\n",
       "      <th>3</th>\n",
       "      <td>KNeighborsRegressor</td>\n",
       "      <td>88.099442</td>\n",
       "      <td>71.318484</td>\n",
       "      <td>74.497961</td>\n",
       "    </tr>\n",
       "    <tr>\n",
       "      <th>4</th>\n",
       "      <td>Lasso</td>\n",
       "      <td>46.937262</td>\n",
       "      <td>47.623356</td>\n",
       "      <td>47.044374</td>\n",
       "    </tr>\n",
       "    <tr>\n",
       "      <th>5</th>\n",
       "      <td>Ridge</td>\n",
       "      <td>46.937341</td>\n",
       "      <td>47.621326</td>\n",
       "      <td>47.044394</td>\n",
       "    </tr>\n",
       "    <tr>\n",
       "      <th>6</th>\n",
       "      <td>RandomForestRegressor</td>\n",
       "      <td>97.756272</td>\n",
       "      <td>88.914902</td>\n",
       "      <td>88.011213</td>\n",
       "    </tr>\n",
       "    <tr>\n",
       "      <th>7</th>\n",
       "      <td>AdaBoostRegressor</td>\n",
       "      <td>60.199625</td>\n",
       "      <td>59.082500</td>\n",
       "      <td>57.390131</td>\n",
       "    </tr>\n",
       "    <tr>\n",
       "      <th>8</th>\n",
       "      <td>GradientBoostingRegressor</td>\n",
       "      <td>91.573680</td>\n",
       "      <td>87.348982</td>\n",
       "      <td>86.695024</td>\n",
       "    </tr>\n",
       "  </tbody>\n",
       "</table>\n",
       "</div>"
      ],
      "text/plain": [
       "                       Model      Score   R2_score  cross_val_score\n",
       "0           LinearRegression  46.937342  47.620763        47.044371\n",
       "1                        SVR  41.906518  43.528640        42.369339\n",
       "2      DecisionTreeRegressor  99.695847  79.706144        80.374693\n",
       "3        KNeighborsRegressor  88.099442  71.318484        74.497961\n",
       "4                      Lasso  46.937262  47.623356        47.044374\n",
       "5                      Ridge  46.937341  47.621326        47.044394\n",
       "6      RandomForestRegressor  97.756272  88.914902        88.011213\n",
       "7          AdaBoostRegressor  60.199625  59.082500        57.390131\n",
       "8  GradientBoostingRegressor  91.573680  87.348982        86.695024"
      ]
     },
     "execution_count": 97,
     "metadata": {},
     "output_type": "execute_result"
    }
   ],
   "source": [
    "result = pd.DataFrame({'Model':Model,'Score':score,'R2_score':r2,'cross_val_score':cv_score})\n",
    "result"
   ]
  },
  {
   "cell_type": "markdown",
   "metadata": {},
   "source": [
    "###### Comparing various algorithms ,we can clearly say that random forest regressor and gradientboosting regressor are giving better results. But here we can also see that the training score ,r2_score and cross_val_score of gradient boositing are far better in difference than randomforest_regressor. So we are using gradient_boosting_regressor for our model building."
   ]
  },
  {
   "cell_type": "code",
   "execution_count": 98,
   "metadata": {},
   "outputs": [
    {
     "name": "stdout",
     "output_type": "stream",
     "text": [
      "The maximum r2 score 0.8748172121936864 is achieved at r_state 55\n"
     ]
    },
    {
     "data": {
      "text/plain": [
       "55"
      ]
     },
     "execution_count": 98,
     "metadata": {},
     "output_type": "execute_result"
    }
   ],
   "source": [
    "max_r2_score(gb,train_x,train_y)"
   ]
  },
  {
   "cell_type": "code",
   "execution_count": 99,
   "metadata": {},
   "outputs": [
    {
     "name": "stdout",
     "output_type": "stream",
     "text": [
      "The R2 score is 0.8758346202639071\n",
      "The cross val score is 0.8659118101439193\n"
     ]
    }
   ],
   "source": [
    "# Using best random state\n",
    "X_train,X_test,Y_train,Y_test=train_test_split(train_x,train_y,test_size=.3,random_state=55)\n",
    "gb=GradientBoostingRegressor(learning_rate=0.1, n_estimators= 500)\n",
    "gb.fit(X_train,Y_train)\n",
    "pred=gb.predict(X_test)\n",
    "r2score=r2_score(Y_test,pred)\n",
    "cv=cross_val_score(gb,train_x,train_y,cv=5,scoring='r2').mean()\n",
    "print(\"The R2 score is\", r2score)\n",
    "print(\"The cross val score is\", cv)"
   ]
  },
  {
   "cell_type": "markdown",
   "metadata": {},
   "source": [
    "### Saving the file"
   ]
  },
  {
   "cell_type": "code",
   "execution_count": 100,
   "metadata": {},
   "outputs": [
    {
     "data": {
      "text/plain": [
       "['gb_flight_price.obj']"
      ]
     },
     "execution_count": 100,
     "metadata": {},
     "output_type": "execute_result"
    }
   ],
   "source": [
    "import joblib\n",
    "filename='gb_flight_price.obj'\n",
    "joblib.dump(gb,filename)"
   ]
  },
  {
   "cell_type": "markdown",
   "metadata": {},
   "source": [
    "### Loading the model"
   ]
  },
  {
   "cell_type": "code",
   "execution_count": 101,
   "metadata": {},
   "outputs": [
    {
     "data": {
      "text/plain": [
       "GradientBoostingRegressor(n_estimators=500)"
      ]
     },
     "execution_count": 101,
     "metadata": {},
     "output_type": "execute_result"
    }
   ],
   "source": [
    "model=joblib.load(filename)\n",
    "model"
   ]
  },
  {
   "cell_type": "code",
   "execution_count": 102,
   "metadata": {},
   "outputs": [
    {
     "data": {
      "text/plain": [
       "array([29508.00215054, 28934.25808707, 12126.89920734, ...,\n",
       "       28967.03710839, 24551.7321432 , 29935.92614312])"
      ]
     },
     "execution_count": 102,
     "metadata": {},
     "output_type": "execute_result"
    }
   ],
   "source": [
    "prediction=model.predict(test)\n",
    "prediction"
   ]
  },
  {
   "cell_type": "markdown",
   "metadata": {},
   "source": [
    "### Conclusion"
   ]
  },
  {
   "cell_type": "code",
   "execution_count": 103,
   "metadata": {},
   "outputs": [
    {
     "data": {
      "text/html": [
       "<div>\n",
       "<style scoped>\n",
       "    .dataframe tbody tr th:only-of-type {\n",
       "        vertical-align: middle;\n",
       "    }\n",
       "\n",
       "    .dataframe tbody tr th {\n",
       "        vertical-align: top;\n",
       "    }\n",
       "\n",
       "    .dataframe thead th {\n",
       "        text-align: right;\n",
       "    }\n",
       "</style>\n",
       "<table border=\"1\" class=\"dataframe\">\n",
       "  <thead>\n",
       "    <tr style=\"text-align: right;\">\n",
       "      <th></th>\n",
       "      <th>0</th>\n",
       "    </tr>\n",
       "  </thead>\n",
       "  <tbody>\n",
       "    <tr>\n",
       "      <th>0</th>\n",
       "      <td>29508.002151</td>\n",
       "    </tr>\n",
       "    <tr>\n",
       "      <th>1</th>\n",
       "      <td>28934.258087</td>\n",
       "    </tr>\n",
       "    <tr>\n",
       "      <th>2</th>\n",
       "      <td>12126.899207</td>\n",
       "    </tr>\n",
       "    <tr>\n",
       "      <th>3</th>\n",
       "      <td>28775.301354</td>\n",
       "    </tr>\n",
       "    <tr>\n",
       "      <th>4</th>\n",
       "      <td>14103.805784</td>\n",
       "    </tr>\n",
       "    <tr>\n",
       "      <th>...</th>\n",
       "      <td>...</td>\n",
       "    </tr>\n",
       "    <tr>\n",
       "      <th>2640</th>\n",
       "      <td>25997.844955</td>\n",
       "    </tr>\n",
       "    <tr>\n",
       "      <th>2641</th>\n",
       "      <td>28726.882008</td>\n",
       "    </tr>\n",
       "    <tr>\n",
       "      <th>2642</th>\n",
       "      <td>28967.037108</td>\n",
       "    </tr>\n",
       "    <tr>\n",
       "      <th>2643</th>\n",
       "      <td>24551.732143</td>\n",
       "    </tr>\n",
       "    <tr>\n",
       "      <th>2644</th>\n",
       "      <td>29935.926143</td>\n",
       "    </tr>\n",
       "  </tbody>\n",
       "</table>\n",
       "<p>2645 rows × 1 columns</p>\n",
       "</div>"
      ],
      "text/plain": [
       "                 0\n",
       "0     29508.002151\n",
       "1     28934.258087\n",
       "2     12126.899207\n",
       "3     28775.301354\n",
       "4     14103.805784\n",
       "...            ...\n",
       "2640  25997.844955\n",
       "2641  28726.882008\n",
       "2642  28967.037108\n",
       "2643  24551.732143\n",
       "2644  29935.926143\n",
       "\n",
       "[2645 rows x 1 columns]"
      ]
     },
     "execution_count": 103,
     "metadata": {},
     "output_type": "execute_result"
    }
   ],
   "source": [
    "prediction=pd.DataFrame(prediction)\n",
    "prediction"
   ]
  },
  {
   "cell_type": "markdown",
   "metadata": {},
   "source": [
    "### Saving into csv file"
   ]
  },
  {
   "cell_type": "code",
   "execution_count": 104,
   "metadata": {},
   "outputs": [],
   "source": [
    "prediction.to_csv('flight_prices.csv')"
   ]
  },
  {
   "cell_type": "code",
   "execution_count": null,
   "metadata": {},
   "outputs": [],
   "source": []
  }
 ],
 "metadata": {
  "kernelspec": {
   "display_name": "Python 3",
   "language": "python",
   "name": "python3"
  },
  "language_info": {
   "codemirror_mode": {
    "name": "ipython",
    "version": 3
   },
   "file_extension": ".py",
   "mimetype": "text/x-python",
   "name": "python",
   "nbconvert_exporter": "python",
   "pygments_lexer": "ipython3",
   "version": "3.8.3"
  }
 },
 "nbformat": 4,
 "nbformat_minor": 4
}
