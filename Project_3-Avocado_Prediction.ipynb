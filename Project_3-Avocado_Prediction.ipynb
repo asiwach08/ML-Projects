{
 "cells": [
  {
   "cell_type": "markdown",
   "metadata": {},
   "source": [
    "# Avocado Project\n",
    "### Problem Statement:\n",
    "#### Avocado is a fruit consumed by people heavily in the United States. \n",
    "This data was downloaded from the Hass Avocado Board website in May of 2018 & compiled into a single CSV. \n",
    "\n",
    "The table below represents weekly 2018 retail scan data for National retail volume (units) and price. Retail scan data comes directly from retailers’ cash registers based on actual retail sales of Hass avocados. \n",
    "\n",
    "Starting in 2013, the table below reflects an expanded, multi-outlet retail data set. Multi-outlet reporting includes an aggregation of the following channels: grocery, mass, club, drug, dollar and military. The Average Price (of avocados) in the table reflects a per unit (per avocado) cost, even when multiple units (avocados) are sold in bags. \n",
    "\n",
    "The Product Lookup codes (PLU’s) in the table are only for Hass avocados. Other varieties of avocados (e.g. greenskins) are not included in this table"
   ]
  },
  {
   "cell_type": "markdown",
   "metadata": {},
   "source": [
    "### Importing Libraries"
   ]
  },
  {
   "cell_type": "code",
   "execution_count": 1,
   "metadata": {},
   "outputs": [],
   "source": [
    "import pandas as pd\n",
    "import numpy as np\n",
    "import matplotlib.pyplot as plt\n",
    "import seaborn as sns\n",
    "from sklearn.linear_model import LinearRegression,Lasso,Ridge,LassoCV,RidgeCV\n",
    "from sklearn.model_selection import train_test_split,cross_val_score,GridSearchCV\n",
    "from sklearn.neighbors import KNeighborsRegressor\n",
    "from sklearn.ensemble import RandomForestRegressor\n",
    "from sklearn.metrics import mean_squared_error,mean_absolute_error,r2_score\n",
    "from sklearn.preprocessing import StandardScaler\n",
    "import warnings\n",
    "warnings.filterwarnings('ignore')\n",
    "%matplotlib inline"
   ]
  },
  {
   "cell_type": "code",
   "execution_count": 2,
   "metadata": {},
   "outputs": [],
   "source": [
    "# Setting style and color palette\n",
    "sns.color_palette(\"Set2\")\n",
    "sns.set_style(\"whitegrid\")"
   ]
  },
  {
   "cell_type": "markdown",
   "metadata": {},
   "source": [
    "### Uploading data"
   ]
  },
  {
   "cell_type": "code",
   "execution_count": 3,
   "metadata": {
    "scrolled": true
   },
   "outputs": [
    {
     "data": {
      "text/html": [
       "<div>\n",
       "<style scoped>\n",
       "    .dataframe tbody tr th:only-of-type {\n",
       "        vertical-align: middle;\n",
       "    }\n",
       "\n",
       "    .dataframe tbody tr th {\n",
       "        vertical-align: top;\n",
       "    }\n",
       "\n",
       "    .dataframe thead th {\n",
       "        text-align: right;\n",
       "    }\n",
       "</style>\n",
       "<table border=\"1\" class=\"dataframe\">\n",
       "  <thead>\n",
       "    <tr style=\"text-align: right;\">\n",
       "      <th></th>\n",
       "      <th>Unnamed: 0</th>\n",
       "      <th>Date</th>\n",
       "      <th>AveragePrice</th>\n",
       "      <th>Total Volume</th>\n",
       "      <th>4046</th>\n",
       "      <th>4225</th>\n",
       "      <th>4770</th>\n",
       "      <th>Total Bags</th>\n",
       "      <th>Small Bags</th>\n",
       "      <th>Large Bags</th>\n",
       "      <th>XLarge Bags</th>\n",
       "      <th>type</th>\n",
       "      <th>year</th>\n",
       "      <th>region</th>\n",
       "    </tr>\n",
       "  </thead>\n",
       "  <tbody>\n",
       "    <tr>\n",
       "      <th>0</th>\n",
       "      <td>0</td>\n",
       "      <td>2015-12-27</td>\n",
       "      <td>1.33</td>\n",
       "      <td>64236.62</td>\n",
       "      <td>1036.74</td>\n",
       "      <td>54454.85</td>\n",
       "      <td>48.16</td>\n",
       "      <td>8696.87</td>\n",
       "      <td>8603.62</td>\n",
       "      <td>93.25</td>\n",
       "      <td>0.0</td>\n",
       "      <td>conventional</td>\n",
       "      <td>2015</td>\n",
       "      <td>Albany</td>\n",
       "    </tr>\n",
       "    <tr>\n",
       "      <th>1</th>\n",
       "      <td>1</td>\n",
       "      <td>2015-12-20</td>\n",
       "      <td>1.35</td>\n",
       "      <td>54876.98</td>\n",
       "      <td>674.28</td>\n",
       "      <td>44638.81</td>\n",
       "      <td>58.33</td>\n",
       "      <td>9505.56</td>\n",
       "      <td>9408.07</td>\n",
       "      <td>97.49</td>\n",
       "      <td>0.0</td>\n",
       "      <td>conventional</td>\n",
       "      <td>2015</td>\n",
       "      <td>Albany</td>\n",
       "    </tr>\n",
       "    <tr>\n",
       "      <th>2</th>\n",
       "      <td>2</td>\n",
       "      <td>2015-12-13</td>\n",
       "      <td>0.93</td>\n",
       "      <td>118220.22</td>\n",
       "      <td>794.70</td>\n",
       "      <td>109149.67</td>\n",
       "      <td>130.50</td>\n",
       "      <td>8145.35</td>\n",
       "      <td>8042.21</td>\n",
       "      <td>103.14</td>\n",
       "      <td>0.0</td>\n",
       "      <td>conventional</td>\n",
       "      <td>2015</td>\n",
       "      <td>Albany</td>\n",
       "    </tr>\n",
       "    <tr>\n",
       "      <th>3</th>\n",
       "      <td>3</td>\n",
       "      <td>2015-12-06</td>\n",
       "      <td>1.08</td>\n",
       "      <td>78992.15</td>\n",
       "      <td>1132.00</td>\n",
       "      <td>71976.41</td>\n",
       "      <td>72.58</td>\n",
       "      <td>5811.16</td>\n",
       "      <td>5677.40</td>\n",
       "      <td>133.76</td>\n",
       "      <td>0.0</td>\n",
       "      <td>conventional</td>\n",
       "      <td>2015</td>\n",
       "      <td>Albany</td>\n",
       "    </tr>\n",
       "    <tr>\n",
       "      <th>4</th>\n",
       "      <td>4</td>\n",
       "      <td>2015-11-29</td>\n",
       "      <td>1.28</td>\n",
       "      <td>51039.60</td>\n",
       "      <td>941.48</td>\n",
       "      <td>43838.39</td>\n",
       "      <td>75.78</td>\n",
       "      <td>6183.95</td>\n",
       "      <td>5986.26</td>\n",
       "      <td>197.69</td>\n",
       "      <td>0.0</td>\n",
       "      <td>conventional</td>\n",
       "      <td>2015</td>\n",
       "      <td>Albany</td>\n",
       "    </tr>\n",
       "  </tbody>\n",
       "</table>\n",
       "</div>"
      ],
      "text/plain": [
       "   Unnamed: 0       Date  AveragePrice  Total Volume     4046       4225  \\\n",
       "0           0 2015-12-27          1.33      64236.62  1036.74   54454.85   \n",
       "1           1 2015-12-20          1.35      54876.98   674.28   44638.81   \n",
       "2           2 2015-12-13          0.93     118220.22   794.70  109149.67   \n",
       "3           3 2015-12-06          1.08      78992.15  1132.00   71976.41   \n",
       "4           4 2015-11-29          1.28      51039.60   941.48   43838.39   \n",
       "\n",
       "     4770  Total Bags  Small Bags  Large Bags  XLarge Bags          type  \\\n",
       "0   48.16     8696.87     8603.62       93.25          0.0  conventional   \n",
       "1   58.33     9505.56     9408.07       97.49          0.0  conventional   \n",
       "2  130.50     8145.35     8042.21      103.14          0.0  conventional   \n",
       "3   72.58     5811.16     5677.40      133.76          0.0  conventional   \n",
       "4   75.78     6183.95     5986.26      197.69          0.0  conventional   \n",
       "\n",
       "   year  region  \n",
       "0  2015  Albany  \n",
       "1  2015  Albany  \n",
       "2  2015  Albany  \n",
       "3  2015  Albany  \n",
       "4  2015  Albany  "
      ]
     },
     "execution_count": 3,
     "metadata": {},
     "output_type": "execute_result"
    }
   ],
   "source": [
    "# Uploading csv format of data\n",
    "df =pd.read_excel(\"avocado.xlsx\")\n",
    "# Reading the data\n",
    "df.head()"
   ]
  },
  {
   "cell_type": "code",
   "execution_count": 4,
   "metadata": {},
   "outputs": [
    {
     "data": {
      "text/plain": [
       "Index([  'Unnamed: 0',         'Date', 'AveragePrice', 'Total Volume',\n",
       "                 4046,           4225,           4770,   'Total Bags',\n",
       "         'Small Bags',   'Large Bags',  'XLarge Bags',         'type',\n",
       "               'year',       'region'],\n",
       "      dtype='object')"
      ]
     },
     "execution_count": 4,
     "metadata": {},
     "output_type": "execute_result"
    }
   ],
   "source": [
    "df.columns"
   ]
  },
  {
   "cell_type": "markdown",
   "metadata": {},
   "source": [
    "Columns in dataset are:-\n",
    "* Date - The date of the observation\n",
    "* AveragePrice - the average price of a single avocado\n",
    "* type - conventional or organic\n",
    "* year - the year\n",
    "* Region - the city or region of the observation\n",
    "* Total Volume - Total number of avocados sold\n",
    "* 4046 - Total number of avocados with PLU 4046 sold\n",
    "* 4225 - Total number of avocados with PLU 4225 sold\n",
    "* 4770 - Total number of avocados with PLU 4770 sold"
   ]
  },
  {
   "cell_type": "code",
   "execution_count": 5,
   "metadata": {},
   "outputs": [],
   "source": [
    "# We are renaming columns because system is considering them as number rather than columns.\n",
    "df.rename(columns={4046:'4046',4225:'4225',4770:'4770'},inplace=True)"
   ]
  },
  {
   "cell_type": "code",
   "execution_count": 6,
   "metadata": {},
   "outputs": [
    {
     "data": {
      "text/plain": [
       "Index(['Unnamed: 0', 'Date', 'AveragePrice', 'Total Volume', '4046', '4225',\n",
       "       '4770', 'Total Bags', 'Small Bags', 'Large Bags', 'XLarge Bags', 'type',\n",
       "       'year', 'region'],\n",
       "      dtype='object')"
      ]
     },
     "execution_count": 6,
     "metadata": {},
     "output_type": "execute_result"
    }
   ],
   "source": [
    "df.columns"
   ]
  },
  {
   "cell_type": "code",
   "execution_count": 7,
   "metadata": {},
   "outputs": [
    {
     "name": "stdout",
     "output_type": "stream",
     "text": [
      "We have 1517 rows  and 14 columns in our dataset.\n"
     ]
    }
   ],
   "source": [
    "# Let's check number of rows and columns in our data\n",
    "print(\"We have {} rows  and {} columns in our dataset.\".format((len(df)),(len(df.columns))))"
   ]
  },
  {
   "cell_type": "code",
   "execution_count": 8,
   "metadata": {},
   "outputs": [
    {
     "data": {
      "text/plain": [
       "Unnamed: 0               int64\n",
       "Date            datetime64[ns]\n",
       "AveragePrice           float64\n",
       "Total Volume           float64\n",
       "4046                   float64\n",
       "4225                   float64\n",
       "4770                   float64\n",
       "Total Bags             float64\n",
       "Small Bags             float64\n",
       "Large Bags             float64\n",
       "XLarge Bags            float64\n",
       "type                    object\n",
       "year                     int64\n",
       "region                  object\n",
       "dtype: object"
      ]
     },
     "execution_count": 8,
     "metadata": {},
     "output_type": "execute_result"
    }
   ],
   "source": [
    "# Let's check the data type\n",
    "df.dtypes"
   ]
  },
  {
   "cell_type": "markdown",
   "metadata": {},
   "source": [
    "`Our data contains float, integer ,datetime and object type of data.`"
   ]
  },
  {
   "cell_type": "code",
   "execution_count": 9,
   "metadata": {},
   "outputs": [
    {
     "name": "stdout",
     "output_type": "stream",
     "text": [
      "<class 'pandas.core.frame.DataFrame'>\n",
      "RangeIndex: 1517 entries, 0 to 1516\n",
      "Data columns (total 14 columns):\n",
      " #   Column        Non-Null Count  Dtype         \n",
      "---  ------        --------------  -----         \n",
      " 0   Unnamed: 0    1517 non-null   int64         \n",
      " 1   Date          1517 non-null   datetime64[ns]\n",
      " 2   AveragePrice  1517 non-null   float64       \n",
      " 3   Total Volume  1517 non-null   float64       \n",
      " 4   4046          1517 non-null   float64       \n",
      " 5   4225          1517 non-null   float64       \n",
      " 6   4770          1517 non-null   float64       \n",
      " 7   Total Bags    1517 non-null   float64       \n",
      " 8   Small Bags    1517 non-null   float64       \n",
      " 9   Large Bags    1517 non-null   float64       \n",
      " 10  XLarge Bags   1517 non-null   float64       \n",
      " 11  type          1517 non-null   object        \n",
      " 12  year          1517 non-null   int64         \n",
      " 13  region        1517 non-null   object        \n",
      "dtypes: datetime64[ns](1), float64(9), int64(2), object(2)\n",
      "memory usage: 166.0+ KB\n"
     ]
    }
   ],
   "source": [
    "# Let's check full information about our data\n",
    "df.info()"
   ]
  },
  {
   "cell_type": "markdown",
   "metadata": {},
   "source": [
    "`In dataset we contains 0 to 1517 rows and total 14 columns`.\n",
    "\n",
    "`Dataset is composed of 4 types of datatype-`\n",
    "* `float -9columns`\n",
    "* `object - 2columns`\n",
    "* `integer -2columns`\n",
    "* `datetime -1column`"
   ]
  },
  {
   "cell_type": "code",
   "execution_count": 10,
   "metadata": {},
   "outputs": [
    {
     "name": "stdout",
     "output_type": "stream",
     "text": [
      "There is no null values in dataset\n"
     ]
    }
   ],
   "source": [
    "# Checking null values\n",
    "\n",
    "if df.isnull().sum().any()==True:\n",
    "    print(\"Null values present in dataset\")\n",
    "else:\n",
    "    print(\"There is no null values in dataset\")"
   ]
  },
  {
   "cell_type": "code",
   "execution_count": 11,
   "metadata": {},
   "outputs": [
    {
     "name": "stdout",
     "output_type": "stream",
     "text": [
      "There are no duplicate values in our data\n"
     ]
    }
   ],
   "source": [
    "# Let's check the duplicate values in data\n",
    "if df.duplicated().sum().any()==True:\n",
    "    print(\"Our data contains duplicate values\")\n",
    "else:\n",
    "    print(\"There are no duplicate values in our data\")"
   ]
  },
  {
   "cell_type": "code",
   "execution_count": 12,
   "metadata": {},
   "outputs": [],
   "source": [
    "# Let's drop unwanted column Unnamed:0\n",
    "df.drop(['Unnamed: 0'],axis=1,inplace=True)"
   ]
  },
  {
   "cell_type": "code",
   "execution_count": 13,
   "metadata": {},
   "outputs": [],
   "source": [
    "\n",
    "\n",
    "# Extracting month from the date column\n",
    "df['Month']=df['Date'].apply(lambda x:x.month)\n",
    "\n",
    "# Now drop date column\n",
    "df=df.drop(['Date'],axis=1)"
   ]
  },
  {
   "cell_type": "code",
   "execution_count": 14,
   "metadata": {},
   "outputs": [
    {
     "data": {
      "text/html": [
       "<div>\n",
       "<style scoped>\n",
       "    .dataframe tbody tr th:only-of-type {\n",
       "        vertical-align: middle;\n",
       "    }\n",
       "\n",
       "    .dataframe tbody tr th {\n",
       "        vertical-align: top;\n",
       "    }\n",
       "\n",
       "    .dataframe thead th {\n",
       "        text-align: right;\n",
       "    }\n",
       "</style>\n",
       "<table border=\"1\" class=\"dataframe\">\n",
       "  <thead>\n",
       "    <tr style=\"text-align: right;\">\n",
       "      <th></th>\n",
       "      <th>AveragePrice</th>\n",
       "      <th>Total Volume</th>\n",
       "      <th>4046</th>\n",
       "      <th>4225</th>\n",
       "      <th>4770</th>\n",
       "      <th>Total Bags</th>\n",
       "      <th>Small Bags</th>\n",
       "      <th>Large Bags</th>\n",
       "      <th>XLarge Bags</th>\n",
       "      <th>type</th>\n",
       "      <th>year</th>\n",
       "      <th>region</th>\n",
       "      <th>Month</th>\n",
       "    </tr>\n",
       "  </thead>\n",
       "  <tbody>\n",
       "    <tr>\n",
       "      <th>0</th>\n",
       "      <td>1.33</td>\n",
       "      <td>64236.62</td>\n",
       "      <td>1036.74</td>\n",
       "      <td>54454.85</td>\n",
       "      <td>48.16</td>\n",
       "      <td>8696.87</td>\n",
       "      <td>8603.62</td>\n",
       "      <td>93.25</td>\n",
       "      <td>0.0</td>\n",
       "      <td>conventional</td>\n",
       "      <td>2015</td>\n",
       "      <td>Albany</td>\n",
       "      <td>12</td>\n",
       "    </tr>\n",
       "    <tr>\n",
       "      <th>1</th>\n",
       "      <td>1.35</td>\n",
       "      <td>54876.98</td>\n",
       "      <td>674.28</td>\n",
       "      <td>44638.81</td>\n",
       "      <td>58.33</td>\n",
       "      <td>9505.56</td>\n",
       "      <td>9408.07</td>\n",
       "      <td>97.49</td>\n",
       "      <td>0.0</td>\n",
       "      <td>conventional</td>\n",
       "      <td>2015</td>\n",
       "      <td>Albany</td>\n",
       "      <td>12</td>\n",
       "    </tr>\n",
       "    <tr>\n",
       "      <th>2</th>\n",
       "      <td>0.93</td>\n",
       "      <td>118220.22</td>\n",
       "      <td>794.70</td>\n",
       "      <td>109149.67</td>\n",
       "      <td>130.50</td>\n",
       "      <td>8145.35</td>\n",
       "      <td>8042.21</td>\n",
       "      <td>103.14</td>\n",
       "      <td>0.0</td>\n",
       "      <td>conventional</td>\n",
       "      <td>2015</td>\n",
       "      <td>Albany</td>\n",
       "      <td>12</td>\n",
       "    </tr>\n",
       "    <tr>\n",
       "      <th>3</th>\n",
       "      <td>1.08</td>\n",
       "      <td>78992.15</td>\n",
       "      <td>1132.00</td>\n",
       "      <td>71976.41</td>\n",
       "      <td>72.58</td>\n",
       "      <td>5811.16</td>\n",
       "      <td>5677.40</td>\n",
       "      <td>133.76</td>\n",
       "      <td>0.0</td>\n",
       "      <td>conventional</td>\n",
       "      <td>2015</td>\n",
       "      <td>Albany</td>\n",
       "      <td>12</td>\n",
       "    </tr>\n",
       "    <tr>\n",
       "      <th>4</th>\n",
       "      <td>1.28</td>\n",
       "      <td>51039.60</td>\n",
       "      <td>941.48</td>\n",
       "      <td>43838.39</td>\n",
       "      <td>75.78</td>\n",
       "      <td>6183.95</td>\n",
       "      <td>5986.26</td>\n",
       "      <td>197.69</td>\n",
       "      <td>0.0</td>\n",
       "      <td>conventional</td>\n",
       "      <td>2015</td>\n",
       "      <td>Albany</td>\n",
       "      <td>11</td>\n",
       "    </tr>\n",
       "  </tbody>\n",
       "</table>\n",
       "</div>"
      ],
      "text/plain": [
       "   AveragePrice  Total Volume     4046       4225    4770  Total Bags  \\\n",
       "0          1.33      64236.62  1036.74   54454.85   48.16     8696.87   \n",
       "1          1.35      54876.98   674.28   44638.81   58.33     9505.56   \n",
       "2          0.93     118220.22   794.70  109149.67  130.50     8145.35   \n",
       "3          1.08      78992.15  1132.00   71976.41   72.58     5811.16   \n",
       "4          1.28      51039.60   941.48   43838.39   75.78     6183.95   \n",
       "\n",
       "   Small Bags  Large Bags  XLarge Bags          type  year  region  Month  \n",
       "0     8603.62       93.25          0.0  conventional  2015  Albany     12  \n",
       "1     9408.07       97.49          0.0  conventional  2015  Albany     12  \n",
       "2     8042.21      103.14          0.0  conventional  2015  Albany     12  \n",
       "3     5677.40      133.76          0.0  conventional  2015  Albany     12  \n",
       "4     5986.26      197.69          0.0  conventional  2015  Albany     11  "
      ]
     },
     "execution_count": 14,
     "metadata": {},
     "output_type": "execute_result"
    }
   ],
   "source": [
    "# checking the changes done in dataset\n",
    "df.head()"
   ]
  },
  {
   "cell_type": "code",
   "execution_count": 15,
   "metadata": {},
   "outputs": [
    {
     "data": {
      "text/html": [
       "<div>\n",
       "<style scoped>\n",
       "    .dataframe tbody tr th:only-of-type {\n",
       "        vertical-align: middle;\n",
       "    }\n",
       "\n",
       "    .dataframe tbody tr th {\n",
       "        vertical-align: top;\n",
       "    }\n",
       "\n",
       "    .dataframe thead th {\n",
       "        text-align: right;\n",
       "    }\n",
       "</style>\n",
       "<table border=\"1\" class=\"dataframe\">\n",
       "  <thead>\n",
       "    <tr style=\"text-align: right;\">\n",
       "      <th></th>\n",
       "      <th></th>\n",
       "      <th>AveragePrice</th>\n",
       "    </tr>\n",
       "    <tr>\n",
       "      <th>type</th>\n",
       "      <th>year</th>\n",
       "      <th></th>\n",
       "    </tr>\n",
       "  </thead>\n",
       "  <tbody>\n",
       "    <tr>\n",
       "      <th rowspan=\"2\" valign=\"top\">conventional</th>\n",
       "      <th>2015</th>\n",
       "      <td>1.060110</td>\n",
       "    </tr>\n",
       "    <tr>\n",
       "      <th>2016</th>\n",
       "      <td>1.151498</td>\n",
       "    </tr>\n",
       "  </tbody>\n",
       "</table>\n",
       "</div>"
      ],
      "text/plain": [
       "                   AveragePrice\n",
       "type         year              \n",
       "conventional 2015      1.060110\n",
       "             2016      1.151498"
      ]
     },
     "execution_count": 15,
     "metadata": {},
     "output_type": "execute_result"
    }
   ],
   "source": [
    "c=pd.DataFrame(df.groupby(['type','year'])['AveragePrice'].mean())\n",
    "c"
   ]
  },
  {
   "cell_type": "code",
   "execution_count": 16,
   "metadata": {},
   "outputs": [
    {
     "data": {
      "text/plain": [
       "<matplotlib.axes._subplots.AxesSubplot at 0x1d6ce7ae0a0>"
      ]
     },
     "execution_count": 16,
     "metadata": {},
     "output_type": "execute_result"
    },
    {
     "data": {
      "image/png": "[encoded data removed]",
      "text/plain": [
       "<Figure size 432x288 with 1 Axes>"
      ]
     },
     "metadata": {},
     "output_type": "display_data"
    }
   ],
   "source": [
    "sns.scatterplot(x='Month',y='AveragePrice',markers=True,data=df)"
   ]
  },
  {
   "cell_type": "markdown",
   "metadata": {},
   "source": [
    "##### In the end months of year ,there is high in prices of avocado or we can aalso say that there is huge difference in the average price in the end months of year."
   ]
  },
  {
   "cell_type": "code",
   "execution_count": 17,
   "metadata": {},
   "outputs": [
    {
     "data": {
      "image/png": "[encoded data removed]",
      "text/plain": [
       "<Figure size 1440x1152 with 16 Axes>"
      ]
     },
     "metadata": {},
     "output_type": "display_data"
    }
   ],
   "source": [
    "df.plot(kind='box',subplots=True,layout=(4,4),figsize=(20,16))\n",
    "plt.show()"
   ]
  },
  {
   "cell_type": "markdown",
   "metadata": {},
   "source": [
    "##### There a lot o outliers in our dataset, we need to remove them according to our model needs ."
   ]
  },
  {
   "cell_type": "code",
   "execution_count": 18,
   "metadata": {},
   "outputs": [
    {
     "data": {
      "text/html": [
       "<div>\n",
       "<style scoped>\n",
       "    .dataframe tbody tr th:only-of-type {\n",
       "        vertical-align: middle;\n",
       "    }\n",
       "\n",
       "    .dataframe tbody tr th {\n",
       "        vertical-align: top;\n",
       "    }\n",
       "\n",
       "    .dataframe thead th {\n",
       "        text-align: right;\n",
       "    }\n",
       "</style>\n",
       "<table border=\"1\" class=\"dataframe\">\n",
       "  <thead>\n",
       "    <tr style=\"text-align: right;\">\n",
       "      <th></th>\n",
       "      <th>AveragePrice</th>\n",
       "      <th>Total Volume</th>\n",
       "      <th>4046</th>\n",
       "      <th>4225</th>\n",
       "      <th>4770</th>\n",
       "      <th>Total Bags</th>\n",
       "      <th>Small Bags</th>\n",
       "      <th>Large Bags</th>\n",
       "      <th>XLarge Bags</th>\n",
       "      <th>type</th>\n",
       "      <th>year</th>\n",
       "      <th>region</th>\n",
       "      <th>Month</th>\n",
       "    </tr>\n",
       "  </thead>\n",
       "  <tbody>\n",
       "    <tr>\n",
       "      <th>0</th>\n",
       "      <td>1.33</td>\n",
       "      <td>64236.62</td>\n",
       "      <td>1036.74</td>\n",
       "      <td>54454.85</td>\n",
       "      <td>48.16</td>\n",
       "      <td>8696.87</td>\n",
       "      <td>8603.62</td>\n",
       "      <td>93.25</td>\n",
       "      <td>0.0</td>\n",
       "      <td>conventional</td>\n",
       "      <td>2015</td>\n",
       "      <td>Albany</td>\n",
       "      <td>12</td>\n",
       "    </tr>\n",
       "    <tr>\n",
       "      <th>1</th>\n",
       "      <td>1.35</td>\n",
       "      <td>54876.98</td>\n",
       "      <td>674.28</td>\n",
       "      <td>44638.81</td>\n",
       "      <td>58.33</td>\n",
       "      <td>9505.56</td>\n",
       "      <td>9408.07</td>\n",
       "      <td>97.49</td>\n",
       "      <td>0.0</td>\n",
       "      <td>conventional</td>\n",
       "      <td>2015</td>\n",
       "      <td>Albany</td>\n",
       "      <td>12</td>\n",
       "    </tr>\n",
       "    <tr>\n",
       "      <th>2</th>\n",
       "      <td>0.93</td>\n",
       "      <td>118220.22</td>\n",
       "      <td>794.70</td>\n",
       "      <td>109149.67</td>\n",
       "      <td>130.50</td>\n",
       "      <td>8145.35</td>\n",
       "      <td>8042.21</td>\n",
       "      <td>103.14</td>\n",
       "      <td>0.0</td>\n",
       "      <td>conventional</td>\n",
       "      <td>2015</td>\n",
       "      <td>Albany</td>\n",
       "      <td>12</td>\n",
       "    </tr>\n",
       "    <tr>\n",
       "      <th>3</th>\n",
       "      <td>1.08</td>\n",
       "      <td>78992.15</td>\n",
       "      <td>1132.00</td>\n",
       "      <td>71976.41</td>\n",
       "      <td>72.58</td>\n",
       "      <td>5811.16</td>\n",
       "      <td>5677.40</td>\n",
       "      <td>133.76</td>\n",
       "      <td>0.0</td>\n",
       "      <td>conventional</td>\n",
       "      <td>2015</td>\n",
       "      <td>Albany</td>\n",
       "      <td>12</td>\n",
       "    </tr>\n",
       "    <tr>\n",
       "      <th>4</th>\n",
       "      <td>1.28</td>\n",
       "      <td>51039.60</td>\n",
       "      <td>941.48</td>\n",
       "      <td>43838.39</td>\n",
       "      <td>75.78</td>\n",
       "      <td>6183.95</td>\n",
       "      <td>5986.26</td>\n",
       "      <td>197.69</td>\n",
       "      <td>0.0</td>\n",
       "      <td>conventional</td>\n",
       "      <td>2015</td>\n",
       "      <td>Albany</td>\n",
       "      <td>11</td>\n",
       "    </tr>\n",
       "  </tbody>\n",
       "</table>\n",
       "</div>"
      ],
      "text/plain": [
       "   AveragePrice  Total Volume     4046       4225    4770  Total Bags  \\\n",
       "0          1.33      64236.62  1036.74   54454.85   48.16     8696.87   \n",
       "1          1.35      54876.98   674.28   44638.81   58.33     9505.56   \n",
       "2          0.93     118220.22   794.70  109149.67  130.50     8145.35   \n",
       "3          1.08      78992.15  1132.00   71976.41   72.58     5811.16   \n",
       "4          1.28      51039.60   941.48   43838.39   75.78     6183.95   \n",
       "\n",
       "   Small Bags  Large Bags  XLarge Bags          type  year  region  Month  \n",
       "0     8603.62       93.25          0.0  conventional  2015  Albany     12  \n",
       "1     9408.07       97.49          0.0  conventional  2015  Albany     12  \n",
       "2     8042.21      103.14          0.0  conventional  2015  Albany     12  \n",
       "3     5677.40      133.76          0.0  conventional  2015  Albany     12  \n",
       "4     5986.26      197.69          0.0  conventional  2015  Albany     11  "
      ]
     },
     "execution_count": 18,
     "metadata": {},
     "output_type": "execute_result"
    }
   ],
   "source": [
    "df.head()"
   ]
  },
  {
   "cell_type": "code",
   "execution_count": 19,
   "metadata": {},
   "outputs": [],
   "source": [
    "from sklearn.preprocessing import LabelEncoder\n",
    "for column in df.columns:\n",
    "    if df[column].dtype==np.number:\n",
    "        continue\n",
    "    else:\n",
    "        df[column]=LabelEncoder().fit_transform(df[column])"
   ]
  },
  {
   "cell_type": "code",
   "execution_count": 20,
   "metadata": {},
   "outputs": [
    {
     "data": {
      "text/html": [
       "<div>\n",
       "<style scoped>\n",
       "    .dataframe tbody tr th:only-of-type {\n",
       "        vertical-align: middle;\n",
       "    }\n",
       "\n",
       "    .dataframe tbody tr th {\n",
       "        vertical-align: top;\n",
       "    }\n",
       "\n",
       "    .dataframe thead th {\n",
       "        text-align: right;\n",
       "    }\n",
       "</style>\n",
       "<table border=\"1\" class=\"dataframe\">\n",
       "  <thead>\n",
       "    <tr style=\"text-align: right;\">\n",
       "      <th></th>\n",
       "      <th>AveragePrice</th>\n",
       "      <th>Total Volume</th>\n",
       "      <th>4046</th>\n",
       "      <th>4225</th>\n",
       "      <th>4770</th>\n",
       "      <th>Total Bags</th>\n",
       "      <th>Small Bags</th>\n",
       "      <th>Large Bags</th>\n",
       "      <th>XLarge Bags</th>\n",
       "      <th>type</th>\n",
       "      <th>year</th>\n",
       "      <th>region</th>\n",
       "      <th>Month</th>\n",
       "    </tr>\n",
       "  </thead>\n",
       "  <tbody>\n",
       "    <tr>\n",
       "      <th>476</th>\n",
       "      <td>0.77</td>\n",
       "      <td>983910.94</td>\n",
       "      <td>549415.32</td>\n",
       "      <td>309974.97</td>\n",
       "      <td>4231.47</td>\n",
       "      <td>120289.18</td>\n",
       "      <td>95546.28</td>\n",
       "      <td>24742.90</td>\n",
       "      <td>0.00</td>\n",
       "      <td>0</td>\n",
       "      <td>0</td>\n",
       "      <td>17</td>\n",
       "      <td>0</td>\n",
       "    </tr>\n",
       "    <tr>\n",
       "      <th>160</th>\n",
       "      <td>1.26</td>\n",
       "      <td>408485.16</td>\n",
       "      <td>3575.89</td>\n",
       "      <td>294164.23</td>\n",
       "      <td>106.09</td>\n",
       "      <td>110638.95</td>\n",
       "      <td>108644.33</td>\n",
       "      <td>1994.62</td>\n",
       "      <td>0.00</td>\n",
       "      <td>0</td>\n",
       "      <td>0</td>\n",
       "      <td>4</td>\n",
       "      <td>3</td>\n",
       "    </tr>\n",
       "    <tr>\n",
       "      <th>1461</th>\n",
       "      <td>1.34</td>\n",
       "      <td>5375978.50</td>\n",
       "      <td>2021375.04</td>\n",
       "      <td>1750074.56</td>\n",
       "      <td>123430.31</td>\n",
       "      <td>1481098.59</td>\n",
       "      <td>1379624.20</td>\n",
       "      <td>74894.96</td>\n",
       "      <td>26579.43</td>\n",
       "      <td>0</td>\n",
       "      <td>1</td>\n",
       "      <td>6</td>\n",
       "      <td>9</td>\n",
       "    </tr>\n",
       "    <tr>\n",
       "      <th>486</th>\n",
       "      <td>1.30</td>\n",
       "      <td>121767.82</td>\n",
       "      <td>5833.67</td>\n",
       "      <td>75495.03</td>\n",
       "      <td>4664.15</td>\n",
       "      <td>35774.97</td>\n",
       "      <td>22442.70</td>\n",
       "      <td>12428.29</td>\n",
       "      <td>903.98</td>\n",
       "      <td>0</td>\n",
       "      <td>0</td>\n",
       "      <td>18</td>\n",
       "      <td>1</td>\n",
       "    </tr>\n",
       "    <tr>\n",
       "      <th>1175</th>\n",
       "      <td>0.95</td>\n",
       "      <td>438581.50</td>\n",
       "      <td>262821.95</td>\n",
       "      <td>58036.49</td>\n",
       "      <td>773.09</td>\n",
       "      <td>116949.97</td>\n",
       "      <td>80513.03</td>\n",
       "      <td>36436.94</td>\n",
       "      <td>0.00</td>\n",
       "      <td>0</td>\n",
       "      <td>0</td>\n",
       "      <td>47</td>\n",
       "      <td>5</td>\n",
       "    </tr>\n",
       "    <tr>\n",
       "      <th>1332</th>\n",
       "      <td>1.34</td>\n",
       "      <td>59788.57</td>\n",
       "      <td>25832.98</td>\n",
       "      <td>3018.08</td>\n",
       "      <td>7311.55</td>\n",
       "      <td>23625.96</td>\n",
       "      <td>22909.91</td>\n",
       "      <td>622.44</td>\n",
       "      <td>93.61</td>\n",
       "      <td>0</td>\n",
       "      <td>1</td>\n",
       "      <td>3</td>\n",
       "      <td>9</td>\n",
       "    </tr>\n",
       "    <tr>\n",
       "      <th>1147</th>\n",
       "      <td>1.33</td>\n",
       "      <td>41143.51</td>\n",
       "      <td>2506.61</td>\n",
       "      <td>20905.01</td>\n",
       "      <td>16.68</td>\n",
       "      <td>17715.21</td>\n",
       "      <td>17715.21</td>\n",
       "      <td>0.00</td>\n",
       "      <td>0.00</td>\n",
       "      <td>0</td>\n",
       "      <td>0</td>\n",
       "      <td>46</td>\n",
       "      <td>0</td>\n",
       "    </tr>\n",
       "    <tr>\n",
       "      <th>1222</th>\n",
       "      <td>0.92</td>\n",
       "      <td>5811260.29</td>\n",
       "      <td>2194373.38</td>\n",
       "      <td>2317428.16</td>\n",
       "      <td>136996.39</td>\n",
       "      <td>1162462.36</td>\n",
       "      <td>733843.93</td>\n",
       "      <td>428556.23</td>\n",
       "      <td>62.20</td>\n",
       "      <td>0</td>\n",
       "      <td>0</td>\n",
       "      <td>49</td>\n",
       "      <td>8</td>\n",
       "    </tr>\n",
       "    <tr>\n",
       "      <th>672</th>\n",
       "      <td>1.37</td>\n",
       "      <td>1515022.63</td>\n",
       "      <td>21741.70</td>\n",
       "      <td>1103694.97</td>\n",
       "      <td>1724.03</td>\n",
       "      <td>387861.93</td>\n",
       "      <td>322563.16</td>\n",
       "      <td>65288.42</td>\n",
       "      <td>10.35</td>\n",
       "      <td>0</td>\n",
       "      <td>0</td>\n",
       "      <td>26</td>\n",
       "      <td>4</td>\n",
       "    </tr>\n",
       "    <tr>\n",
       "      <th>627</th>\n",
       "      <td>1.11</td>\n",
       "      <td>140649.30</td>\n",
       "      <td>91537.59</td>\n",
       "      <td>7598.50</td>\n",
       "      <td>12377.93</td>\n",
       "      <td>29135.28</td>\n",
       "      <td>22422.52</td>\n",
       "      <td>6712.76</td>\n",
       "      <td>0.00</td>\n",
       "      <td>0</td>\n",
       "      <td>0</td>\n",
       "      <td>25</td>\n",
       "      <td>3</td>\n",
       "    </tr>\n",
       "    <tr>\n",
       "      <th>1289</th>\n",
       "      <td>0.83</td>\n",
       "      <td>590001.82</td>\n",
       "      <td>258662.26</td>\n",
       "      <td>141605.69</td>\n",
       "      <td>432.50</td>\n",
       "      <td>189301.37</td>\n",
       "      <td>69497.05</td>\n",
       "      <td>119037.82</td>\n",
       "      <td>766.50</td>\n",
       "      <td>0</td>\n",
       "      <td>1</td>\n",
       "      <td>1</td>\n",
       "      <td>3</td>\n",
       "    </tr>\n",
       "    <tr>\n",
       "      <th>691</th>\n",
       "      <td>1.09</td>\n",
       "      <td>4457049.41</td>\n",
       "      <td>128978.49</td>\n",
       "      <td>3354876.63</td>\n",
       "      <td>7219.81</td>\n",
       "      <td>965974.48</td>\n",
       "      <td>869917.39</td>\n",
       "      <td>96055.45</td>\n",
       "      <td>1.64</td>\n",
       "      <td>0</td>\n",
       "      <td>0</td>\n",
       "      <td>27</td>\n",
       "      <td>1</td>\n",
       "    </tr>\n",
       "    <tr>\n",
       "      <th>640</th>\n",
       "      <td>1.08</td>\n",
       "      <td>143464.64</td>\n",
       "      <td>97216.47</td>\n",
       "      <td>8423.57</td>\n",
       "      <td>12187.72</td>\n",
       "      <td>25636.88</td>\n",
       "      <td>23520.54</td>\n",
       "      <td>2116.34</td>\n",
       "      <td>0.00</td>\n",
       "      <td>0</td>\n",
       "      <td>0</td>\n",
       "      <td>25</td>\n",
       "      <td>0</td>\n",
       "    </tr>\n",
       "    <tr>\n",
       "      <th>188</th>\n",
       "      <td>1.10</td>\n",
       "      <td>6232081.27</td>\n",
       "      <td>3260775.73</td>\n",
       "      <td>2196704.97</td>\n",
       "      <td>193831.60</td>\n",
       "      <td>580768.97</td>\n",
       "      <td>570728.54</td>\n",
       "      <td>7356.84</td>\n",
       "      <td>2683.59</td>\n",
       "      <td>0</td>\n",
       "      <td>0</td>\n",
       "      <td>6</td>\n",
       "      <td>7</td>\n",
       "    </tr>\n",
       "    <tr>\n",
       "      <th>714</th>\n",
       "      <td>1.13</td>\n",
       "      <td>395127.18</td>\n",
       "      <td>2834.15</td>\n",
       "      <td>337184.98</td>\n",
       "      <td>457.24</td>\n",
       "      <td>54650.81</td>\n",
       "      <td>54650.81</td>\n",
       "      <td>0.00</td>\n",
       "      <td>0.00</td>\n",
       "      <td>0</td>\n",
       "      <td>0</td>\n",
       "      <td>28</td>\n",
       "      <td>7</td>\n",
       "    </tr>\n",
       "    <tr>\n",
       "      <th>566</th>\n",
       "      <td>1.09</td>\n",
       "      <td>78926.90</td>\n",
       "      <td>5051.31</td>\n",
       "      <td>45325.78</td>\n",
       "      <td>7750.34</td>\n",
       "      <td>20799.47</td>\n",
       "      <td>11076.00</td>\n",
       "      <td>7718.56</td>\n",
       "      <td>2004.91</td>\n",
       "      <td>0</td>\n",
       "      <td>0</td>\n",
       "      <td>22</td>\n",
       "      <td>7</td>\n",
       "    </tr>\n",
       "    <tr>\n",
       "      <th>592</th>\n",
       "      <td>1.25</td>\n",
       "      <td>348210.50</td>\n",
       "      <td>249833.46</td>\n",
       "      <td>35897.43</td>\n",
       "      <td>34.50</td>\n",
       "      <td>62445.11</td>\n",
       "      <td>36164.82</td>\n",
       "      <td>26280.29</td>\n",
       "      <td>0.00</td>\n",
       "      <td>0</td>\n",
       "      <td>0</td>\n",
       "      <td>23</td>\n",
       "      <td>1</td>\n",
       "    </tr>\n",
       "    <tr>\n",
       "      <th>8</th>\n",
       "      <td>1.02</td>\n",
       "      <td>99811.42</td>\n",
       "      <td>1022.15</td>\n",
       "      <td>87315.57</td>\n",
       "      <td>85.34</td>\n",
       "      <td>11388.36</td>\n",
       "      <td>11104.53</td>\n",
       "      <td>283.83</td>\n",
       "      <td>0.00</td>\n",
       "      <td>0</td>\n",
       "      <td>0</td>\n",
       "      <td>0</td>\n",
       "      <td>10</td>\n",
       "    </tr>\n",
       "    <tr>\n",
       "      <th>249</th>\n",
       "      <td>1.03</td>\n",
       "      <td>124617.07</td>\n",
       "      <td>69742.59</td>\n",
       "      <td>21750.83</td>\n",
       "      <td>12957.84</td>\n",
       "      <td>20165.81</td>\n",
       "      <td>14642.30</td>\n",
       "      <td>4307.42</td>\n",
       "      <td>1216.09</td>\n",
       "      <td>0</td>\n",
       "      <td>0</td>\n",
       "      <td>9</td>\n",
       "      <td>11</td>\n",
       "    </tr>\n",
       "    <tr>\n",
       "      <th>701</th>\n",
       "      <td>1.25</td>\n",
       "      <td>219689.90</td>\n",
       "      <td>2897.91</td>\n",
       "      <td>181977.84</td>\n",
       "      <td>88.58</td>\n",
       "      <td>34725.57</td>\n",
       "      <td>34725.57</td>\n",
       "      <td>0.00</td>\n",
       "      <td>0.00</td>\n",
       "      <td>0</td>\n",
       "      <td>0</td>\n",
       "      <td>28</td>\n",
       "      <td>10</td>\n",
       "    </tr>\n",
       "  </tbody>\n",
       "</table>\n",
       "</div>"
      ],
      "text/plain": [
       "      AveragePrice  Total Volume        4046        4225       4770  \\\n",
       "476           0.77     983910.94   549415.32   309974.97    4231.47   \n",
       "160           1.26     408485.16     3575.89   294164.23     106.09   \n",
       "1461          1.34    5375978.50  2021375.04  1750074.56  123430.31   \n",
       "486           1.30     121767.82     5833.67    75495.03    4664.15   \n",
       "1175          0.95     438581.50   262821.95    58036.49     773.09   \n",
       "1332          1.34      59788.57    25832.98     3018.08    7311.55   \n",
       "1147          1.33      41143.51     2506.61    20905.01      16.68   \n",
       "1222          0.92    5811260.29  2194373.38  2317428.16  136996.39   \n",
       "672           1.37    1515022.63    21741.70  1103694.97    1724.03   \n",
       "627           1.11     140649.30    91537.59     7598.50   12377.93   \n",
       "1289          0.83     590001.82   258662.26   141605.69     432.50   \n",
       "691           1.09    4457049.41   128978.49  3354876.63    7219.81   \n",
       "640           1.08     143464.64    97216.47     8423.57   12187.72   \n",
       "188           1.10    6232081.27  3260775.73  2196704.97  193831.60   \n",
       "714           1.13     395127.18     2834.15   337184.98     457.24   \n",
       "566           1.09      78926.90     5051.31    45325.78    7750.34   \n",
       "592           1.25     348210.50   249833.46    35897.43      34.50   \n",
       "8             1.02      99811.42     1022.15    87315.57      85.34   \n",
       "249           1.03     124617.07    69742.59    21750.83   12957.84   \n",
       "701           1.25     219689.90     2897.91   181977.84      88.58   \n",
       "\n",
       "      Total Bags  Small Bags  Large Bags  XLarge Bags  type  year  region  \\\n",
       "476    120289.18    95546.28    24742.90         0.00     0     0      17   \n",
       "160    110638.95   108644.33     1994.62         0.00     0     0       4   \n",
       "1461  1481098.59  1379624.20    74894.96     26579.43     0     1       6   \n",
       "486     35774.97    22442.70    12428.29       903.98     0     0      18   \n",
       "1175   116949.97    80513.03    36436.94         0.00     0     0      47   \n",
       "1332    23625.96    22909.91      622.44        93.61     0     1       3   \n",
       "1147    17715.21    17715.21        0.00         0.00     0     0      46   \n",
       "1222  1162462.36   733843.93   428556.23        62.20     0     0      49   \n",
       "672    387861.93   322563.16    65288.42        10.35     0     0      26   \n",
       "627     29135.28    22422.52     6712.76         0.00     0     0      25   \n",
       "1289   189301.37    69497.05   119037.82       766.50     0     1       1   \n",
       "691    965974.48   869917.39    96055.45         1.64     0     0      27   \n",
       "640     25636.88    23520.54     2116.34         0.00     0     0      25   \n",
       "188    580768.97   570728.54     7356.84      2683.59     0     0       6   \n",
       "714     54650.81    54650.81        0.00         0.00     0     0      28   \n",
       "566     20799.47    11076.00     7718.56      2004.91     0     0      22   \n",
       "592     62445.11    36164.82    26280.29         0.00     0     0      23   \n",
       "8       11388.36    11104.53      283.83         0.00     0     0       0   \n",
       "249     20165.81    14642.30     4307.42      1216.09     0     0       9   \n",
       "701     34725.57    34725.57        0.00         0.00     0     0      28   \n",
       "\n",
       "      Month  \n",
       "476       0  \n",
       "160       3  \n",
       "1461      9  \n",
       "486       1  \n",
       "1175      5  \n",
       "1332      9  \n",
       "1147      0  \n",
       "1222      8  \n",
       "672       4  \n",
       "627       3  \n",
       "1289      3  \n",
       "691       1  \n",
       "640       0  \n",
       "188       7  \n",
       "714       7  \n",
       "566       7  \n",
       "592       1  \n",
       "8        10  \n",
       "249      11  \n",
       "701      10  "
      ]
     },
     "execution_count": 20,
     "metadata": {},
     "output_type": "execute_result"
    }
   ],
   "source": [
    "df.sample(20)"
   ]
  },
  {
   "cell_type": "code",
   "execution_count": 21,
   "metadata": {},
   "outputs": [
    {
     "data": {
      "text/plain": [
       "<matplotlib.axes._subplots.AxesSubplot at 0x1d6cf25cbb0>"
      ]
     },
     "execution_count": 21,
     "metadata": {},
     "output_type": "execute_result"
    },
    {
     "data": {
      "image/png": "[encoded data removed]",
      "text/plain": [
       "<Figure size 720x432 with 1 Axes>"
      ]
     },
     "metadata": {},
     "output_type": "display_data"
    }
   ],
   "source": [
    "plt.figure(figsize=(10,6))\n",
    "sns.scatterplot(x=df.AveragePrice,y=df['Total Volume'])"
   ]
  },
  {
   "cell_type": "markdown",
   "metadata": {},
   "source": [
    "###### There is a more concentraion in higher AveragePrice and low TotalVolume. It means hig average price is showing effect on volume .\n"
   ]
  },
  {
   "cell_type": "code",
   "execution_count": 22,
   "metadata": {},
   "outputs": [
    {
     "data": {
      "text/plain": [
       "<matplotlib.axes._subplots.AxesSubplot at 0x1d6cf999430>"
      ]
     },
     "execution_count": 22,
     "metadata": {},
     "output_type": "execute_result"
    },
    {
     "data": {
      "image/png": "[encoded data removed]",
      "text/plain": [
       "<Figure size 1296x1008 with 1 Axes>"
      ]
     },
     "metadata": {},
     "output_type": "display_data"
    }
   ],
   "source": [
    "plt.figure(figsize=(18,14))\n",
    "sns.countplot(df['region'])"
   ]
  },
  {
   "cell_type": "code",
   "execution_count": 23,
   "metadata": {},
   "outputs": [
    {
     "data": {
      "image/png": "[encoded data removed]",
      "text/plain": [
       "<Figure size 1440x1440 with 16 Axes>"
      ]
     },
     "metadata": {},
     "output_type": "display_data"
    }
   ],
   "source": [
    "df.hist(layout=(4,4),edgecolor=\"red\",linewidth= 1.5,figsize=(20,20),bins=10,grid=True)\n",
    "plt.show()"
   ]
  },
  {
   "cell_type": "markdown",
   "metadata": {},
   "source": [
    "#### Dataset contains a lot of skewness in many columns .This to be treated before sending data into algorithm. Except the categorical features all other features contains skewness."
   ]
  },
  {
   "cell_type": "code",
   "execution_count": 24,
   "metadata": {},
   "outputs": [
    {
     "data": {
      "text/plain": [
       "Index(['AveragePrice', 'Total Volume', '4046', '4225', '4770', 'Total Bags',\n",
       "       'Small Bags', 'Large Bags', 'XLarge Bags', 'type', 'year', 'region',\n",
       "       'Month'],\n",
       "      dtype='object')"
      ]
     },
     "execution_count": 24,
     "metadata": {},
     "output_type": "execute_result"
    }
   ],
   "source": [
    "df.columns"
   ]
  },
  {
   "cell_type": "code",
   "execution_count": 25,
   "metadata": {},
   "outputs": [],
   "source": [
    "from scipy.stats import skew"
   ]
  },
  {
   "cell_type": "code",
   "execution_count": 26,
   "metadata": {},
   "outputs": [
    {
     "data": {
      "text/plain": [
       "AveragePrice   -0.109444\n",
       "Total Volume    6.200138\n",
       "4046            6.051830\n",
       "4225            6.394926\n",
       "4770            5.405164\n",
       "Total Bags      5.366378\n",
       "Small Bags      5.355185\n",
       "Large Bags      5.144495\n",
       "XLarge Bags     5.775077\n",
       "type            0.000000\n",
       "year            1.828332\n",
       "region          0.288146\n",
       "Month           0.233418\n",
       "dtype: float64"
      ]
     },
     "execution_count": 26,
     "metadata": {},
     "output_type": "execute_result"
    }
   ],
   "source": [
    "df.skew()"
   ]
  },
  {
   "cell_type": "code",
   "execution_count": 27,
   "metadata": {},
   "outputs": [],
   "source": [
    "#Removing skewness\n",
    "for i in df.columns:\n",
    "    if df[i].skew()>0.5:\n",
    "        df[i]=np.log1p(df[i])\n",
    "    if df[i].skew()<0.5:\n",
    "        df[i]=np.sqrt(df[i])"
   ]
  },
  {
   "cell_type": "code",
   "execution_count": 28,
   "metadata": {},
   "outputs": [
    {
     "data": {
      "text/plain": [
       "AveragePrice   -0.460428\n",
       "Total Volume    0.667468\n",
       "4046           -0.385287\n",
       "4225            0.003666\n",
       "4770           -0.789308\n",
       "Total Bags      0.695502\n",
       "Small Bags      0.713843\n",
       "Large Bags     -1.903957\n",
       "XLarge Bags     0.783913\n",
       "type            0.000000\n",
       "year            1.828332\n",
       "region         -0.273328\n",
       "Month          -0.623244\n",
       "dtype: float64"
      ]
     },
     "execution_count": 28,
     "metadata": {},
     "output_type": "execute_result"
    }
   ],
   "source": [
    "df.skew()"
   ]
  },
  {
   "cell_type": "code",
   "execution_count": 29,
   "metadata": {},
   "outputs": [
    {
     "name": "stdout",
     "output_type": "stream",
     "text": [
      "(array([ 760,  761,  763,  785,  787,  788,  789,  790,  795,  796,  807,\n",
      "       1141, 1182, 1182, 1182, 1183, 1183, 1183, 1184, 1184, 1184, 1185,\n",
      "       1185, 1185, 1186, 1186, 1186, 1187, 1188, 1188, 1188, 1189, 1189,\n",
      "       1191, 1202, 1343, 1345, 1346], dtype=int64), array([0, 0, 0, 0, 0, 0, 0, 0, 0, 0, 0, 4, 1, 5, 6, 1, 5, 6, 1, 5, 6, 1,\n",
      "       5, 6, 1, 5, 6, 6, 1, 5, 6, 1, 5, 5, 1, 4, 4, 4], dtype=int64))\n"
     ]
    }
   ],
   "source": [
    "from scipy.stats import zscore\n",
    "z =np.abs(zscore(df))\n",
    "threshold=3\n",
    "print(np.where(z>3))"
   ]
  },
  {
   "cell_type": "code",
   "execution_count": 30,
   "metadata": {},
   "outputs": [],
   "source": [
    "df_new= df[(z<3).all(axis=1)]"
   ]
  },
  {
   "cell_type": "code",
   "execution_count": 31,
   "metadata": {},
   "outputs": [
    {
     "data": {
      "text/plain": [
       "((1517, 13), (0, 13))"
      ]
     },
     "execution_count": 31,
     "metadata": {},
     "output_type": "execute_result"
    }
   ],
   "source": [
    "df.shape,df_new.shape"
   ]
  },
  {
   "cell_type": "markdown",
   "metadata": {},
   "source": [
    "#### So we can see that our dataset is composed of irrelevant data which contians outliers a lot that we cannot usee outliers techniques."
   ]
  },
  {
   "cell_type": "markdown",
   "metadata": {},
   "source": [
    "### Splitting dependent and independent variables"
   ]
  },
  {
   "cell_type": "code",
   "execution_count": 32,
   "metadata": {},
   "outputs": [],
   "source": [
    "\n",
    "y=df[['AveragePrice']]\n",
    "x=df.drop(['AveragePrice','type'],axis=1)"
   ]
  },
  {
   "cell_type": "code",
   "execution_count": 33,
   "metadata": {},
   "outputs": [],
   "source": [
    "x.features=x.columns"
   ]
  },
  {
   "cell_type": "code",
   "execution_count": 34,
   "metadata": {},
   "outputs": [
    {
     "data": {
      "text/plain": [
       "((1517, 11), (1517, 1))"
      ]
     },
     "execution_count": 34,
     "metadata": {},
     "output_type": "execute_result"
    }
   ],
   "source": [
    "x.shape, y.shape"
   ]
  },
  {
   "cell_type": "code",
   "execution_count": 35,
   "metadata": {},
   "outputs": [],
   "source": [
    "from sklearn.preprocessing import StandardScaler\n",
    "scale=StandardScaler()\n",
    "X=scale.fit_transform(x)"
   ]
  },
  {
   "cell_type": "code",
   "execution_count": 36,
   "metadata": {},
   "outputs": [
    {
     "data": {
      "text/html": [
       "<div>\n",
       "<style scoped>\n",
       "    .dataframe tbody tr th:only-of-type {\n",
       "        vertical-align: middle;\n",
       "    }\n",
       "\n",
       "    .dataframe tbody tr th {\n",
       "        vertical-align: top;\n",
       "    }\n",
       "\n",
       "    .dataframe thead th {\n",
       "        text-align: right;\n",
       "    }\n",
       "</style>\n",
       "<table border=\"1\" class=\"dataframe\">\n",
       "  <thead>\n",
       "    <tr style=\"text-align: right;\">\n",
       "      <th></th>\n",
       "      <th>Total Volume</th>\n",
       "      <th>4046</th>\n",
       "      <th>4225</th>\n",
       "      <th>4770</th>\n",
       "      <th>Total Bags</th>\n",
       "      <th>Small Bags</th>\n",
       "      <th>Large Bags</th>\n",
       "      <th>XLarge Bags</th>\n",
       "      <th>year</th>\n",
       "      <th>region</th>\n",
       "      <th>Month</th>\n",
       "    </tr>\n",
       "  </thead>\n",
       "  <tbody>\n",
       "    <tr>\n",
       "      <th>0</th>\n",
       "      <td>-1.356762</td>\n",
       "      <td>-1.942996</td>\n",
       "      <td>-0.542825</td>\n",
       "      <td>-1.929204</td>\n",
       "      <td>-1.684725</td>\n",
       "      <td>-1.539248</td>\n",
       "      <td>-0.543159</td>\n",
       "      <td>-0.810775</td>\n",
       "      <td>-0.441008</td>\n",
       "      <td>-2.028672</td>\n",
       "      <td>1.366722</td>\n",
       "    </tr>\n",
       "    <tr>\n",
       "      <th>1</th>\n",
       "      <td>-1.466387</td>\n",
       "      <td>-2.174679</td>\n",
       "      <td>-0.664989</td>\n",
       "      <td>-1.829752</td>\n",
       "      <td>-1.620123</td>\n",
       "      <td>-1.474983</td>\n",
       "      <td>-0.532160</td>\n",
       "      <td>-0.810775</td>\n",
       "      <td>-0.441008</td>\n",
       "      <td>-2.028672</td>\n",
       "      <td>1.366722</td>\n",
       "    </tr>\n",
       "  </tbody>\n",
       "</table>\n",
       "</div>"
      ],
      "text/plain": [
       "   Total Volume      4046      4225      4770  Total Bags  Small Bags  \\\n",
       "0     -1.356762 -1.942996 -0.542825 -1.929204   -1.684725   -1.539248   \n",
       "1     -1.466387 -2.174679 -0.664989 -1.829752   -1.620123   -1.474983   \n",
       "\n",
       "   Large Bags  XLarge Bags      year    region     Month  \n",
       "0   -0.543159    -0.810775 -0.441008 -2.028672  1.366722  \n",
       "1   -0.532160    -0.810775 -0.441008 -2.028672  1.366722  "
      ]
     },
     "execution_count": 36,
     "metadata": {},
     "output_type": "execute_result"
    }
   ],
   "source": [
    "x=pd.DataFrame(X,columns=x.features)\n",
    "x.head(2)"
   ]
  },
  {
   "cell_type": "markdown",
   "metadata": {},
   "source": [
    "### Splitting data  into training and testing"
   ]
  },
  {
   "cell_type": "code",
   "execution_count": 37,
   "metadata": {},
   "outputs": [],
   "source": [
    "\n",
    "x_train,x_test,y_train,y_test=train_test_split(x.values,y.values,test_size=.25,random_state=42)"
   ]
  },
  {
   "cell_type": "code",
   "execution_count": 38,
   "metadata": {},
   "outputs": [],
   "source": [
    "from sklearn.linear_model import LinearRegression,Ridge,ElasticNet,Lasso,LassoCV,RidgeCV\n",
    "from sklearn.model_selection import train_test_split\n",
    "\n",
    "from sklearn.metrics import mean_squared_error,mean_absolute_error,r2_score\n",
    "from sklearn.svm import SVR\n",
    "from sklearn.neighbors import KNeighborsRegressor\n",
    "from sklearn.tree import DecisionTreeRegressor\n",
    "from sklearn.ensemble import RandomForestRegressor\n",
    "from sklearn.model_selection import cross_val_score"
   ]
  },
  {
   "cell_type": "code",
   "execution_count": 39,
   "metadata": {},
   "outputs": [
    {
     "name": "stdout",
     "output_type": "stream",
     "text": [
      "training set score : 1.00\n",
      "test set score: 0.73\n",
      "R2 score :0.73\n",
      "\n",
      " feature importances:\n",
      "                     0\n",
      "0.412157          4046\n",
      "0.137342    Total Bags\n",
      "0.098600  Total Volume\n",
      "0.066419          4770\n",
      "0.063291    Large Bags\n",
      "0.062047          year\n",
      "0.046819          4225\n",
      "0.038450         Month\n",
      "0.034423        region\n",
      "0.031411    Small Bags\n",
      "0.009040   XLarge Bags\n"
     ]
    }
   ],
   "source": [
    "from sklearn.tree import DecisionTreeRegressor\n",
    "\n",
    "tree = DecisionTreeRegressor(max_depth=14, random_state=0).fit(x_train, y_train)\n",
    "print(\"training set score : {:.2f}\".format(tree.score(x_train, y_train)))\n",
    "print(\"test set score: {:.2f}\".format(tree.score(x_test, y_test)))\n",
    "pred=tree.predict(x_test)\n",
    "print(\"R2 score :{:.2f}\".format(r2_score(y_test,pred)))\n",
    "\n",
    "print(\"\\n\", \"feature importances:\")\n",
    "feature_importance = pd.DataFrame(list(x.keys()), tree.feature_importances_)\n",
    "print(feature_importance.sort_index(ascending=False))"
   ]
  },
  {
   "cell_type": "code",
   "execution_count": 40,
   "metadata": {},
   "outputs": [],
   "source": [
    "from sklearn.neighbors import KNeighborsRegressor\n",
    "from sklearn.ensemble import RandomForestRegressor"
   ]
  },
  {
   "cell_type": "code",
   "execution_count": 41,
   "metadata": {},
   "outputs": [],
   "source": [
    "models=[LinearRegression(), Lasso(), Ridge(), ElasticNet(), \n",
    "        SVR(), KNeighborsRegressor(), DecisionTreeRegressor(),\n",
    "         RandomForestRegressor()]"
   ]
  },
  {
   "cell_type": "code",
   "execution_count": 42,
   "metadata": {},
   "outputs": [
    {
     "name": "stdout",
     "output_type": "stream",
     "text": [
      "MAximum r2 score 0.82 at random state 432\n"
     ]
    }
   ],
   "source": [
    "# finding best random state\n",
    "max_r2=0\n",
    "max_rstate=0\n",
    "for i in range(0,500):\n",
    "    x_train,x_test,y_train,y_test=train_test_split(x.values,y.values,test_size=.25,random_state=i)\n",
    "    tree=DecisionTreeRegressor()\n",
    "    tree.fit(x_train,y_train)\n",
    "    pred=tree.predict(x_test)\n",
    "    r2=r2_score(y_test,pred)\n",
    "    if r2>max_r2:\n",
    "        max_r2=r2\n",
    "        max_rstate=i\n",
    "print(\"MAximum r2 score {:.2f} at random state {}\".format(max_r2,max_rstate))"
   ]
  },
  {
   "cell_type": "code",
   "execution_count": 43,
   "metadata": {},
   "outputs": [
    {
     "name": "stdout",
     "output_type": "stream",
     "text": [
      "Score of  LinearRegression() is  0.37297773235670906\n",
      "mean absolute error is 0.05686459505191435\n",
      "mean squared error is 0.00562270115601888\n",
      "R2 score is :  0.3821478157813758\n",
      "\n",
      "\n",
      "Score of  Lasso() is  0.0\n",
      "mean absolute error is 0.07213670629173481\n",
      "mean squared error is 0.009102342267946378\n",
      "R2 score is :  -0.00021357986205772228\n",
      "\n",
      "\n",
      "Score of  Ridge() is  0.3728318376956431\n",
      "mean absolute error is 0.05687346044656992\n",
      "mean squared error is 0.00563187781301579\n",
      "R2 score is :  0.38113943610547996\n",
      "\n",
      "\n",
      "Score of  ElasticNet() is  0.0\n",
      "mean absolute error is 0.07213670629173481\n",
      "mean squared error is 0.009102342267946378\n",
      "R2 score is :  -0.00021357986205772228\n",
      "\n",
      "\n",
      "Score of  SVR() is  0.6386646196627568\n",
      "mean absolute error is 0.047171575641169944\n",
      "mean squared error is 0.003255350217081318\n",
      "R2 score is :  0.6422848758612717\n",
      "\n",
      "\n",
      "Score of  KNeighborsRegressor() is  0.8527305306848315\n",
      "mean absolute error is 0.034938416117500065\n",
      "mean squared error is 0.0021539412430620353\n",
      "R2 score is :  0.7633135276485628\n",
      "\n",
      "\n",
      "Score of  DecisionTreeRegressor() is  1.0\n",
      "mean absolute error is 0.030995103553355705\n",
      "mean squared error is 0.001779177058764369\n",
      "R2 score is :  0.804494601194924\n",
      "\n",
      "\n",
      "Score of  RandomForestRegressor() is  0.9752287730944293\n",
      "mean absolute error is 0.026755295730204298\n",
      "mean squared error is 0.0012818151723214095\n",
      "R2 score is :  0.8591473596039192\n",
      "\n",
      "\n"
     ]
    }
   ],
   "source": [
    "score= []\n",
    "mean_abs_e=[]\n",
    "mean_sqr_e=[]\n",
    "r2=[]\n",
    "\n",
    "for m in models:\n",
    "    x_train,x_test,y_train,y_test=train_test_split(x.values,y.values,test_size=.25,random_state=432)\n",
    "    m.fit(x_train,y_train)\n",
    "    print(\"Score of \",m,\"is \",m.score(x_train,y_train))\n",
    "    score.append(m.score(x_train,y_train))\n",
    "    \n",
    "    pred=m.predict(x_test)\n",
    "    print(\"mean absolute error is\",mean_absolute_error(y_test,pred))\n",
    "    mean_abs_e.append(mean_absolute_error(y_test,pred))\n",
    "    print(\"mean squared error is\",mean_squared_error(y_test,pred))\n",
    "    mean_sqr_e.append(mean_squared_error(y_test,pred))\n",
    "    print(\"R2 score is : \",r2_score(y_test,pred))\n",
    "    r2.append(r2_score(y_test,pred))\n",
    "    print(\"\\n\")"
   ]
  },
  {
   "cell_type": "code",
   "execution_count": 44,
   "metadata": {},
   "outputs": [
    {
     "name": "stdout",
     "output_type": "stream",
     "text": [
      "Cross validation mean score of LinearRegression() is 0.07\n",
      "and standard deviation is 0.1479\n",
      "[-0.15188395  0.08955577  0.30406189  0.08991037  0.00164416]\n",
      "\n",
      "\n",
      "Cross validation mean score of Lasso() is -0.04\n",
      "and standard deviation is 0.0514\n",
      "[-0.14184232 -0.01083338 -0.01954833 -0.01738703 -0.00737263]\n",
      "\n",
      "\n",
      "Cross validation mean score of Ridge() is 0.07\n",
      "and standard deviation is 0.1438\n",
      "[-0.14030174  0.08773265  0.30208547  0.08448969  0.00098922]\n",
      "\n",
      "\n",
      "Cross validation mean score of ElasticNet() is -0.04\n",
      "and standard deviation is 0.0514\n",
      "[-0.14184232 -0.01083338 -0.01954833 -0.01738703 -0.00737263]\n",
      "\n",
      "\n",
      "Cross validation mean score of SVR() is 0.26\n",
      "and standard deviation is 0.0977\n",
      "[0.19623475 0.33229873 0.37393024 0.2840731  0.10211295]\n",
      "\n",
      "\n",
      "Cross validation mean score of KNeighborsRegressor() is 0.07\n",
      "and standard deviation is 0.1292\n",
      "[ 0.0718377  -0.05041202 -0.03560492  0.07663431  0.31065109]\n",
      "\n",
      "\n",
      "Cross validation mean score of DecisionTreeRegressor() is -0.42\n",
      "and standard deviation is 0.4321\n",
      "[-1.16563876 -0.33487628 -0.10268582 -0.55852353  0.08066653]\n",
      "\n",
      "\n",
      "Cross validation mean score of RandomForestRegressor() is 0.18\n",
      "and standard deviation is 0.2191\n",
      "[-0.07971099  0.15197207  0.53764685 -0.00690628  0.27490351]\n",
      "\n",
      "\n"
     ]
    }
   ],
   "source": [
    "mean_score=[]\n",
    "STD=[]\n",
    "cv=[]\n",
    "\n",
    "for m in(models):\n",
    "    score=cross_val_score(m,x,y,cv=5,scoring='r2')\n",
    "    print(\"Cross validation mean score of {} is {:.2f}\".format(m,score.mean()))\n",
    "    mean_score.append(score.mean())\n",
    "    print(\"and standard deviation is {:.4f}\".format(score.std()))\n",
    "    STD.append(score.std())\n",
    "    print(score)\n",
    "    print(\"\\n\")"
   ]
  },
  {
   "cell_type": "markdown",
   "metadata": {},
   "source": [
    "##### We are considering SVR as best model for our dataset as it is given more accurate results while checking for testing and training and also giving better results than other using cross validation technnique ."
   ]
  },
  {
   "cell_type": "code",
   "execution_count": 45,
   "metadata": {},
   "outputs": [],
   "source": [
    "from sklearn.model_selection import GridSearchCV"
   ]
  },
  {
   "cell_type": "code",
   "execution_count": 46,
   "metadata": {},
   "outputs": [
    {
     "name": "stdout",
     "output_type": "stream",
     "text": [
      "{'gamma': 'scale', 'kernel': 'rbf'}\n"
     ]
    }
   ],
   "source": [
    "param_grid={\"kernel\":[\"linear\",'rbf','sigmoid','poly'],\n",
    "           \"gamma\":['scale','auto']}\n",
    "svr=SVR()\n",
    "gscv = GridSearchCV(estimator=svr,param_grid=param_grid,cv=8)\n",
    "gscv.fit(x_train,y_train)\n",
    "print(gscv.best_params_)"
   ]
  },
  {
   "cell_type": "code",
   "execution_count": 47,
   "metadata": {},
   "outputs": [
    {
     "name": "stdout",
     "output_type": "stream",
     "text": [
      "0.6386646196627568\n",
      "R2Score  0.6422848758612717\n"
     ]
    }
   ],
   "source": [
    "svr = SVR(gamma= 'scale', kernel= 'rbf')\n",
    "svr.fit(x_train,y_train)\n",
    "print(svr.score(x_train,y_train))\n",
    "pred=svr.predict(x_test)\n",
    "print(\"R2Score \",r2_score(y_test,pred))"
   ]
  },
  {
   "cell_type": "code",
   "execution_count": 48,
   "metadata": {},
   "outputs": [
    {
     "data": {
      "text/plain": [
       "-0.006421527919562677"
      ]
     },
     "execution_count": 48,
     "metadata": {},
     "output_type": "execute_result"
    }
   ],
   "source": [
    "score=cross_val_score(svr,x,y,cv=5,scoring='neg_mean_squared_error')\n",
    "score.mean()"
   ]
  },
  {
   "cell_type": "markdown",
   "metadata": {},
   "source": [
    "### Saving model"
   ]
  },
  {
   "cell_type": "code",
   "execution_count": 49,
   "metadata": {},
   "outputs": [
    {
     "data": {
      "text/plain": [
       "['avocado.obj']"
      ]
     },
     "execution_count": 49,
     "metadata": {},
     "output_type": "execute_result"
    }
   ],
   "source": [
    "import joblib\n",
    "filename=\"avocado.obj\"\n",
    "joblib.dump(svr,filename)"
   ]
  },
  {
   "cell_type": "code",
   "execution_count": 50,
   "metadata": {},
   "outputs": [],
   "source": [
    "# Loading model\n",
    "model=joblib.load(filename)\n"
   ]
  },
  {
   "cell_type": "code",
   "execution_count": 51,
   "metadata": {},
   "outputs": [],
   "source": [
    "conclusion=pd.DataFrame([model.predict(x_test),y_test],index=[\"Predicted\",\"Original\"])"
   ]
  },
  {
   "cell_type": "markdown",
   "metadata": {},
   "source": [
    "## Conclusion"
   ]
  },
  {
   "cell_type": "code",
   "execution_count": 52,
   "metadata": {},
   "outputs": [
    {
     "data": {
      "text/html": [
       "<div>\n",
       "<style scoped>\n",
       "    .dataframe tbody tr th:only-of-type {\n",
       "        vertical-align: middle;\n",
       "    }\n",
       "\n",
       "    .dataframe tbody tr th {\n",
       "        vertical-align: top;\n",
       "    }\n",
       "\n",
       "    .dataframe thead th {\n",
       "        text-align: right;\n",
       "    }\n",
       "</style>\n",
       "<table border=\"1\" class=\"dataframe\">\n",
       "  <thead>\n",
       "    <tr style=\"text-align: right;\">\n",
       "      <th></th>\n",
       "      <th>0</th>\n",
       "      <th>1</th>\n",
       "      <th>2</th>\n",
       "      <th>3</th>\n",
       "      <th>4</th>\n",
       "      <th>5</th>\n",
       "      <th>6</th>\n",
       "      <th>7</th>\n",
       "      <th>8</th>\n",
       "      <th>9</th>\n",
       "      <th>...</th>\n",
       "      <th>370</th>\n",
       "      <th>371</th>\n",
       "      <th>372</th>\n",
       "      <th>373</th>\n",
       "      <th>374</th>\n",
       "      <th>375</th>\n",
       "      <th>376</th>\n",
       "      <th>377</th>\n",
       "      <th>378</th>\n",
       "      <th>379</th>\n",
       "    </tr>\n",
       "  </thead>\n",
       "  <tbody>\n",
       "    <tr>\n",
       "      <th>Predicted</th>\n",
       "      <td>1.10472</td>\n",
       "      <td>0.895233</td>\n",
       "      <td>1.08318</td>\n",
       "      <td>1.07087</td>\n",
       "      <td>0.913199</td>\n",
       "      <td>1.06723</td>\n",
       "      <td>0.988473</td>\n",
       "      <td>1.01414</td>\n",
       "      <td>1.0516</td>\n",
       "      <td>1.14925</td>\n",
       "      <td>...</td>\n",
       "      <td>1.15145</td>\n",
       "      <td>1.0628</td>\n",
       "      <td>1.03647</td>\n",
       "      <td>1.01788</td>\n",
       "      <td>0.998137</td>\n",
       "      <td>1.02863</td>\n",
       "      <td>1.04284</td>\n",
       "      <td>1.05964</td>\n",
       "      <td>1.06648</td>\n",
       "      <td>1.0333</td>\n",
       "    </tr>\n",
       "    <tr>\n",
       "      <th>Original</th>\n",
       "      <td>[1.0908712114635715]</td>\n",
       "      <td>[0.9433981132056604]</td>\n",
       "      <td>[1.140175425099138]</td>\n",
       "      <td>[1.1090536506409416]</td>\n",
       "      <td>[0.7810249675906654]</td>\n",
       "      <td>[1.03440804327886]</td>\n",
       "      <td>[1.02469507659596]</td>\n",
       "      <td>[1.0908712114635715]</td>\n",
       "      <td>[0.9797958971132712]</td>\n",
       "      <td>[1.1575836902790226]</td>\n",
       "      <td>...</td>\n",
       "      <td>[1.2124355652982142]</td>\n",
       "      <td>[1.0630145812734648]</td>\n",
       "      <td>[0.99498743710662]</td>\n",
       "      <td>[0.9848857801796105]</td>\n",
       "      <td>[1.0954451150103321]</td>\n",
       "      <td>[1.0]</td>\n",
       "      <td>[1.1135528725660044]</td>\n",
       "      <td>[1.0862780491200215]</td>\n",
       "      <td>[0.9643650760992956]</td>\n",
       "      <td>[0.9899494936611666]</td>\n",
       "    </tr>\n",
       "  </tbody>\n",
       "</table>\n",
       "<p>2 rows × 380 columns</p>\n",
       "</div>"
      ],
      "text/plain": [
       "                            0                     1                    2    \\\n",
       "Predicted               1.10472              0.895233              1.08318   \n",
       "Original   [1.0908712114635715]  [0.9433981132056604]  [1.140175425099138]   \n",
       "\n",
       "                            3                     4                   5    \\\n",
       "Predicted               1.07087              0.913199             1.06723   \n",
       "Original   [1.1090536506409416]  [0.7810249675906654]  [1.03440804327886]   \n",
       "\n",
       "                          6                     7                     8    \\\n",
       "Predicted            0.988473               1.01414                1.0516   \n",
       "Original   [1.02469507659596]  [1.0908712114635715]  [0.9797958971132712]   \n",
       "\n",
       "                            9    ...                   370  \\\n",
       "Predicted               1.14925  ...               1.15145   \n",
       "Original   [1.1575836902790226]  ...  [1.2124355652982142]   \n",
       "\n",
       "                            371                 372                   373  \\\n",
       "Predicted                1.0628             1.03647               1.01788   \n",
       "Original   [1.0630145812734648]  [0.99498743710662]  [0.9848857801796105]   \n",
       "\n",
       "                            374      375                   376  \\\n",
       "Predicted              0.998137  1.02863               1.04284   \n",
       "Original   [1.0954451150103321]    [1.0]  [1.1135528725660044]   \n",
       "\n",
       "                            377                   378                   379  \n",
       "Predicted               1.05964               1.06648                1.0333  \n",
       "Original   [1.0862780491200215]  [0.9643650760992956]  [0.9899494936611666]  \n",
       "\n",
       "[2 rows x 380 columns]"
      ]
     },
     "execution_count": 52,
     "metadata": {},
     "output_type": "execute_result"
    }
   ],
   "source": [
    "conclusion"
   ]
  },
  {
   "cell_type": "markdown",
   "metadata": {},
   "source": [
    "So here we can conclude that by using different and different methods now we are in position to do prediction,and prediction done by our model is quite good as there is less error in predicted and original result."
   ]
  },
  {
   "cell_type": "code",
   "execution_count": null,
   "metadata": {},
   "outputs": [],
   "source": []
  }
 ],
 "metadata": {
  "kernelspec": {
   "display_name": "Python 3",
   "language": "python",
   "name": "python3"
  },
  "language_info": {
   "codemirror_mode": {
    "name": "ipython",
    "version": 3
   },
   "file_extension": ".py",
   "mimetype": "text/x-python",
   "name": "python",
   "nbconvert_exporter": "python",
   "pygments_lexer": "ipython3",
   "version": "3.8.3"
  }
 },
 "nbformat": 4,
 "nbformat_minor": 4
}
